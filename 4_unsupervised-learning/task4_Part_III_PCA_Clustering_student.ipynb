{
 "cells": [
  {
   "cell_type": "markdown",
   "metadata": {},
   "source": [
    "<p style=\"font-size:32pt;\">LAMA Task No. 4: PCA and Clustering </p>\n",
    "<p style=\"font-size:32pt;\">with Samsung Human Activity Recognition Dataset</p>"
   ]
  },
  {
   "cell_type": "markdown",
   "metadata": {},
   "source": [
    "In this part of the task, we will work with the [Samsung Human Activity Recognition](https://archive.ics.uci.edu/ml/datasets/Human+Activity+Recognition+Using+Smartphones) dataset. The dataset should reside in the folder \"HAR_dataset\". The data comes from accelerometers and gyros of Samsung Galaxy S3 mobile phones (you can find more info about the features using the link above). The type of activity of a person with a phone in his/her pocket is also known – whether he/she walked, stood, lay, sat or walked up or down the stairs.\n",
    "\n",
    "First, we pretend that the type of activity is unknown to us, and we will try to cluster people purely on the basis of available features. Then, we solve the problem of determining the type of physical activity as a classification problem."
   ]
  },
  {
   "cell_type": "markdown",
   "metadata": {},
   "source": [
    "# Preparation\n",
    "\n",
    "We import the necessary libraries Pandas, Seaborn, Numpy. From scikit-learn, import the metrics, KMeans, PCA, GridSearchCV, StandardScaler and some other necessary imports and definitions."
   ]
  },
  {
   "cell_type": "code",
   "execution_count": 1,
   "metadata": {
    "scrolled": true
   },
   "outputs": [],
   "source": [
    "import numpy as np\n",
    "import pandas as pd\n",
    "import seaborn as sns\n",
    "import matplotlib.pyplot as plt\n",
    "from sklearn import metrics\n",
    "from sklearn.cluster import KMeans\n",
    "from sklearn.decomposition import PCA\n",
    "from sklearn.model_selection import GridSearchCV\n",
    "from sklearn.preprocessing import StandardScaler\n",
    "\n",
    "import os\n",
    "from sklearn.tree import DecisionTreeClassifier\n",
    "from sklearn import neighbors\n",
    "%matplotlib inline\n",
    "plt.style.use(['seaborn-darkgrid'])\n",
    "plt.rcParams['figure.figsize'] = (12, 9)\n",
    "plt.rcParams['font.family'] = 'DejaVu Sans'\n",
    "\n",
    "#Define a fixed random state\n",
    "RANDOM_STATE = 17"
   ]
  },
  {
   "cell_type": "markdown",
   "metadata": {},
   "source": [
    "## Import your dataset\n",
    "\n",
    "Let's proceed with importing our dataset. Load both the training and test data as well as the corresponding labels. Tip: Numpy has a function to load text files. Load the labels as integer type."
   ]
  },
  {
   "cell_type": "code",
   "execution_count": 3,
   "metadata": {
    "scrolled": true
   },
   "outputs": [],
   "source": [
    "### STUDENT CODE HERE\n",
    "\n",
    "X_test = np.genfromtxt('HAR_dataset\\X_test.txt', dtype=None, missing_values='NaN')\n",
    "X_train = np.genfromtxt('HAR_dataset\\X_train.txt', dtype=None, missing_values='NaN')\n",
    "y_test = np.genfromtxt('HAR_dataset\\y_test.txt', dtype=int, missing_values='NaN')\n",
    "y_train = np.genfromtxt('HAR_dataset\\y_train.txt', dtype=int, missing_values='NaN')\n",
    "\n",
    "### STUDENT CODE until HERE"
   ]
  },
  {
   "cell_type": "markdown",
   "metadata": {},
   "source": [
    "Check if the dimensions of the dataset are correct."
   ]
  },
  {
   "cell_type": "code",
   "execution_count": 4,
   "metadata": {
    "scrolled": true
   },
   "outputs": [],
   "source": [
    "# Checking dimensions\n",
    "assert(X_train.shape == (7352, 561) and y_train.shape == (7352,))\n",
    "assert(X_test.shape == (2947, 561) and y_test.shape == (2947,))"
   ]
  },
  {
   "cell_type": "markdown",
   "metadata": {},
   "source": [
    "## Data Understanding\n",
    "\n",
    "Now after we loaded the data, we want to get a quick understanding of our dataset. \n",
    "\n",
    "**Question:** How many observations and features do we have? How many of the features are numeric? Do we have missing values?\n",
    "\n",
    "**Answer:** We have 7352 observations in the training data and 2947 observations in the test data. Both datasets have 561 features. All features are numeric. There are no missing values.\n"
   ]
  },
  {
   "cell_type": "code",
   "execution_count": 12,
   "metadata": {},
   "outputs": [
    {
     "name": "stdout",
     "output_type": "stream",
     "text": [
      "float64\n",
      "float64\n",
      "0\n",
      "0\n",
      "0\n",
      "0\n"
     ]
    }
   ],
   "source": [
    "### STUDENT CODE HERE\n",
    "\n",
    "print(X_test.dtype)\n",
    "print(X_train.dtype)\n",
    "print(np.isnan(X_test).sum())\n",
    "print(np.isnan(X_train).sum())\n",
    "print(np.isnan(y_test).sum())\n",
    "print(np.isnan(y_train).sum())\n",
    "\n",
    "### STUDENT CODE until HERE"
   ]
  },
  {
   "cell_type": "markdown",
   "metadata": {},
   "source": [
    "Now we load the feature names of the file \"features.txt\". For clustering, we do not need a target vector, so in the beginning we'll work with the combination of training and test samples. The following code merges `X_train` with `X_test`, and `y_train` with `y_test`. Afterwards the merged data `X_train` with `X_test` is put in one dataframe with the specified feature names. "
   ]
  },
  {
   "cell_type": "code",
   "execution_count": 13,
   "metadata": {
    "scrolled": false
   },
   "outputs": [],
   "source": [
    "featureNames = np.loadtxt(\"HAR_dataset/features.txt\",dtype=str)\n",
    "X = pd.DataFrame(data = np.vstack((X_train,X_test)),columns=featureNames)\n",
    "y = pd.Series(data = np.concatenate((y_train,y_test)),name='label')"
   ]
  },
  {
   "cell_type": "code",
   "execution_count": 14,
   "metadata": {
    "scrolled": true
   },
   "outputs": [],
   "source": [
    "# Checking dimensions\n",
    "assert(X.shape == (7352+2947, 561))\n",
    "assert(y.shape == (7352+2947, ))\n"
   ]
  },
  {
   "cell_type": "markdown",
   "metadata": {},
   "source": [
    "Use a method you learned before to get a summary of the numeric values. \n",
    "\n",
    "**Question:** What can we see from that summary? Especially, have a look on scaling or centering.\n",
    "\n",
    "**Answer:** All values are between -1 and 1. The data is normalized but not mean-centered.\n"
   ]
  },
  {
   "cell_type": "code",
   "execution_count": 15,
   "metadata": {
    "scrolled": false
   },
   "outputs": [
    {
     "data": {
      "text/html": [
       "<div>\n",
       "<style scoped>\n",
       "    .dataframe tbody tr th:only-of-type {\n",
       "        vertical-align: middle;\n",
       "    }\n",
       "\n",
       "    .dataframe tbody tr th {\n",
       "        vertical-align: top;\n",
       "    }\n",
       "\n",
       "    .dataframe thead th {\n",
       "        text-align: right;\n",
       "    }\n",
       "</style>\n",
       "<table border=\"1\" class=\"dataframe\">\n",
       "  <thead>\n",
       "    <tr style=\"text-align: right;\">\n",
       "      <th></th>\n",
       "      <th>(1, tBodyAcc-mean()-X)</th>\n",
       "      <th>(2, tBodyAcc-mean()-Y)</th>\n",
       "      <th>(3, tBodyAcc-mean()-Z)</th>\n",
       "      <th>(4, tBodyAcc-std()-X)</th>\n",
       "      <th>(5, tBodyAcc-std()-Y)</th>\n",
       "      <th>(6, tBodyAcc-std()-Z)</th>\n",
       "      <th>(7, tBodyAcc-mad()-X)</th>\n",
       "      <th>(8, tBodyAcc-mad()-Y)</th>\n",
       "      <th>(9, tBodyAcc-mad()-Z)</th>\n",
       "      <th>(10, tBodyAcc-max()-X)</th>\n",
       "      <th>...</th>\n",
       "      <th>(552, fBodyBodyGyroJerkMag-meanFreq())</th>\n",
       "      <th>(553, fBodyBodyGyroJerkMag-skewness())</th>\n",
       "      <th>(554, fBodyBodyGyroJerkMag-kurtosis())</th>\n",
       "      <th>(555, angle(tBodyAccMean,gravity))</th>\n",
       "      <th>(556, angle(tBodyAccJerkMean),gravityMean))</th>\n",
       "      <th>(557, angle(tBodyGyroMean,gravityMean))</th>\n",
       "      <th>(558, angle(tBodyGyroJerkMean,gravityMean))</th>\n",
       "      <th>(559, angle(X,gravityMean))</th>\n",
       "      <th>(560, angle(Y,gravityMean))</th>\n",
       "      <th>(561, angle(Z,gravityMean))</th>\n",
       "    </tr>\n",
       "  </thead>\n",
       "  <tbody>\n",
       "    <tr>\n",
       "      <th>count</th>\n",
       "      <td>10299.000000</td>\n",
       "      <td>10299.000000</td>\n",
       "      <td>10299.000000</td>\n",
       "      <td>10299.000000</td>\n",
       "      <td>10299.000000</td>\n",
       "      <td>10299.000000</td>\n",
       "      <td>10299.000000</td>\n",
       "      <td>10299.000000</td>\n",
       "      <td>10299.000000</td>\n",
       "      <td>10299.000000</td>\n",
       "      <td>...</td>\n",
       "      <td>10299.000000</td>\n",
       "      <td>10299.000000</td>\n",
       "      <td>10299.000000</td>\n",
       "      <td>10299.000000</td>\n",
       "      <td>10299.000000</td>\n",
       "      <td>10299.000000</td>\n",
       "      <td>10299.000000</td>\n",
       "      <td>10299.000000</td>\n",
       "      <td>10299.000000</td>\n",
       "      <td>10299.000000</td>\n",
       "    </tr>\n",
       "    <tr>\n",
       "      <th>mean</th>\n",
       "      <td>0.274347</td>\n",
       "      <td>-0.017743</td>\n",
       "      <td>-0.108925</td>\n",
       "      <td>-0.607784</td>\n",
       "      <td>-0.510191</td>\n",
       "      <td>-0.613064</td>\n",
       "      <td>-0.633593</td>\n",
       "      <td>-0.525697</td>\n",
       "      <td>-0.614989</td>\n",
       "      <td>-0.466732</td>\n",
       "      <td>...</td>\n",
       "      <td>0.126708</td>\n",
       "      <td>-0.298592</td>\n",
       "      <td>-0.617700</td>\n",
       "      <td>0.007705</td>\n",
       "      <td>0.002648</td>\n",
       "      <td>0.017683</td>\n",
       "      <td>-0.009219</td>\n",
       "      <td>-0.496522</td>\n",
       "      <td>0.063255</td>\n",
       "      <td>-0.054284</td>\n",
       "    </tr>\n",
       "    <tr>\n",
       "      <th>std</th>\n",
       "      <td>0.067628</td>\n",
       "      <td>0.037128</td>\n",
       "      <td>0.053033</td>\n",
       "      <td>0.438694</td>\n",
       "      <td>0.500240</td>\n",
       "      <td>0.403657</td>\n",
       "      <td>0.413333</td>\n",
       "      <td>0.484201</td>\n",
       "      <td>0.399034</td>\n",
       "      <td>0.538707</td>\n",
       "      <td>...</td>\n",
       "      <td>0.245443</td>\n",
       "      <td>0.320199</td>\n",
       "      <td>0.308796</td>\n",
       "      <td>0.336591</td>\n",
       "      <td>0.447364</td>\n",
       "      <td>0.616188</td>\n",
       "      <td>0.484770</td>\n",
       "      <td>0.511158</td>\n",
       "      <td>0.305468</td>\n",
       "      <td>0.268898</td>\n",
       "    </tr>\n",
       "    <tr>\n",
       "      <th>min</th>\n",
       "      <td>-1.000000</td>\n",
       "      <td>-1.000000</td>\n",
       "      <td>-1.000000</td>\n",
       "      <td>-1.000000</td>\n",
       "      <td>-1.000000</td>\n",
       "      <td>-1.000000</td>\n",
       "      <td>-1.000000</td>\n",
       "      <td>-1.000000</td>\n",
       "      <td>-1.000000</td>\n",
       "      <td>-1.000000</td>\n",
       "      <td>...</td>\n",
       "      <td>-1.000000</td>\n",
       "      <td>-1.000000</td>\n",
       "      <td>-1.000000</td>\n",
       "      <td>-1.000000</td>\n",
       "      <td>-1.000000</td>\n",
       "      <td>-1.000000</td>\n",
       "      <td>-1.000000</td>\n",
       "      <td>-1.000000</td>\n",
       "      <td>-1.000000</td>\n",
       "      <td>-1.000000</td>\n",
       "    </tr>\n",
       "    <tr>\n",
       "      <th>25%</th>\n",
       "      <td>0.262625</td>\n",
       "      <td>-0.024902</td>\n",
       "      <td>-0.121019</td>\n",
       "      <td>-0.992360</td>\n",
       "      <td>-0.976990</td>\n",
       "      <td>-0.979137</td>\n",
       "      <td>-0.993293</td>\n",
       "      <td>-0.977017</td>\n",
       "      <td>-0.979064</td>\n",
       "      <td>-0.935788</td>\n",
       "      <td>...</td>\n",
       "      <td>-0.019481</td>\n",
       "      <td>-0.536174</td>\n",
       "      <td>-0.841847</td>\n",
       "      <td>-0.124694</td>\n",
       "      <td>-0.287031</td>\n",
       "      <td>-0.493108</td>\n",
       "      <td>-0.389041</td>\n",
       "      <td>-0.817288</td>\n",
       "      <td>0.002151</td>\n",
       "      <td>-0.131880</td>\n",
       "    </tr>\n",
       "    <tr>\n",
       "      <th>50%</th>\n",
       "      <td>0.277174</td>\n",
       "      <td>-0.017162</td>\n",
       "      <td>-0.108596</td>\n",
       "      <td>-0.943030</td>\n",
       "      <td>-0.835032</td>\n",
       "      <td>-0.850773</td>\n",
       "      <td>-0.948244</td>\n",
       "      <td>-0.843670</td>\n",
       "      <td>-0.845068</td>\n",
       "      <td>-0.874825</td>\n",
       "      <td>...</td>\n",
       "      <td>0.136245</td>\n",
       "      <td>-0.335160</td>\n",
       "      <td>-0.703402</td>\n",
       "      <td>0.008146</td>\n",
       "      <td>0.007668</td>\n",
       "      <td>0.017192</td>\n",
       "      <td>-0.007186</td>\n",
       "      <td>-0.715631</td>\n",
       "      <td>0.182028</td>\n",
       "      <td>-0.003882</td>\n",
       "    </tr>\n",
       "    <tr>\n",
       "      <th>75%</th>\n",
       "      <td>0.288354</td>\n",
       "      <td>-0.010625</td>\n",
       "      <td>-0.097589</td>\n",
       "      <td>-0.250293</td>\n",
       "      <td>-0.057336</td>\n",
       "      <td>-0.278737</td>\n",
       "      <td>-0.302033</td>\n",
       "      <td>-0.087405</td>\n",
       "      <td>-0.288149</td>\n",
       "      <td>-0.014641</td>\n",
       "      <td>...</td>\n",
       "      <td>0.288960</td>\n",
       "      <td>-0.113167</td>\n",
       "      <td>-0.487981</td>\n",
       "      <td>0.149005</td>\n",
       "      <td>0.291490</td>\n",
       "      <td>0.536137</td>\n",
       "      <td>0.365996</td>\n",
       "      <td>-0.521503</td>\n",
       "      <td>0.250790</td>\n",
       "      <td>0.102970</td>\n",
       "    </tr>\n",
       "    <tr>\n",
       "      <th>max</th>\n",
       "      <td>1.000000</td>\n",
       "      <td>1.000000</td>\n",
       "      <td>1.000000</td>\n",
       "      <td>1.000000</td>\n",
       "      <td>1.000000</td>\n",
       "      <td>1.000000</td>\n",
       "      <td>1.000000</td>\n",
       "      <td>1.000000</td>\n",
       "      <td>1.000000</td>\n",
       "      <td>1.000000</td>\n",
       "      <td>...</td>\n",
       "      <td>1.000000</td>\n",
       "      <td>1.000000</td>\n",
       "      <td>1.000000</td>\n",
       "      <td>1.000000</td>\n",
       "      <td>1.000000</td>\n",
       "      <td>1.000000</td>\n",
       "      <td>1.000000</td>\n",
       "      <td>1.000000</td>\n",
       "      <td>1.000000</td>\n",
       "      <td>1.000000</td>\n",
       "    </tr>\n",
       "  </tbody>\n",
       "</table>\n",
       "<p>8 rows × 561 columns</p>\n",
       "</div>"
      ],
      "text/plain": [
       "       (1, tBodyAcc-mean()-X)  (2, tBodyAcc-mean()-Y)  (3, tBodyAcc-mean()-Z)  \\\n",
       "count            10299.000000            10299.000000            10299.000000   \n",
       "mean                 0.274347               -0.017743               -0.108925   \n",
       "std                  0.067628                0.037128                0.053033   \n",
       "min                 -1.000000               -1.000000               -1.000000   \n",
       "25%                  0.262625               -0.024902               -0.121019   \n",
       "50%                  0.277174               -0.017162               -0.108596   \n",
       "75%                  0.288354               -0.010625               -0.097589   \n",
       "max                  1.000000                1.000000                1.000000   \n",
       "\n",
       "       (4, tBodyAcc-std()-X)  (5, tBodyAcc-std()-Y)  (6, tBodyAcc-std()-Z)  \\\n",
       "count           10299.000000           10299.000000           10299.000000   \n",
       "mean               -0.607784              -0.510191              -0.613064   \n",
       "std                 0.438694               0.500240               0.403657   \n",
       "min                -1.000000              -1.000000              -1.000000   \n",
       "25%                -0.992360              -0.976990              -0.979137   \n",
       "50%                -0.943030              -0.835032              -0.850773   \n",
       "75%                -0.250293              -0.057336              -0.278737   \n",
       "max                 1.000000               1.000000               1.000000   \n",
       "\n",
       "       (7, tBodyAcc-mad()-X)  (8, tBodyAcc-mad()-Y)  (9, tBodyAcc-mad()-Z)  \\\n",
       "count           10299.000000           10299.000000           10299.000000   \n",
       "mean               -0.633593              -0.525697              -0.614989   \n",
       "std                 0.413333               0.484201               0.399034   \n",
       "min                -1.000000              -1.000000              -1.000000   \n",
       "25%                -0.993293              -0.977017              -0.979064   \n",
       "50%                -0.948244              -0.843670              -0.845068   \n",
       "75%                -0.302033              -0.087405              -0.288149   \n",
       "max                 1.000000               1.000000               1.000000   \n",
       "\n",
       "       (10, tBodyAcc-max()-X)  ...  (552, fBodyBodyGyroJerkMag-meanFreq())  \\\n",
       "count            10299.000000  ...                            10299.000000   \n",
       "mean                -0.466732  ...                                0.126708   \n",
       "std                  0.538707  ...                                0.245443   \n",
       "min                 -1.000000  ...                               -1.000000   \n",
       "25%                 -0.935788  ...                               -0.019481   \n",
       "50%                 -0.874825  ...                                0.136245   \n",
       "75%                 -0.014641  ...                                0.288960   \n",
       "max                  1.000000  ...                                1.000000   \n",
       "\n",
       "       (553, fBodyBodyGyroJerkMag-skewness())  \\\n",
       "count                            10299.000000   \n",
       "mean                                -0.298592   \n",
       "std                                  0.320199   \n",
       "min                                 -1.000000   \n",
       "25%                                 -0.536174   \n",
       "50%                                 -0.335160   \n",
       "75%                                 -0.113167   \n",
       "max                                  1.000000   \n",
       "\n",
       "       (554, fBodyBodyGyroJerkMag-kurtosis())  \\\n",
       "count                            10299.000000   \n",
       "mean                                -0.617700   \n",
       "std                                  0.308796   \n",
       "min                                 -1.000000   \n",
       "25%                                 -0.841847   \n",
       "50%                                 -0.703402   \n",
       "75%                                 -0.487981   \n",
       "max                                  1.000000   \n",
       "\n",
       "       (555, angle(tBodyAccMean,gravity))  \\\n",
       "count                        10299.000000   \n",
       "mean                             0.007705   \n",
       "std                              0.336591   \n",
       "min                             -1.000000   \n",
       "25%                             -0.124694   \n",
       "50%                              0.008146   \n",
       "75%                              0.149005   \n",
       "max                              1.000000   \n",
       "\n",
       "       (556, angle(tBodyAccJerkMean),gravityMean))  \\\n",
       "count                                 10299.000000   \n",
       "mean                                      0.002648   \n",
       "std                                       0.447364   \n",
       "min                                      -1.000000   \n",
       "25%                                      -0.287031   \n",
       "50%                                       0.007668   \n",
       "75%                                       0.291490   \n",
       "max                                       1.000000   \n",
       "\n",
       "       (557, angle(tBodyGyroMean,gravityMean))  \\\n",
       "count                             10299.000000   \n",
       "mean                                  0.017683   \n",
       "std                                   0.616188   \n",
       "min                                  -1.000000   \n",
       "25%                                  -0.493108   \n",
       "50%                                   0.017192   \n",
       "75%                                   0.536137   \n",
       "max                                   1.000000   \n",
       "\n",
       "       (558, angle(tBodyGyroJerkMean,gravityMean))  \\\n",
       "count                                 10299.000000   \n",
       "mean                                     -0.009219   \n",
       "std                                       0.484770   \n",
       "min                                      -1.000000   \n",
       "25%                                      -0.389041   \n",
       "50%                                      -0.007186   \n",
       "75%                                       0.365996   \n",
       "max                                       1.000000   \n",
       "\n",
       "       (559, angle(X,gravityMean))  (560, angle(Y,gravityMean))  \\\n",
       "count                 10299.000000                 10299.000000   \n",
       "mean                     -0.496522                     0.063255   \n",
       "std                       0.511158                     0.305468   \n",
       "min                      -1.000000                    -1.000000   \n",
       "25%                      -0.817288                     0.002151   \n",
       "50%                      -0.715631                     0.182028   \n",
       "75%                      -0.521503                     0.250790   \n",
       "max                       1.000000                     1.000000   \n",
       "\n",
       "       (561, angle(Z,gravityMean))  \n",
       "count                 10299.000000  \n",
       "mean                     -0.054284  \n",
       "std                       0.268898  \n",
       "min                      -1.000000  \n",
       "25%                      -0.131880  \n",
       "50%                      -0.003882  \n",
       "75%                       0.102970  \n",
       "max                       1.000000  \n",
       "\n",
       "[8 rows x 561 columns]"
      ]
     },
     "execution_count": 15,
     "metadata": {},
     "output_type": "execute_result"
    }
   ],
   "source": [
    "### STUDENT CODE HERE\n",
    "\n",
    "X.describe()\n",
    "\n",
    "### STUDENT CODE until HERE"
   ]
  },
  {
   "cell_type": "markdown",
   "metadata": {},
   "source": [
    "# Data Visualization and Reduction with PCA\n",
    "\n",
    "As we have seen, the dataset contains more than 500 columns (features). It is not possible to show all of the data. We won't be able to see or recognize anything, if we try to plot a distribution or histograms of all features. Besides that, we also don't know which columns may be interesting. But, what luck we learned a method to visualize datasets with such a high dimension: PCA!"
   ]
  },
  {
   "cell_type": "markdown",
   "metadata": {},
   "source": [
    "**Question**: What type of scaling do we have to perform to fulfill the requirements of PCA? Perform the necessary step.\n",
    "\n",
    "**Answer:** The dataset has to be mean-centered.\n"
   ]
  },
  {
   "cell_type": "code",
   "execution_count": 16,
   "metadata": {
    "scrolled": true
   },
   "outputs": [],
   "source": [
    "### STUDENT CODE HERE\n",
    "\n",
    "X_centered = X - X.mean()\n",
    "\n",
    "### STUDENT CODE until HERE\n"
   ]
  },
  {
   "cell_type": "markdown",
   "metadata": {},
   "source": [
    "Now copy the function to plot the accumulated variance of the principal components you wrote in the beginning of the task. Modify the plotting function such that only 100 features are displayed."
   ]
  },
  {
   "cell_type": "code",
   "execution_count": 123,
   "metadata": {
    "scrolled": true
   },
   "outputs": [
    {
     "data": {
      "image/png": "[encoded data removed]",
      "text/plain": [
       "<Figure size 1440x504 with 1 Axes>"
      ]
     },
     "metadata": {
      "needs_background": "light"
     },
     "output_type": "display_data"
    }
   ],
   "source": [
    "### STUDENT CODE HERE\n",
    "\n",
    "def plotPCAVariance(var_exp, X):\n",
    "    #STUDENT CODE HERE\n",
    "    \n",
    "    cum_var_exp = [sum(var_exp[:(i+1)]) for i in range(len(var_exp))]\n",
    "    \n",
    "    #STUDENT CODE until HERE\n",
    "    \n",
    "    #plotting individual explained variance is given\n",
    "    fig = plt.figure(figsize=(20,7))\n",
    "    ax = fig.add_axes([0.1, 0.1, 0.9, 0.9])\n",
    "    ax.bar(range(1, 100+1), var_exp, alpha=0.5, align='center',\n",
    "        label='individual explained variance')\n",
    "    ax.set_ylabel('Explained variance ratio')\n",
    "    ax.set_xlabel('Principal component index')    \n",
    "    ax.set_xlim(0.5, 100+0.5)\n",
    "    ax.set_yticks(np.arange(0, 1.1, 0.1))\n",
    "    ax.set_xticks(np.arange(1,100+1,1))\n",
    "\n",
    "    #plotting\n",
    "    ax.step(range(1, 100+1), cum_var_exp, where='mid',\n",
    "         label='cumulative explained variance')\n",
    "    ax.legend(loc='best')\n",
    "    return fig, ax\n",
    "\n",
    "#  fit to centered data with k=Number of Features\n",
    "pca = PCA(n_components=100).fit(X_centered)\n",
    "# get explained variance\n",
    "var_exp = pca.explained_variance_ratio_\n",
    "#plot\n",
    "fig, ax = plotPCAVariance(var_exp, X_centered)\n",
    "\n",
    "### STUDENT CODE until HERE"
   ]
  },
  {
   "cell_type": "markdown",
   "metadata": {},
   "source": [
    "Use the sklearn-PCA to calculate the transformation with all the variables. At first we don't specify a number of components we want to retain or a ratio of explained variance. Plot the variance using your function from above."
   ]
  },
  {
   "cell_type": "code",
   "execution_count": 25,
   "metadata": {
    "scrolled": true
   },
   "outputs": [
    {
     "data": {
      "image/png": "[encoded data removed]",
      "text/plain": [
       "<Figure size 1440x360 with 1 Axes>"
      ]
     },
     "metadata": {
      "needs_background": "light"
     },
     "output_type": "display_data"
    }
   ],
   "source": [
    "### STUDENT CODE HERE\n",
    "def plotPCAVariance(var_exp, X):\n",
    "    \n",
    "    cum_var_exp = [sum(var_exp[0:i+1]) for i in range(len(var_exp))]\n",
    "    \n",
    "    #plotting individual explained variance is given\n",
    "    fig = plt.figure(figsize=(20,5))\n",
    "    ax = fig.add_axes([0.1, 0.1, 0.9, 0.9])\n",
    "    ax.bar(range(1, X.shape[1]+1), var_exp, alpha=0.5, align='center',\n",
    "        label='individual explained variance')\n",
    "    ax.set_ylabel('Explained variance ratio')\n",
    "    ax.set_xlabel('Principal component index')    \n",
    "    ax.set_xlim(0.5, X.shape[1]+0.5)\n",
    "    ax.set_yticks(np.arange(0, 1.1, 0.1))\n",
    "    ax.set_xticks(np.arange(1,X.shape[1]+1,1))\n",
    "\n",
    "    # plotting\n",
    "    ax.step(range(1, X.shape[1]+1), cum_var_exp, where='mid',\n",
    "         label='cumulative explained variance')\n",
    "    ax.legend(loc='best')\n",
    "    return fig, ax\n",
    "\n",
    "pca = PCA().fit(X_centered)\n",
    "var_exp = pca.explained_variance_ratio_\n",
    "fig, ax = plotPCAVariance(var_exp, X_centered)\n",
    "### STUDENT CODE until HERE"
   ]
  },
  {
   "cell_type": "markdown",
   "metadata": {},
   "source": [
    "**Task:** Now, reduce the number of dimensions using PCA, leaving as many components as necessary to explain at least 90% of the variance of the data. Use the scaled dataset and set a fixed `random_state` (use the RANDOM_STATE constant)."
   ]
  },
  {
   "cell_type": "code",
   "execution_count": 41,
   "metadata": {
    "scrolled": true
   },
   "outputs": [
    {
     "name": "stdout",
     "output_type": "stream",
     "text": [
      "36\n",
      "0.9021695884208629\n"
     ]
    }
   ],
   "source": [
    "### STUDENT CODE HERE\n",
    "\n",
    "pca = PCA(n_components=0.9 ,svd_solver='full', random_state=RANDOM_STATE)\n",
    "pca.fit(X_centered)\n",
    "var_exp = pca.explained_variance_ratio_\n",
    "print(len(var_exp))\n",
    "\n",
    "#total explained variance\n",
    "cum_var_exp = sum(var_exp) \n",
    "print(cum_var_exp)\n",
    "\n",
    "### STUDENT CODE until HERE"
   ]
  },
  {
   "cell_type": "markdown",
   "metadata": {},
   "source": [
    "**Question: What is the minimum number of principal components required to cover the 90% of the variance of the data?**\n",
    "\n",
    "**Answer:**  The minimum number of principal component required to cover at least 90% is 36.\n"
   ]
  },
  {
   "cell_type": "markdown",
   "metadata": {},
   "source": [
    "   "
   ]
  },
  {
   "cell_type": "markdown",
   "metadata": {},
   "source": [
    "**Question: What percentage of the variance is covered by the first principal component? Round to the nearest percent.**\n",
    "\n",
    "**Answer:** The first principal component covers 62% of the variance.\n"
   ]
  },
  {
   "cell_type": "code",
   "execution_count": 124,
   "metadata": {
    "scrolled": true
   },
   "outputs": [
    {
     "name": "stdout",
     "output_type": "stream",
     "text": [
      "62 %\n"
     ]
    }
   ],
   "source": [
    "### STUDENT CODE HERE\n",
    "\n",
    "pca = PCA(n_components=1, random_state=RANDOM_STATE)\n",
    "pca.fit(X_centered)\n",
    "var_exp = pca.explained_variance_ratio_\n",
    "print(\"%.0f %%\"%(var_exp[0]*100))\n",
    "\n",
    "### STUDENT CODE until HERE"
   ]
  },
  {
   "cell_type": "markdown",
   "metadata": {},
   "source": [
    "**Task:** Visualize the data in projection on the first two principal components."
   ]
  },
  {
   "cell_type": "code",
   "execution_count": 56,
   "metadata": {
    "scrolled": true
   },
   "outputs": [
    {
     "data": {
      "image/png": "[encoded data removed]",
      "text/plain": [
       "<Figure size 720x504 with 1 Axes>"
      ]
     },
     "metadata": {
      "needs_background": "light"
     },
     "output_type": "display_data"
    }
   ],
   "source": [
    "### STUDENT CODE HERE \n",
    "\n",
    "pca = PCA(n_components=2, random_state=RANDOM_STATE)\n",
    "X_pca = pca.fit_transform(X_centered)\n",
    "\n",
    "plt.figure(figsize=(10,7))\n",
    "plt.scatter(X_pca[:, 0], X_pca[:, 1], s=20)\n",
    "plt.xlabel('PC 1')\n",
    "plt.ylabel('PC 2')\n",
    "plt.show()\n",
    "\n",
    "### STUDENT CODE until HERE"
   ]
  },
  {
   "cell_type": "markdown",
   "metadata": {},
   "source": [
    "**Question:** Describe the plot results. What can we conclude looking at the results? What is the benefit of PCA?\n",
    "\n",
    "**Answer:** The data has a lot of variance on the chosen axes.  The benefit of PCA is that we can keep a lot of variance in our data without having to work with unnecessary details.\n"
   ]
  },
  {
   "cell_type": "markdown",
   "metadata": {},
   "source": [
    "# Clustering\n",
    "Perform clustering with the `KMeans` method, training the model on data with reduced dimensionality (by PCA).  As a first try, we will look for the number of clusters we see with naked eye. In general case we will not know how many clusters we should be looking for.\n",
    "\n",
    "Parameters of the K-Means Algorithm:\n",
    "\n",
    "- ** n_clusters ** = as noted above\n",
    "- ** n_init ** = 100\n",
    "- ** random_state ** = RANDOM_STATE (for reproducibility of the result)\n",
    "\n",
    "Other parameters should have default values."
   ]
  },
  {
   "cell_type": "code",
   "execution_count": 58,
   "metadata": {
    "scrolled": true
   },
   "outputs": [],
   "source": [
    "### STUDENT CODE HERE\n",
    "\n",
    "kmeans = KMeans(n_clusters=2, n_init=100, random_state= RANDOM_STATE ,init='k-means++').fit(X_pca)\n",
    "\n",
    "labels_pred = kmeans.predict(X_pca)\n",
    "\n",
    "### STUDENT CODE until HERE"
   ]
  },
  {
   "cell_type": "markdown",
   "metadata": {},
   "source": [
    "Visualize your results using the predicted cluster labels as the color of your plot."
   ]
  },
  {
   "cell_type": "code",
   "execution_count": 59,
   "metadata": {
    "scrolled": true
   },
   "outputs": [
    {
     "data": {
      "image/png": "[encoded data removed]",
      "text/plain": [
       "<Figure size 720x504 with 1 Axes>"
      ]
     },
     "metadata": {
      "needs_background": "light"
     },
     "output_type": "display_data"
    }
   ],
   "source": [
    "### STUDENT CODE HERE\n",
    "\n",
    "plt.figure(figsize=(10,7))\n",
    "plt.scatter(X_pca[:, 0], X_pca[:, 1], c=labels_pred, s=20, cmap='viridis');\n",
    "plt.show()\n",
    "\n",
    "### STUDENT CODE until HERE"
   ]
  },
  {
   "cell_type": "markdown",
   "metadata": {},
   "source": [
    "**Question:**\n",
    "What is your interpretation of the clustering result? Describe the plot.\n",
    "\n",
    "**Answer:** Just by looking at the previous plot, I would have clustered the data in the same way.\n"
   ]
  },
  {
   "cell_type": "markdown",
   "metadata": {},
   "source": [
    "## Varying the number of clusters\n",
    "\n",
    "Our first estimate of the number of clusters led to a nice result. But what if we could get more information out of the dataset if we vary the number of clusters?\n",
    "\n",
    "### Elbow Method\n",
    "We want to use the elbow method we learned before to estimate the number of clusters. Therefore, fill in the following code. "
   ]
  },
  {
   "cell_type": "code",
   "execution_count": 125,
   "metadata": {},
   "outputs": [],
   "source": [
    "def calculate_k_loss(X, k_min, k_max):\n",
    "    ### STUDENT CODE HERE\n",
    "\n",
    "    k_values = np.arange(k_min, k_max+1)\n",
    "    losses = []\n",
    "    \n",
    "    for k in k_values:\n",
    "        kmeans = KMeans(n_clusters= k, random_state=RANDOM_STATE).fit(X)\n",
    "        labels_pred = kmeans.predict(X)\n",
    "        losses.append(kmeans.inertia_)\n",
    "    \n",
    "    ### STUDENT CODE until HERE\n",
    "    \n",
    "    return k_values, losses\n"
   ]
  },
  {
   "cell_type": "markdown",
   "metadata": {},
   "source": [
    "Use the code below to call your function and plot the loss versus the k-values. Use a range of one to ten for the value of k."
   ]
  },
  {
   "cell_type": "code",
   "execution_count": 127,
   "metadata": {},
   "outputs": [
    {
     "data": {
      "image/png": "[encoded data removed]",
      "text/plain": [
       "<Figure size 432x288 with 1 Axes>"
      ]
     },
     "metadata": {
      "needs_background": "light"
     },
     "output_type": "display_data"
    }
   ],
   "source": [
    "# call your function\n",
    "### STUDENT CODE HERE\n",
    "\n",
    "k_values, losses = calculate_k_loss(X_pca, 1, 10)\n",
    "\n",
    "### STUDENT CODE until HERE\n",
    "# Plot k_values vs inertias\n",
    "plt.plot(k_values, losses, '-o')\n",
    "plt.xlabel('number of clusters k')\n",
    "plt.ylabel('$ J(C)$')\n",
    "plt.xticks(k_values)\n",
    "plt.show()"
   ]
  },
  {
   "cell_type": "markdown",
   "metadata": {},
   "source": [
    "**Question:** How many clusters can we choose according to the elbow method?\n",
    "\n",
    "**Answer:** Since the elbow method tries to minimize the loss, we would have to chose ten clusters.\n"
   ]
  },
  {
   "cell_type": "markdown",
   "metadata": {},
   "source": [
    "### Silhouette Score\n",
    "\n",
    "Let's use the silhouette score to get a value for $k$. Import the necessary library and fill in the code below. Get the score for values of $k$ between $2$ and $10$."
   ]
  },
  {
   "cell_type": "code",
   "execution_count": 71,
   "metadata": {},
   "outputs": [],
   "source": [
    "from sklearn.metrics import silhouette_score\n",
    "\n",
    "def calculate_k_silhouette(X, k_min, k_max):\n",
    "    ### STUDENT CODE HERE\n",
    "    \n",
    "    ks = np.arange(k_min, k_max+1)\n",
    "    silhouettes = []\n",
    "    \n",
    "    for k in ks:\n",
    "        kmeans = KMeans(n_clusters= k, random_state=RANDOM_STATE).fit(X)\n",
    "        labels_pred = kmeans.predict(X)\n",
    "        silhouettes.append(silhouette_score(X,labels_pred))\n",
    "\n",
    "    ### STUDENT CODE until HERE\n",
    "    \n",
    "    return ks, silhouettes\n"
   ]
  },
  {
   "cell_type": "code",
   "execution_count": 73,
   "metadata": {},
   "outputs": [
    {
     "data": {
      "image/png": "[encoded data removed]",
      "text/plain": [
       "<Figure size 432x288 with 1 Axes>"
      ]
     },
     "metadata": {
      "needs_background": "light"
     },
     "output_type": "display_data"
    }
   ],
   "source": [
    "### STUDENT CODE HERE\n",
    "\n",
    "ks, silhouettes = calculate_k_silhouette(X_pca, 2, 10)\n",
    "\n",
    "### STUDENT CODE until HERE\n",
    "# Plot ks vs inertias\n",
    "plt.plot(ks, silhouettes, '-o')\n",
    "plt.xlabel('number of clusters, k')\n",
    "plt.ylabel('$ Silhouette score $')\n",
    "plt.xticks(ks)\n",
    "plt.show()"
   ]
  },
  {
   "cell_type": "markdown",
   "metadata": {},
   "source": [
    "**Question:** What is your conclusion looking at the results of the two metrics? What value would you choose for $k$?\n",
    "\n",
    "**Answer:** The silhouette score should be maximized, thererfore k should be two which however contradicts our findings when evaluting using the elbow method. However the results of the elbow methods don't improve that much for k greater than two and the results of the silhouette score get significantly worse for k greater than two. Which is why we would chose the value two for k.\n"
   ]
  },
  {
   "cell_type": "markdown",
   "metadata": {},
   "source": [
    "## Analyzing the given Label Information"
   ]
  },
  {
   "cell_type": "markdown",
   "metadata": {},
   "source": [
    "### Class Distribution\n",
    "Let's find out how many classes there are actually given in the dataset. Calculate the number of unique values of the labels of the target class. How many data points do we have in each class? Plot a histogram for the distribution of class labels."
   ]
  },
  {
   "cell_type": "code",
   "execution_count": 74,
   "metadata": {
    "scrolled": true
   },
   "outputs": [
    {
     "data": {
      "text/plain": [
       "6    1944\n",
       "5    1906\n",
       "4    1777\n",
       "1    1722\n",
       "2    1544\n",
       "3    1406\n",
       "Name: label, dtype: int64"
      ]
     },
     "execution_count": 74,
     "metadata": {},
     "output_type": "execute_result"
    }
   ],
   "source": [
    "### STUDENT CODE HERE\n",
    "\n",
    "y.value_counts()\n",
    "\n",
    "### STUDENT CODE until HERE\n",
    "\n"
   ]
  },
  {
   "cell_type": "code",
   "execution_count": 76,
   "metadata": {
    "scrolled": true
   },
   "outputs": [
    {
     "data": {
      "image/png": "[encoded data removed]",
      "text/plain": [
       "<Figure size 432x288 with 1 Axes>"
      ]
     },
     "metadata": {
      "needs_background": "light"
     },
     "output_type": "display_data"
    }
   ],
   "source": [
    "#plotting the histogram\n",
    "### STUDENT CODE HERE\n",
    "\n",
    "plt.hist(y);\n",
    "\n",
    "### STUDENT CODE until HERE"
   ]
  },
  {
   "cell_type": "markdown",
   "metadata": {},
   "source": [
    "**Question: [Have a look at the dataset description.](https://archive.ics.uci.edu/ml/machine-learning-databases/00240/UCI%20HAR%20Dataset.names) What is the meaning of the class labels?**\n",
    "\n",
    "**Answer:**\n",
    "\n",
    "* 1 = walking\n",
    "* 2 = walking upstairs\n",
    "* 3 = walking downstairs\n",
    "* 4 = sitting\n",
    "* 5 = standing\n",
    "* 6 = laying\n"
   ]
  },
  {
   "cell_type": "markdown",
   "metadata": {},
   "source": [
    "### Showing class distribution with PCA data\n",
    "\n",
    "To get a better impression of the real classes in the dataset, we want to show the labels of the data points in our PCA transformed dataset. Make a scatter plot of the PCA transformed data and mark the classes in different colors."
   ]
  },
  {
   "cell_type": "code",
   "execution_count": 78,
   "metadata": {
    "scrolled": true
   },
   "outputs": [
    {
     "data": {
      "image/png": "[encoded data removed]",
      "text/plain": [
       "<Figure size 432x288 with 1 Axes>"
      ]
     },
     "metadata": {
      "needs_background": "light"
     },
     "output_type": "display_data"
    }
   ],
   "source": [
    "### STUDENT CODE HERE\n",
    "\n",
    "plt.scatter(X_pca[:, 0], X_pca[:, 1], c=y, s=10, cmap='viridis')\n",
    "plt.xlabel('PC 1')\n",
    "plt.ylabel('PC 2')\n",
    "plt.show()\n",
    "\n",
    "### STUDENT CODE until HERE"
   ]
  },
  {
   "cell_type": "markdown",
   "metadata": {},
   "source": [
    "**Question:** If everything worked out correctly, you see the same plot as before in subtask 2, but with label information to every datapoint. What problem do we have looking at the different classes we have in our dataset? What types of activity are included in which visually separated cluster?\n",
    "\n",
    "**Answer:** We can only distinguish the different classes to some extend. There is a clear seperation of walking, walking upstairs and walking downstairs on the left side and sitting, standing and laying on the right side. However within these two clusters, the samples of the classes overlap with each other quite a bit.\n"
   ]
  },
  {
   "cell_type": "markdown",
   "metadata": {},
   "source": [
    "### Clustering of PCA data"
   ]
  },
  {
   "cell_type": "markdown",
   "metadata": {},
   "source": [
    "Let's see if the K-Means algorithm is able to find the true six clusters in the dataset. Perform clustering with the `KMeans` method, training the model on data with reduced dimensionality (by PCA). In this case, we will give a clue to look for exactly 6 clusters, but in general case we will not know how many clusters we should be looking for.\n",
    "\n",
    "Options:\n",
    "\n",
    "- ** n_clusters ** = n_classes (number of unique labels of the target class)\n",
    "- ** n_init ** = 100\n",
    "- ** random_state ** = RANDOM_STATE (for reproducibility of the result)\n",
    "\n",
    "Other parameters should have default values."
   ]
  },
  {
   "cell_type": "code",
   "execution_count": 128,
   "metadata": {
    "scrolled": true
   },
   "outputs": [],
   "source": [
    "### STUDENT CODE HERE\n",
    "\n",
    "kmeans = KMeans(n_clusters= 6, random_state=RANDOM_STATE).fit(X_pca)\n",
    "labels_pred = kmeans.predict(X_pca)+1\n",
    "\n",
    "### STUDENT CODE until HERE"
   ]
  },
  {
   "cell_type": "markdown",
   "metadata": {},
   "source": [
    "Visualize data in projection on the first two principal components. Color the dots according to the clusters obtained."
   ]
  },
  {
   "cell_type": "code",
   "execution_count": 129,
   "metadata": {
    "scrolled": true
   },
   "outputs": [
    {
     "data": {
      "image/png": "[encoded data removed]",
      "text/plain": [
       "<Figure size 432x288 with 1 Axes>"
      ]
     },
     "metadata": {
      "needs_background": "light"
     },
     "output_type": "display_data"
    }
   ],
   "source": [
    "### STUDENT CODE HERE\n",
    "\n",
    "plt.scatter(X_pca[:, 0], X_pca[:, 1], c=labels_pred, s=20, cmap='viridis')\n",
    "plt.xlabel('PC 1')\n",
    "plt.ylabel('PC 2')\n",
    "plt.show()\n",
    "\n",
    "### STUDENT CODE until HERE"
   ]
  },
  {
   "cell_type": "markdown",
   "metadata": {},
   "source": [
    "**Question: Describe the clustering result. What can you see from the resulting plot?**\n",
    "\n",
    "**Answer:** The different classes are seperated more clearly from each other.\n"
   ]
  },
  {
   "cell_type": "markdown",
   "metadata": {},
   "source": [
    "##  Evaluation of Clustering results using labels\n",
    "The labels of the data can be used to evaluate our clustering results. However, it is not possible to calculate the same metrics as used in classification tasks. In classification, the output of a classification algorithm is exactly one of the learned classes. In comparison to that, a clustering algorithm only performs an assignment to one cluster, but we do not know  which class a cluster has found. \n",
    "\n",
    "### Cross-Tabulation\n",
    "Look at the correspondence between the cluster marks and the original class labels. Therefore, calculate a cross-tabulation of the cluster labels and the real labels of the data points.\n",
    "\n"
   ]
  },
  {
   "cell_type": "code",
   "execution_count": 130,
   "metadata": {
    "scrolled": true
   },
   "outputs": [
    {
     "data": {
      "text/html": [
       "<div>\n",
       "<style scoped>\n",
       "    .dataframe tbody tr th:only-of-type {\n",
       "        vertical-align: middle;\n",
       "    }\n",
       "\n",
       "    .dataframe tbody tr th {\n",
       "        vertical-align: top;\n",
       "    }\n",
       "\n",
       "    .dataframe thead th {\n",
       "        text-align: right;\n",
       "    }\n",
       "</style>\n",
       "<table border=\"1\" class=\"dataframe\">\n",
       "  <thead>\n",
       "    <tr style=\"text-align: right;\">\n",
       "      <th>cluster labels</th>\n",
       "      <th>1</th>\n",
       "      <th>2</th>\n",
       "      <th>3</th>\n",
       "      <th>4</th>\n",
       "      <th>5</th>\n",
       "      <th>6</th>\n",
       "    </tr>\n",
       "    <tr>\n",
       "      <th>real labels</th>\n",
       "      <th></th>\n",
       "      <th></th>\n",
       "      <th></th>\n",
       "      <th></th>\n",
       "      <th></th>\n",
       "      <th></th>\n",
       "    </tr>\n",
       "  </thead>\n",
       "  <tbody>\n",
       "    <tr>\n",
       "      <th>1</th>\n",
       "      <td>870</td>\n",
       "      <td>0</td>\n",
       "      <td>198</td>\n",
       "      <td>0</td>\n",
       "      <td>654</td>\n",
       "      <td>0</td>\n",
       "    </tr>\n",
       "    <tr>\n",
       "      <th>2</th>\n",
       "      <td>442</td>\n",
       "      <td>0</td>\n",
       "      <td>39</td>\n",
       "      <td>0</td>\n",
       "      <td>1063</td>\n",
       "      <td>0</td>\n",
       "    </tr>\n",
       "    <tr>\n",
       "      <th>3</th>\n",
       "      <td>690</td>\n",
       "      <td>0</td>\n",
       "      <td>533</td>\n",
       "      <td>0</td>\n",
       "      <td>183</td>\n",
       "      <td>0</td>\n",
       "    </tr>\n",
       "    <tr>\n",
       "      <th>4</th>\n",
       "      <td>0</td>\n",
       "      <td>895</td>\n",
       "      <td>0</td>\n",
       "      <td>332</td>\n",
       "      <td>3</td>\n",
       "      <td>547</td>\n",
       "    </tr>\n",
       "    <tr>\n",
       "      <th>5</th>\n",
       "      <td>0</td>\n",
       "      <td>1112</td>\n",
       "      <td>0</td>\n",
       "      <td>564</td>\n",
       "      <td>0</td>\n",
       "      <td>230</td>\n",
       "    </tr>\n",
       "    <tr>\n",
       "      <th>6</th>\n",
       "      <td>0</td>\n",
       "      <td>529</td>\n",
       "      <td>0</td>\n",
       "      <td>168</td>\n",
       "      <td>12</td>\n",
       "      <td>1235</td>\n",
       "    </tr>\n",
       "  </tbody>\n",
       "</table>\n",
       "</div>"
      ],
      "text/plain": [
       "cluster labels    1     2    3    4     5     6\n",
       "real labels                                    \n",
       "1               870     0  198    0   654     0\n",
       "2               442     0   39    0  1063     0\n",
       "3               690     0  533    0   183     0\n",
       "4                 0   895    0  332     3   547\n",
       "5                 0  1112    0  564     0   230\n",
       "6                 0   529    0  168    12  1235"
      ]
     },
     "execution_count": 130,
     "metadata": {},
     "output_type": "execute_result"
    }
   ],
   "source": [
    "### STUDENT CODE HERE\n",
    "\n",
    "pd.crosstab(y, labels_pred, rownames=['real labels'], colnames=['cluster labels'])\n",
    "\n",
    "### STUDENT CODE until HERE"
   ]
  },
  {
   "cell_type": "markdown",
   "metadata": {},
   "source": [
    "**Question: What kinds of activities is the `KMeans` algorithm confused at?**\n",
    "\n",
    "**Answer:** The KMeans algorithm confuses walking, walking upstairs and walking downstairs with each other and standing, sitting and laying.\n"
   ]
  },
  {
   "cell_type": "markdown",
   "metadata": {},
   "source": [
    "### Developing a simple separation metric\n",
    "We see that for each class (i.e., each activity) the data is assigned to various different clusters. Let's look at the maximum percentage of objects in a class that are assigned to a single cluster. This will be a simple metric that characterizes how easily the class is separated from others when clustering.\n",
    "\n",
    "Example: if for class \"walking downstairs\" (with 1406 instances belonging to it), the distribution of clusters is:\n",
    " - cluster 1 - 900\n",
    " - cluster 3 - 500\n",
    " - cluster 6 - 6,\n",
    " \n",
    "then such a share will be 900/1406 $ \\approx $ 0.64.\n",
    "Calculate this value for all classes.\n"
   ]
  },
  {
   "cell_type": "code",
   "execution_count": 90,
   "metadata": {
    "scrolled": true
   },
   "outputs": [
    {
     "name": "stdout",
     "output_type": "stream",
     "text": [
      "[0.5052264808362369, 0.6884715025906736, 0.4907539118065434, 0.5036578503095104, 0.583420776495278, 0.6352880658436214]\n"
     ]
    }
   ],
   "source": [
    "### STUDENT CODE HERE\n",
    "\n",
    "cross_tab = pd.crosstab(y, labels_pred, rownames=['real labels'], colnames=['cluster labels'])\n",
    "sep_metric = [cross_tab.loc[i,:].max()/cross_tab.loc[i,:].sum() for i in range(1,7)]\n",
    "print(sep_metric)\n",
    "\n",
    "### STUDENT CODE until HERE"
   ]
  },
  {
   "cell_type": "markdown",
   "metadata": {},
   "source": [
    "**Question: Which activities are separated from the rest better than others based on the simple metric described above?**\n",
    "\n",
    "**Answer:** Walking upstairs and laying are separated from the rest better than others.\n"
   ]
  },
  {
   "cell_type": "markdown",
   "metadata": {},
   "source": [
    "***Question: How would you rate the results in general? Do you have an explanation for the results?***\n",
    "\n",
    "**Answer:** For the most activities only about half of the samples were assigned to a single cluster which is why I wouldn't rate the results very good. The explanation for this is that the KMeans algorithm searches for distinct groups of datapoints. In the plot of the different classes we can see however that the groups aren't separated from each other but rather overlap with points from other classes. \n"
   ]
  },
  {
   "cell_type": "markdown",
   "metadata": {},
   "source": [
    "------------------------\n",
    "# Classification with Decision Trees and K-Nearest-Neighbor"
   ]
  },
  {
   "cell_type": "markdown",
   "metadata": {},
   "source": [
    "You can notice that the task of clustering the given dataset is not very well solved when we try to detect several clusters (> 2). Now, let's solve the classification problem, given that the data is labeled.\n",
    "\n",
    "For classification, use the nearest neighbor classifier – class `sklearn.neighbors.KNeighborsClassifier`  and the Decision Tree Classifier – class `sklearn.tree.DecisionTreeClassifier`. We studied these algorithms in course three.\n",
    "\n",
    "## Choosing best hyperparameters for the algorithms using Cross-Validation\n",
    "\n",
    "Choose the `n_neighbors` hyperparameter for` KNeighborsClassifier` and the pruning parameter `max_depth` using `GridSearchCV`. \n",
    "\n",
    "First step: Fit the  `StandardScaler` on the training set (with all original features), but perform only mean centering. Apply scaling to the test set."
   ]
  },
  {
   "cell_type": "code",
   "execution_count": 96,
   "metadata": {
    "scrolled": true
   },
   "outputs": [
    {
     "data": {
      "text/html": [
       "<div>\n",
       "<style scoped>\n",
       "    .dataframe tbody tr th:only-of-type {\n",
       "        vertical-align: middle;\n",
       "    }\n",
       "\n",
       "    .dataframe tbody tr th {\n",
       "        vertical-align: top;\n",
       "    }\n",
       "\n",
       "    .dataframe thead th {\n",
       "        text-align: right;\n",
       "    }\n",
       "</style>\n",
       "<table border=\"1\" class=\"dataframe\">\n",
       "  <thead>\n",
       "    <tr style=\"text-align: right;\">\n",
       "      <th></th>\n",
       "      <th>(1, tBodyAcc-mean()-X)</th>\n",
       "      <th>(2, tBodyAcc-mean()-Y)</th>\n",
       "      <th>(3, tBodyAcc-mean()-Z)</th>\n",
       "      <th>(4, tBodyAcc-std()-X)</th>\n",
       "      <th>(5, tBodyAcc-std()-Y)</th>\n",
       "      <th>(6, tBodyAcc-std()-Z)</th>\n",
       "      <th>(7, tBodyAcc-mad()-X)</th>\n",
       "      <th>(8, tBodyAcc-mad()-Y)</th>\n",
       "      <th>(9, tBodyAcc-mad()-Z)</th>\n",
       "      <th>(10, tBodyAcc-max()-X)</th>\n",
       "      <th>...</th>\n",
       "      <th>(552, fBodyBodyGyroJerkMag-meanFreq())</th>\n",
       "      <th>(553, fBodyBodyGyroJerkMag-skewness())</th>\n",
       "      <th>(554, fBodyBodyGyroJerkMag-kurtosis())</th>\n",
       "      <th>(555, angle(tBodyAccMean,gravity))</th>\n",
       "      <th>(556, angle(tBodyAccJerkMean),gravityMean))</th>\n",
       "      <th>(557, angle(tBodyGyroMean,gravityMean))</th>\n",
       "      <th>(558, angle(tBodyGyroJerkMean,gravityMean))</th>\n",
       "      <th>(559, angle(X,gravityMean))</th>\n",
       "      <th>(560, angle(Y,gravityMean))</th>\n",
       "      <th>(561, angle(Z,gravityMean))</th>\n",
       "    </tr>\n",
       "  </thead>\n",
       "  <tbody>\n",
       "    <tr>\n",
       "      <th>0</th>\n",
       "      <td>-0.017310</td>\n",
       "      <td>-0.005590</td>\n",
       "      <td>0.094487</td>\n",
       "      <td>-0.332966</td>\n",
       "      <td>-0.409153</td>\n",
       "      <td>-0.062930</td>\n",
       "      <td>-0.321989</td>\n",
       "      <td>-0.398341</td>\n",
       "      <td>-0.068152</td>\n",
       "      <td>-0.425484</td>\n",
       "      <td>...</td>\n",
       "      <td>-0.053648</td>\n",
       "      <td>-0.023361</td>\n",
       "      <td>-0.080680</td>\n",
       "      <td>-0.002221</td>\n",
       "      <td>0.160734</td>\n",
       "      <td>-0.834611</td>\n",
       "      <td>0.277132</td>\n",
       "      <td>-0.230462</td>\n",
       "      <td>0.218208</td>\n",
       "      <td>-0.001464</td>\n",
       "    </tr>\n",
       "    <tr>\n",
       "      <th>1</th>\n",
       "      <td>0.011539</td>\n",
       "      <td>0.004532</td>\n",
       "      <td>-0.009941</td>\n",
       "      <td>-0.369976</td>\n",
       "      <td>-0.456520</td>\n",
       "      <td>-0.340204</td>\n",
       "      <td>-0.356287</td>\n",
       "      <td>-0.441494</td>\n",
       "      <td>-0.339673</td>\n",
       "      <td>-0.425484</td>\n",
       "      <td>...</td>\n",
       "      <td>-0.526482</td>\n",
       "      <td>0.185164</td>\n",
       "      <td>0.030350</td>\n",
       "      <td>-0.092179</td>\n",
       "      <td>0.015313</td>\n",
       "      <td>-0.443100</td>\n",
       "      <td>0.926574</td>\n",
       "      <td>-0.208544</td>\n",
       "      <td>0.222750</td>\n",
       "      <td>-0.027383</td>\n",
       "    </tr>\n",
       "    <tr>\n",
       "      <th>2</th>\n",
       "      <td>0.000997</td>\n",
       "      <td>-0.008355</td>\n",
       "      <td>-0.009011</td>\n",
       "      <td>-0.388381</td>\n",
       "      <td>-0.458988</td>\n",
       "      <td>-0.357994</td>\n",
       "      <td>-0.363891</td>\n",
       "      <td>-0.443828</td>\n",
       "      <td>-0.357332</td>\n",
       "      <td>-0.470656</td>\n",
       "      <td>...</td>\n",
       "      <td>-0.062402</td>\n",
       "      <td>0.116587</td>\n",
       "      <td>-0.015442</td>\n",
       "      <td>-0.043640</td>\n",
       "      <td>0.200116</td>\n",
       "      <td>0.055377</td>\n",
       "      <td>0.151049</td>\n",
       "      <td>-0.213224</td>\n",
       "      <td>0.221490</td>\n",
       "      <td>-0.022831</td>\n",
       "    </tr>\n",
       "    <tr>\n",
       "      <th>3</th>\n",
       "      <td>-0.004190</td>\n",
       "      <td>-0.014918</td>\n",
       "      <td>-0.008379</td>\n",
       "      <td>-0.389304</td>\n",
       "      <td>-0.462330</td>\n",
       "      <td>-0.362337</td>\n",
       "      <td>-0.364762</td>\n",
       "      <td>-0.447564</td>\n",
       "      <td>-0.362747</td>\n",
       "      <td>-0.470006</td>\n",
       "      <td>...</td>\n",
       "      <td>-0.008598</td>\n",
       "      <td>-0.037409</td>\n",
       "      <td>-0.110830</td>\n",
       "      <td>-0.025751</td>\n",
       "      <td>0.152252</td>\n",
       "      <td>0.331408</td>\n",
       "      <td>0.302388</td>\n",
       "      <td>-0.209407</td>\n",
       "      <td>0.225521</td>\n",
       "      <td>-0.020593</td>\n",
       "    </tr>\n",
       "    <tr>\n",
       "      <th>4</th>\n",
       "      <td>0.000345</td>\n",
       "      <td>-0.010152</td>\n",
       "      <td>-0.020386</td>\n",
       "      <td>-0.388414</td>\n",
       "      <td>-0.456508</td>\n",
       "      <td>-0.373541</td>\n",
       "      <td>-0.363599</td>\n",
       "      <td>-0.439045</td>\n",
       "      <td>-0.371196</td>\n",
       "      <td>-0.470006</td>\n",
       "      <td>...</td>\n",
       "      <td>-0.247005</td>\n",
       "      <td>-0.227676</td>\n",
       "      <td>-0.221301</td>\n",
       "      <td>-0.010906</td>\n",
       "      <td>-0.042232</td>\n",
       "      <td>0.727989</td>\n",
       "      <td>-0.112564</td>\n",
       "      <td>-0.202698</td>\n",
       "      <td>0.232129</td>\n",
       "      <td>-0.017342</td>\n",
       "    </tr>\n",
       "  </tbody>\n",
       "</table>\n",
       "<p>5 rows × 561 columns</p>\n",
       "</div>"
      ],
      "text/plain": [
       "   (1, tBodyAcc-mean()-X)  (2, tBodyAcc-mean()-Y)  (3, tBodyAcc-mean()-Z)  \\\n",
       "0               -0.017310               -0.005590                0.094487   \n",
       "1                0.011539                0.004532               -0.009941   \n",
       "2                0.000997               -0.008355               -0.009011   \n",
       "3               -0.004190               -0.014918               -0.008379   \n",
       "4                0.000345               -0.010152               -0.020386   \n",
       "\n",
       "   (4, tBodyAcc-std()-X)  (5, tBodyAcc-std()-Y)  (6, tBodyAcc-std()-Z)  \\\n",
       "0              -0.332966              -0.409153              -0.062930   \n",
       "1              -0.369976              -0.456520              -0.340204   \n",
       "2              -0.388381              -0.458988              -0.357994   \n",
       "3              -0.389304              -0.462330              -0.362337   \n",
       "4              -0.388414              -0.456508              -0.373541   \n",
       "\n",
       "   (7, tBodyAcc-mad()-X)  (8, tBodyAcc-mad()-Y)  (9, tBodyAcc-mad()-Z)  \\\n",
       "0              -0.321989              -0.398341              -0.068152   \n",
       "1              -0.356287              -0.441494              -0.339673   \n",
       "2              -0.363891              -0.443828              -0.357332   \n",
       "3              -0.364762              -0.447564              -0.362747   \n",
       "4              -0.363599              -0.439045              -0.371196   \n",
       "\n",
       "   (10, tBodyAcc-max()-X)  ...  (552, fBodyBodyGyroJerkMag-meanFreq())  \\\n",
       "0               -0.425484  ...                               -0.053648   \n",
       "1               -0.425484  ...                               -0.526482   \n",
       "2               -0.470656  ...                               -0.062402   \n",
       "3               -0.470006  ...                               -0.008598   \n",
       "4               -0.470006  ...                               -0.247005   \n",
       "\n",
       "   (553, fBodyBodyGyroJerkMag-skewness())  \\\n",
       "0                               -0.023361   \n",
       "1                                0.185164   \n",
       "2                                0.116587   \n",
       "3                               -0.037409   \n",
       "4                               -0.227676   \n",
       "\n",
       "   (554, fBodyBodyGyroJerkMag-kurtosis())  (555, angle(tBodyAccMean,gravity))  \\\n",
       "0                               -0.080680                           -0.002221   \n",
       "1                                0.030350                           -0.092179   \n",
       "2                               -0.015442                           -0.043640   \n",
       "3                               -0.110830                           -0.025751   \n",
       "4                               -0.221301                           -0.010906   \n",
       "\n",
       "   (556, angle(tBodyAccJerkMean),gravityMean))  \\\n",
       "0                                     0.160734   \n",
       "1                                     0.015313   \n",
       "2                                     0.200116   \n",
       "3                                     0.152252   \n",
       "4                                    -0.042232   \n",
       "\n",
       "   (557, angle(tBodyGyroMean,gravityMean))  \\\n",
       "0                                -0.834611   \n",
       "1                                -0.443100   \n",
       "2                                 0.055377   \n",
       "3                                 0.331408   \n",
       "4                                 0.727989   \n",
       "\n",
       "   (558, angle(tBodyGyroJerkMean,gravityMean))  (559, angle(X,gravityMean))  \\\n",
       "0                                     0.277132                    -0.230462   \n",
       "1                                     0.926574                    -0.208544   \n",
       "2                                     0.151049                    -0.213224   \n",
       "3                                     0.302388                    -0.209407   \n",
       "4                                    -0.112564                    -0.202698   \n",
       "\n",
       "   (560, angle(Y,gravityMean))  (561, angle(Z,gravityMean))  \n",
       "0                     0.218208                    -0.001464  \n",
       "1                     0.222750                    -0.027383  \n",
       "2                     0.221490                    -0.022831  \n",
       "3                     0.225521                    -0.020593  \n",
       "4                     0.232129                    -0.017342  \n",
       "\n",
       "[5 rows x 561 columns]"
      ]
     },
     "execution_count": 96,
     "metadata": {},
     "output_type": "execute_result"
    }
   ],
   "source": [
    "### STUDENT CODE HERE\n",
    "\n",
    "std = StandardScaler(with_std=False)\n",
    "std.fit(X_train)\n",
    "\n",
    "X_train_scaled = pd.DataFrame(std.transform(X_train), columns=featureNames)\n",
    "X_test_scaled = pd.DataFrame(std.transform(X_test), columns=featureNames)\n",
    "\n",
    "X_test_scaled.head()\n",
    "\n",
    "### STUDENT CODE until HERE"
   ]
  },
  {
   "cell_type": "markdown",
   "metadata": {},
   "source": [
    "Second Step: \n",
    "Specify a list of parameter values for the Decision Tree and KNeighborsClassifier you want to be evaluated. For example:\n",
    "- Tree: max_depth: None, 5, 10, 15\n",
    "- KNN: n_neighbors: 3, 5,7,9,11"
   ]
  },
  {
   "cell_type": "code",
   "execution_count": 97,
   "metadata": {
    "scrolled": true
   },
   "outputs": [],
   "source": [
    "### STUDENT CODE HERE\n",
    "\n",
    "tree_params = {'max_depth':[None, 5, 10, 15]}\n",
    "knn_params = {'n_neighbors':[3,5,7,9,11]}\n",
    "\n",
    "### STUDENT CODE until HERE"
   ]
  },
  {
   "cell_type": "markdown",
   "metadata": {},
   "source": [
    "Third step: Now use the GridSearchCV for Decision Tree and K-Nearest Neighbors.\n",
    "- In `GridSearchCV`, specify `cv` = 3.\n",
    "- Fix the random state of the Decision Tree Classifier"
   ]
  },
  {
   "cell_type": "code",
   "execution_count": 131,
   "metadata": {},
   "outputs": [
    {
     "name": "stdout",
     "output_type": "stream",
     "text": [
      "Wall time: 0 ns\n"
     ]
    },
    {
     "data": {
      "text/plain": [
       "GridSearchCV(cv=3, error_score='raise-deprecating',\n",
       "       estimator=DecisionTreeClassifier(class_weight=None, criterion='gini', max_depth=None,\n",
       "            max_features=None, max_leaf_nodes=None,\n",
       "            min_impurity_decrease=0.0, min_impurity_split=None,\n",
       "            min_samples_leaf=1, min_samples_split=2,\n",
       "            min_weight_fraction_leaf=0.0, presort=False, random_state=17,\n",
       "            splitter='best'),\n",
       "       fit_params=None, iid='warn', n_jobs=None,\n",
       "       param_grid={'max_depth': [None, 5, 10, 15]},\n",
       "       pre_dispatch='2*n_jobs', refit=True, return_train_score='warn',\n",
       "       scoring='accuracy', verbose=0)"
      ]
     },
     "execution_count": 131,
     "metadata": {},
     "output_type": "execute_result"
    }
   ],
   "source": [
    "#Grid Search CV for Tree\n",
    "### STUDENT CODE HERE\n",
    "\n",
    "%time\n",
    "\n",
    "tree_clf = GridSearchCV(DecisionTreeClassifier(random_state=RANDOM_STATE), tree_params, cv=3, scoring='accuracy')\n",
    "tree_clf.fit(X_train_scaled,y_train)\n",
    "\n",
    "### STUDENT CODE until HERE\n"
   ]
  },
  {
   "cell_type": "code",
   "execution_count": 103,
   "metadata": {},
   "outputs": [
    {
     "data": {
      "text/plain": [
       "GridSearchCV(cv=3, error_score='raise-deprecating',\n",
       "       estimator=KNeighborsClassifier(algorithm='auto', leaf_size=30, metric='minkowski',\n",
       "           metric_params=None, n_jobs=None, n_neighbors=5, p=2,\n",
       "           weights='uniform'),\n",
       "       fit_params=None, iid='warn', n_jobs=-1,\n",
       "       param_grid={'n_neighbors': [3, 5, 7, 9, 11]},\n",
       "       pre_dispatch='2*n_jobs', refit=True, return_train_score='warn',\n",
       "       scoring='accuracy', verbose=0)"
      ]
     },
     "execution_count": 103,
     "metadata": {},
     "output_type": "execute_result"
    }
   ],
   "source": [
    "#Grid Search CV for K-Nearest Neighbors\n",
    "### STUDENT CODE HERE\n",
    "\n",
    "from sklearn.neighbors import KNeighborsClassifier\n",
    "\n",
    "k_clf = GridSearchCV(KNeighborsClassifier(), knn_params, cv=3, scoring='accuracy',n_jobs= -1)\n",
    "k_clf.fit(X_train_scaled,y_train)\n",
    "\n",
    "### STUDENT CODE until HERE"
   ]
  },
  {
   "cell_type": "markdown",
   "metadata": {},
   "source": [
    "Last step: Get the best params, classification score and the model itself for both the Decision Tree as well as the knn-Classifier."
   ]
  },
  {
   "cell_type": "code",
   "execution_count": 105,
   "metadata": {
    "scrolled": true
   },
   "outputs": [
    {
     "name": "stdout",
     "output_type": "stream",
     "text": [
      "0.8337867247007617\n",
      "{'max_depth': 10}\n",
      "DecisionTreeClassifier(class_weight=None, criterion='gini', max_depth=10,\n",
      "            max_features=None, max_leaf_nodes=None,\n",
      "            min_impurity_decrease=0.0, min_impurity_split=None,\n",
      "            min_samples_leaf=1, min_samples_split=2,\n",
      "            min_weight_fraction_leaf=0.0, presort=False, random_state=17,\n",
      "            splitter='best')\n",
      "0.8932263329706203\n",
      "{'n_neighbors': 9}\n",
      "KNeighborsClassifier(algorithm='auto', leaf_size=30, metric='minkowski',\n",
      "           metric_params=None, n_jobs=None, n_neighbors=9, p=2,\n",
      "           weights='uniform')\n"
     ]
    }
   ],
   "source": [
    "### STUDENT CODE HERE\n",
    "\n",
    "# Decision_tree\n",
    "print(tree_clf.best_score_)\n",
    "print(tree_clf.best_params_)\n",
    "print(tree_clf.best_estimator_)\n",
    "\n",
    "#Knn\n",
    "print(k_clf.best_score_)\n",
    "print(k_clf.best_params_)\n",
    "print(k_clf.best_estimator_)\n",
    "\n",
    "### STUDENT CODE until HERE"
   ]
  },
  {
   "cell_type": "markdown",
   "metadata": {},
   "source": [
    "**Question:**\n",
    "Which value of the hyperparameter `n_neighbors` was chosen the best on the basis of cross-validation? What depth of the tree was selected? Which classifier performed better?\n",
    "\n",
    "**Answer:** For the knn-Classifier nine neighbours were chosen. For the tree-Classifier a depth of 10 was chosen. Over all the knn_classifier achieved a better result than the tree-Classifier.\n"
   ]
  },
  {
   "cell_type": "markdown",
   "metadata": {},
   "source": [
    "## Scoring the Test Set\n",
    "Now use the best parameter set for the two algorithms and train them on the whole training dataset. Predict the labels of the test set with these models and calculate the accuracy of the two models."
   ]
  },
  {
   "cell_type": "code",
   "execution_count": 110,
   "metadata": {
    "scrolled": true
   },
   "outputs": [
    {
     "name": "stdout",
     "output_type": "stream",
     "text": [
      "Accuracy:  0.8635900916185952\n"
     ]
    }
   ],
   "source": [
    "### STUDENT CODE HERE\n",
    "\n",
    "#Accuracy of decision tree classifier\n",
    "\n",
    "from sklearn.metrics import accuracy_score\n",
    "\n",
    "tree_clf = DecisionTreeClassifier(max_depth=10, random_state=RANDOM_STATE)\n",
    "tree_clf.fit(X_train_scaled, y_train)\n",
    "y_pred_tree = tree_clf.predict(X_test_scaled)\n",
    "\n",
    "print(\"Accuracy: \", accuracy_score(y_test, y_pred_tree))\n",
    "\n",
    "### STUDENT CODE until HERE"
   ]
  },
  {
   "cell_type": "code",
   "execution_count": 115,
   "metadata": {},
   "outputs": [
    {
     "name": "stdout",
     "output_type": "stream",
     "text": [
      "Accuracy:  0.9053274516457415\n"
     ]
    }
   ],
   "source": [
    "### STUDENT CODE HERE\n",
    "\n",
    "#Accuracy of knn-Classifier\n",
    "\n",
    "knn_clf = KNeighborsClassifier(n_neighbors=9)\n",
    "knn_clf.fit(X_train_scaled, y_train)\n",
    "y_pred_knn = knn_clf.predict(X_test_scaled)\n",
    "\n",
    "print(\"Accuracy: \", accuracy_score(y_test, y_pred_knn))\n",
    "\n",
    "### STUDENT CODE until HERE"
   ]
  },
  {
   "cell_type": "markdown",
   "metadata": {},
   "source": [
    "**Question:**\n",
    "Which algorithm performs better on the test set? Which algorithm has better generalization abilities? Interpret the results.\n",
    "\n",
    "**Answer:** The knn-Classifier performs better on the test set than the decision tree Classifier. Therefore it has better generalization abilities.\n"
   ]
  },
  {
   "cell_type": "markdown",
   "metadata": {},
   "source": [
    "## Adding PCA to the Classification \n",
    "Finally, do the same thing as in the Question before, but add PCA with the typical value of explained variance we discussed before.\n",
    "\n",
    "- Use `X_train_scaled` and` X_test_scaled`\n",
    "- Train the PCA as before, on the scaled training set \n",
    "- Apply PCA transformation to the test set\n",
    "\n"
   ]
  },
  {
   "cell_type": "code",
   "execution_count": 117,
   "metadata": {
    "scrolled": true
   },
   "outputs": [
    {
     "name": "stdout",
     "output_type": "stream",
     "text": [
      "34\n"
     ]
    }
   ],
   "source": [
    "### STUDENT CODE HERE\n",
    "\n",
    "pca= PCA(n_components=0.9, svd_solver='full', random_state=RANDOM_STATE).fit(X_train_scaled)\n",
    "\n",
    "var_exp = pca.explained_variance_ratio_\n",
    "#amount of features\n",
    "print(len(var_exp))\n",
    "\n",
    "X_train_pca = pca.transform(X_train_scaled)\n",
    "X_test_pca = pca.transform(X_test_scaled)\n",
    "\n",
    "\n",
    "### STUDENT CODE until HERE"
   ]
  },
  {
   "cell_type": "markdown",
   "metadata": {},
   "source": [
    "The shape of the train and test data should have the amount of features we observed above."
   ]
  },
  {
   "cell_type": "code",
   "execution_count": 118,
   "metadata": {},
   "outputs": [],
   "source": [
    "assert(X_train_pca.shape == (7352, 34))\n",
    "assert(X_test_pca.shape == (2947, 34))"
   ]
  },
  {
   "cell_type": "markdown",
   "metadata": {},
   "source": [
    "Choose the hyperparameters via cross-validation on the training set with PCA-transformation. (Just copy your code from above but use the PCA-transformed dataset)\n",
    "\n",
    "**Question:** Do you notice a speed difference for the training process? What do you observe if you compare the optimal hyperparameters?\n",
    "\n",
    "**Answer:** The time needed for the training process is shortened. The chosen optimal hyperparameters are the same as bevor.\n"
   ]
  },
  {
   "cell_type": "code",
   "execution_count": 119,
   "metadata": {},
   "outputs": [
    {
     "name": "stdout",
     "output_type": "stream",
     "text": [
      "Wall time: 0 ns\n",
      "0.801278563656148\n",
      "{'max_depth': 10}\n",
      "DecisionTreeClassifier(class_weight=None, criterion='gini', max_depth=10,\n",
      "            max_features=None, max_leaf_nodes=None,\n",
      "            min_impurity_decrease=0.0, min_impurity_split=None,\n",
      "            min_samples_leaf=1, min_samples_split=2,\n",
      "            min_weight_fraction_leaf=0.0, presort=False, random_state=17,\n",
      "            splitter='best')\n"
     ]
    }
   ],
   "source": [
    "%time\n",
    "### STUDENT CODE HERE\n",
    "\n",
    "tree_pca = GridSearchCV(DecisionTreeClassifier(random_state=RANDOM_STATE), tree_params, cv=3, scoring='accuracy')\n",
    "tree_pca.fit(X_train_pca,y_train)\n",
    "\n",
    "print(tree_pca.best_score_)\n",
    "print(tree_pca.best_params_)\n",
    "print(tree_pca.best_estimator_)\n",
    "\n",
    "### STUDENT CODE until HERE"
   ]
  },
  {
   "cell_type": "code",
   "execution_count": 121,
   "metadata": {},
   "outputs": [
    {
     "name": "stdout",
     "output_type": "stream",
     "text": [
      "Wall time: 0 ns\n",
      "0.875\n",
      "{'n_neighbors': 9}\n",
      "KNeighborsClassifier(algorithm='auto', leaf_size=30, metric='minkowski',\n",
      "           metric_params=None, n_jobs=None, n_neighbors=9, p=2,\n",
      "           weights='uniform')\n"
     ]
    }
   ],
   "source": [
    "%time\n",
    "\n",
    "knn_pca = GridSearchCV(KNeighborsClassifier(), knn_params, cv=3, scoring='accuracy',n_jobs= -1)\n",
    "knn_pca.fit(X_train_pca,y_train)\n",
    "\n",
    "print(knn_pca.best_score_)\n",
    "print(knn_pca.best_params_)\n",
    "print(knn_pca.best_estimator_)"
   ]
  },
  {
   "cell_type": "markdown",
   "metadata": {},
   "source": [
    "Now finally evaluate the results on the test set. Use the accuracy metric. "
   ]
  },
  {
   "cell_type": "code",
   "execution_count": 122,
   "metadata": {},
   "outputs": [
    {
     "name": "stdout",
     "output_type": "stream",
     "text": [
      "Accuracy:  0.830335934848999\n",
      "Accuracy:  0.8815744825246012\n"
     ]
    }
   ],
   "source": [
    "### STUDENT CODE HERE\n",
    "\n",
    "#Accuracy of decision tree classifier with PCA\n",
    "\n",
    "tree_clf = DecisionTreeClassifier(max_depth=10, random_state=RANDOM_STATE)\n",
    "tree_clf.fit(X_train_pca, y_train)\n",
    "y_pred_tree = tree_clf.predict(X_test_pca)\n",
    "\n",
    "print(\"Accuracy: \", accuracy_score(y_test, y_pred_tree))\n",
    "\n",
    "#Accuracy of knn Classifier with PCA\n",
    "\n",
    "knn_clf = KNeighborsClassifier(n_neighbors=9)\n",
    "knn_clf.fit(X_train_pca, y_train)\n",
    "y_pred_knn = knn_clf.predict(X_test_pca)\n",
    "\n",
    "print(\"Accuracy: \", accuracy_score(y_test, y_pred_knn))\n",
    "\n",
    "### STUDENT CODE until HERE"
   ]
  },
  {
   "cell_type": "markdown",
   "metadata": {},
   "source": [
    "**Question:**\n",
    "What do you observe? What is the difference between the best quality (accuracy) for the test set in the case of all 561 initial characteristics and in the second case, when the principal component method was applied? Round to the nearest percent. Do you have an explanation for the different behavior of the two algorithms?\n",
    "\n",
    "**Answer:** Bevor the accuracy for the decision tree classifier was 86% now it's 83%. For the knn classifier it was 91% without PCA and with PCA it's 88%. This means for both classifiers the results got worse when using PCA. This makes sense since PCA makes the information laying within the data less detailled and with less details the classifiers can't work as preciseley.\n"
   ]
  },
  {
   "cell_type": "markdown",
   "metadata": {},
   "source": [
    "**Question:**\n",
    "Select all the correct statements:\n",
    "- Principal component analysis in this case allowed to reduce the model training time, while the quality (accuracy) stays nearly the same\n",
    "- PCA can be used to visualize data, but there are better methods for this task, for example, [t-SNE](https://scikit-learn.org/stable/modules/generated/sklearn.manifold.TSNE.html). However, PCA has lower computational complexity \n",
    "- PCA builds linear combinations of initial features, and in some applications they might be poorly interpreted by humans \n",
    "\n",
    "**Answer:**\n",
    "- Principal component analysis in this case allowed to reduce the model training time, while the quality (accuracy) stays nearly the same\n",
    "- PCA can be used to visualize data, but there are better methods for this task, for example, [t-SNE](https://scikit-learn.org/stable/modules/generated/sklearn.manifold.TSNE.html). However, PCA has lower computational complexity "
   ]
  },
  {
   "cell_type": "code",
   "execution_count": null,
   "metadata": {},
   "outputs": [],
   "source": []
  }
 ],
 "metadata": {
  "anaconda-cloud": {},
  "kernelspec": {
   "display_name": "Python 3",
   "language": "python",
   "name": "python3"
  },
  "language_info": {
   "codemirror_mode": {
    "name": "ipython",
    "version": 3
   },
   "file_extension": ".py",
   "mimetype": "text/x-python",
   "name": "python",
   "nbconvert_exporter": "python",
   "pygments_lexer": "ipython3",
   "version": "3.7.1"
  },
  "toc": {
   "base_numbering": 1,
   "nav_menu": {},
   "number_sections": true,
   "sideBar": true,
   "skip_h1_title": false,
   "title_cell": "Table of Contents",
   "title_sidebar": "Contents",
   "toc_cell": false,
   "toc_position": {},
   "toc_section_display": true,
   "toc_window_display": true
  }
 },
 "nbformat": 4,
 "nbformat_minor": 2
}
