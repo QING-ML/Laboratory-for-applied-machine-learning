{
 "cells": [
  {
   "cell_type": "markdown",
   "metadata": {},
   "source": [
    "# Task 4. Unsupervised learning: PCA and Clustering\n",
    "    \n",
    "Welcome to the fourth part of Laboratory for Applied Machine Learning Approaches! Today, we will work with the Samsung Human Activity Recognition dataset. The data comes from accelerometers and gyros of Samsung Galaxy S3 mobile phones, the type of activity of a person with a phone in his/her pocket is also known – whether he/she walked, stood, lay, sat or walked up or down the stairs. But in comparison to the last task, the focus of this weeks lab is not to build a classification model with supervised learning. Instead, we are focusing on a different application field: Unsupervised Learning. We will work with unsupervised learning methods such as Principal Component Analysis (PCA) and clustering. You will learn why and how we can reduce the dimensionality of the original data and what the main approaches are for grouping similar data points.  \n",
    "\n",
    "\n",
    "### Learning Goals for today \n",
    "You are able to\n",
    "- explain the difference between supervised and unsupervised learning\n",
    "- describe the functionality of Principal Component Analysis and implement it\n",
    "- use PCA to reduce the dimensionality of data\n",
    "- outline the function principle of the Clustering Algorithm K-Means\n",
    "- implement and select suitable metrics for the performance evaluation of clustering results\n",
    "\n",
    "\n",
    "## Introduction\n",
    "\n",
    "Thus far, we have presented machine learning methods largely in the context of _supervised_ learning.  This means we talked about machine learning data sets as having inputs $x$, outputs $y$, and the goal of a machine learning algorithm is to learn how to predict $y$ from $x$. Supervised learning does traditionally dominate the majority of practical data science applications, but in this task, we'll discuss approaches that differ from this. In particular, we'll consider the setting of unsupervised learning, we are _not_ given corresponding input/output pairs, but where we are _just_ given the inputs $x$. When compared to classification and regression methods, the main idea is that input data are unlabeled (i.e. no labels or classes given). Of course, this raises the obvious question: if we aren't given a target output, what exactly are we supposed to predict? And indeed, the task of unsupervised learning is ambiguous on some level. However the general philosophy of unsupervised learning is that we want to discover some kind of structure in the data and that the algorithm learns the structure of the data without any assistance.  Different unsupervised learning methods work in very different ways, and discover very different kinds of structure, but they all have this similar element. \n"
   ]
  },
  {
   "cell_type": "markdown",
   "metadata": {},
   "source": [
    "**Question:** What are the two main differences regarding training and evaluation between supervised and unsupervised learning?\n",
    "Tip: Think of the input and output of the two categories!\n",
    "\n",
    "**Answer:**  \n",
    "* supervised learning: input and output is a pair\n",
    "* unsupervised learning: no information about output\n",
    "\n"
   ]
  },
  {
   "cell_type": "markdown",
   "metadata": {},
   "source": [
    "# Principal Component Analysis (PCA)\n",
    "\n",
    "As mentioned before, different application domains for unsupervised learning algorithms exist.  One of the most common tasks in unsupervised learning is dimensionality reduction, where the goal is to simplify the data without losing too much information. Several correlating characteristics can be combined into one. For example, the mileage of a car correlates with its age, so a dimensional reduction algorithm can combine both into one feature that represents the wear and tear of the vehicle. This is also called feature extraction. Visualization algorithms are another good example of unsupervised learning: you give them a lot of complex data without labels and get a 2-D or 3-D representation of the data that you can easily graphically represent. Such algorithms try to preserve the structure of the data as well as possible (e.g., prevent clusters in the input data from overlapping in the visualization), so that you can more easily understand how the data is structured, and may encounter unexpected patterns.\n",
    "\n",
    "Today, we will use Principal Component Analysis to visualize datasets and reduce their dimensionality.\n",
    "\n",
    "## Intuition, theories, and application issues\n",
    "\n",
    "Principal Component Analysis is one of the easiest, most intuitive, and most frequently used methods for dimensionality reduction, projecting data onto its orthogonal feature subspace. Orthogonal subspace means, that we create a feature space of linear combinations of our original features. As in the original space, the newly constructed features are orthogonal to each other. It first finds the hyperplane closest to the data and then projects the data onto it.\n",
    "\n",
    "<table class=\"image\">\n",
    "<caption align=\"bottom\"> Selection of a subspace for projection [Geron, 2018]</caption>\n",
    "<tr><td><img src='img/pca_projection_geron.png' width=70% /></td></tr>\n",
    "</table>\n",
    "As an example, the figure above shows on the left a simple 2-D dataset with three different axes (i.e. one-dimensional hyperplanes). On the right, you see the projections of the data set on each of these axes. As you can see, the projection on the solid line retains maximum variance, while the projection on the dotted line retains very little variance. The projection on the dashed line is somewhere in between.\n",
    "\n",
    "It seems reasonable to select the axis so that a maximum of variance is preserved, because less information is lost than with the other projections. The selection can also be justified by the fact that the mean square distance between the original data set and the projection is minimal. This simple basic idea is the essence of Principal Component Analysis: PCA tries to find the first principal component by minimizing the reconstruction (projection) error, which simultaneously maximizes the variance of the projected data.\n",
    "\n",
    "<img align=right src='img/pca_projection_connection.png' width=\"400\">\n",
    "\n",
    "The PCA searches for the axis on which the greatest variance of the training data lies. An axis orthogonal to the first axis is also found, which corresponds to the largest remaining variance. In a higher dimensional data set, the PCA would also find a third axis, orthogonal to the two previous axes, then a fourth axis, a fifth axis, and so on - as many axes as the data set has dimensions. The unit vector that defines the $i^{th}$ axis is called the $i^{th}$ principal component (PC). In the figure the 1st principal component is $c_1$ and the second $c_2$.\n",
    "\n",
    "More generally speaking, all observations can be considered as an ellipsoid in a subspace of an initial feature space, and the new basis set in this subspace is aligned with the ellipsoid axes. This assumption lets us remove highly correlated features since basis set vectors are orthogonal. \n",
    "In the general case, the resulting ellipsoid dimensionality matches the initial space dimensionality, but the assumption that our data lies in a subspace with a smaller dimension allows us to cut off the \"excessive\" space with the new projection (subspace). We accomplish this in a 'greedy' fashion, sequentially selecting each of the ellipsoid axes by identifying where the dispersion (variance) is maximal.\n",
    " \n",
    "\n",
    "> \"To deal with hyper-planes in a 14 dimensional space, visualize a 3D space and say 'fourteen' very loudly. Everyone does it.\" - Geoffrey Hinton\n",
    "\n",
    "\n",
    "Let's take a look at the mathematical formulation of this process:\n",
    "\n",
    "In order to decrease the dimensionality of our data from $n$ to $k$ with $k \\leq n$, we sort our list of axes in order of decreasing dispersion and take the top-$k$ of them.\n",
    "\n",
    "But how can I find the principal components for a training dataset?\n",
    "\n",
    "We begin by computing the variance and the covariance of the initial features. This is usually done with the covariance matrix. According to the covariance definition, the covariance of two features is computed as follows: $$cov(X_i, X_j) = E[(X_i - \\mu_i) (X_j - \\mu_j)] = E[X_i X_j] - \\mu_i \\mu_j,$$ where $\\mu_i$ is the expected value of the $i$th feature. It is worth noting that the covariance is symmetric, and the covariance of a vector with itself is equal to its variance.\n",
    "\n",
    "Therefore the covariance matrix is symmetric with the variance of the corresponding features on the diagonal. Non-diagonal values are the covariances of the corresponding pair of features. In terms of matrices where $\\mathbf{X}$ is the matrix of observations, the covariance matrix is as follows:\n",
    "\n",
    "$$\\mathbf{C} = E[(\\mathbf{X} - E[\\mathbf{X}]) (\\mathbf{X} - E[\\mathbf{X}])^{T}]$$\n",
    "\n",
    "In the case of two dimensions:\n",
    "\n",
    "$$ \\Large \\mathbf{C} = \\begin{pmatrix}\n",
    "\\sigma_{X_1}^2 & cov(X_1, X_2)    \\\\\n",
    " cov(X_2, X_1) & \\sigma_{X_2}^2   \\\\\n",
    "\\end{pmatrix} $$\n",
    "If we have a mean-centered dataset ($\\mu =0$) the computation simplifies to \n",
    "\n",
    "$\\Large \\mathbf{C} = \\frac{\\mathbf{X}\\cdot \\mathbf{X}^T}{n-1}$.\n",
    "\n",
    "Now remember what PCA wants to accomplish: maximize the variance in the projected space. Equally speaking:\n",
    "if $\\mathbf{X}$ is the data matrix, then the projection on the vector $w$ is given by $\\mathbf{X}w$ and its variance is \n",
    "$$\\Large \\sigma_w^2 =  \\frac{1}{n−1}(\\mathbf{X}w)^T \\cdot\\mathbf{X}w=w^T\\cdot (\\frac{1}{n−1}\\mathbf{X}^T\\mathbf{X})\\cdot w=w^T \\mathbf{C} w$$.\n",
    "\n",
    "\n",
    "\n",
    "Quick recap: matrices, as linear operators, have eigenvalues and eigenvectors. They are very convenient because they describe parts of our space that do not rotate and only stretch when we apply linear operators on them; eigenvectors remain in the same direction but are stretched by a corresponding eigenvalue. Formally, a matrix $\\mathbf{M}$ with eigenvector $v_i$ and eigenvalue $\\lambda_i$ satisfy this equation: $\\mathbf{M} v_i = \\lambda_i v_i$.\n",
    "As our covariance matrix $ \\mathbf{C} $ is symmetric, we can diagonalize it by choosing a new orthogonal coordinate system, which is given by the eigenvectors of the covariance matrix $ \\mathbf{C} $. The covariance matrix in the new space looks like that:\n",
    "$$ \\Large \\mathbf{C_{EV}} = \\begin{pmatrix}\n",
    "\\lambda_1 & 0  \\\\\n",
    "0 & \\lambda_2  \\\\\n",
    "\\end{pmatrix} $$\n",
    "So the new covariance matrix is diagonal, the dimensions are uncorrelated ($ cov(EV_1, EV_2) = 0 $) and the eigenvalues $\\lambda_i$ are on the diagonal. Inserting this above in $\\sigma_w^2$ (we want to maximize that) leads to:\n",
    "$$ \\Large \\sigma_w^2 =  w^T \\mathbf{C}_{EV} w = \\Sigma_i \\lambda_i w^2_i$$\n",
    "In the new orthogonal basis the variance is given by the weighted sum of the eigenvalues. Consequently, the maximum possible variance will be achieved if we simply take the projection on the first coordinate axis. It follows that the direction of the first principal component is given by the first eigenvector of the covariance matrix.\n",
    "Putting all the eigenvectors in one matrix, we get\n",
    "$$\\Large \\mathbf{V} = \\begin{pmatrix}\n",
    "\\mid & \\mid & & \\mid \\\\\n",
    "{\\bf v}_{1} & {\\bf v}_{2} & \\cdots & {\\bf v}_{n}\\\\\n",
    "\\mid & \\mid & & \\mid \\\\\n",
    "\\end{pmatrix}$$\n",
    "The principal components we aim to retain from the data are just the eigenvectors corresponding to the top-$k$ largest eigenvalues of the matrix. The PCA assumes that the data set is centered around the coordinate origin which is needed to guarantee that the first principal component (first eigenvector) is laying in the axis with maximal variance. Otherwise, the first principal component may only point to the datas mean value. \n",
    "\n",
    "The next steps are easier to digest. We multiply the matrix of our data $\\mathbf{X}$ by these components to get the projection of our data onto the orthogonal basis of the chosen components. If the number of components was smaller than the initial space dimensionality, remember that we will lose some information upon applying this transformation.\n",
    "\n"
   ]
  },
  {
   "cell_type": "markdown",
   "metadata": {},
   "source": [
    "If we formulate the math from above as a pseudocode, we get the\n",
    "\n",
    "**Pseudocode for PCA** \n",
    "1. Define $k<d$ – as new dimensionality\n",
    "2. Perform mean centering of $X$: \n",
    " \n",
    "3. Compute the covariance matrix $\\mathbf{C}$ of $\\mathbf{X}$\n",
    "\n",
    "4. Perform the eigenvalue decompositon of the covariance matrix such that:\n",
    "    $$ \\Large \\mathbf{C} \\cdot v_i = \\lambda_i \\cdot v_i $$\n",
    "    \n",
    "5. Sort the eigenvectors $v_i$ in descending order of their eigenvalues $\\lambda_i$ to get $V \\in \\mathbb{R}^{d\\times d}$\n",
    "\n",
    "6. Select the top-$k$ eigenvectors as principal components\n",
    " $$V = \\begin{pmatrix}\n",
    "v_{1,1} & \\cdots & v_{1,k}   \\\\\n",
    " \\vdots &  &   \\vdots \\\\\n",
    " v_{d,1} &  &v_{d,k} \\\\\n",
    "\\end{pmatrix} \\in \\mathbb{R}^{d \\times k} $$\n",
    "6. Return $$\\Large Z = XV \\in \\mathbb{R}^{m \\times k}$$\n",
    "7. Loss given by \n",
    "  - $\\Large \\sum_{i=k+1}^n \\lambda_i$  (\"lost\" variance) or\n",
    "  \n",
    "  - $\\lVert \\mathbf{X} - \\mathbf{X}ww^T\\rVert^2$ (reprojection error)"
   ]
  },
  {
   "cell_type": "markdown",
   "metadata": {},
   "source": [
    "## Developing a PCA Implementation\n",
    "\n",
    "In this task we want to implement our own simple PCA implementation and understand the working principle.\n",
    "\n",
    "### Understanding PCA with the Iris Dataset\n",
    "Lets start with the dataset we used in task 2, the iris dataset. Therefore, first of all we have to load all required libraries and our data. "
   ]
  },
  {
   "cell_type": "code",
   "execution_count": 19,
   "metadata": {},
   "outputs": [],
   "source": [
    "# Imports\n",
    "import numpy as np\n",
    "import pandas as pd\n",
    "from scipy.stats import pearsonr\n",
    "from sklearn.preprocessing import LabelEncoder\n",
    "import matplotlib.pyplot as plt\n",
    "from sklearn import decomposition\n",
    "from IPython import display\n",
    "%matplotlib inline\n",
    "import seaborn as sns\n",
    "import ipywidgets as widgets\n",
    "\n",
    "plt.style.use(['seaborn-darkgrid'])\n",
    "plt.rcParams['figure.figsize'] = (12, 9)\n",
    "plt.rcParams['font.family'] = 'DejaVu Sans'"
   ]
  },
  {
   "cell_type": "markdown",
   "metadata": {},
   "source": [
    "Second, we load the dataset from the csv file, just as in task 2. The sepal length is shown versus the petal width of the flowers."
   ]
  },
  {
   "cell_type": "code",
   "execution_count": 20,
   "metadata": {},
   "outputs": [
    {
     "data": {
      "text/plain": [
       "Text(0, 0.5, 'Petal width')"
      ]
     },
     "execution_count": 20,
     "metadata": {},
     "output_type": "execute_result"
    },
    {
     "data": {
      "image/png": "[encoded data removed]",
      "text/plain": [
       "<Figure size 864x648 with 1 Axes>"
      ]
     },
     "metadata": {},
     "output_type": "display_data"
    }
   ],
   "source": [
    "# Load dataset\n",
    "filename = 'iris.data.csv'\n",
    "names = ['Sepal-length', 'Sepal-width', 'Petal-length', 'Petal-width', 'Class']\n",
    "X = pd.read_csv(filename, names=names)\n",
    "# split label info\n",
    "y = X.Class\n",
    "# drop labels from data\n",
    "X = X.drop(['Class'],axis=1)\n",
    "plt.scatter(X['Sepal-length'],X['Petal-width'])\n",
    "plt.xlabel('Sepal Length')\n",
    "plt.ylabel('Petal width')"
   ]
  },
  {
   "cell_type": "markdown",
   "metadata": {},
   "source": [
    "**Note**: As you may see, we have target values (aka labels) for our data, so we could also use supervised methods. But we can also make use of the labels in the unsupervised context, which we will see later on."
   ]
  },
  {
   "cell_type": "markdown",
   "metadata": {},
   "source": [
    "The next step in our analytics process would be an exploration of our dataset with different statistics and plots. As we have done this in task 2 above, we skip this step."
   ]
  },
  {
   "cell_type": "markdown",
   "metadata": {},
   "source": [
    "Afterwards, we can prepare our data for using PCA. Following step two of the pseudocode of the PCA, it is necessary to mean-center our data. Fill the following lines to perform the preparation step. Name the __centered__ dataset __X_centered__."
   ]
  },
  {
   "cell_type": "code",
   "execution_count": 21,
   "metadata": {},
   "outputs": [
    {
     "data": {
      "text/html": [
       "<div>\n",
       "<style scoped>\n",
       "    .dataframe tbody tr th:only-of-type {\n",
       "        vertical-align: middle;\n",
       "    }\n",
       "\n",
       "    .dataframe tbody tr th {\n",
       "        vertical-align: top;\n",
       "    }\n",
       "\n",
       "    .dataframe thead th {\n",
       "        text-align: right;\n",
       "    }\n",
       "</style>\n",
       "<table border=\"1\" class=\"dataframe\">\n",
       "  <thead>\n",
       "    <tr style=\"text-align: right;\">\n",
       "      <th></th>\n",
       "      <th>Sepal-length</th>\n",
       "      <th>Sepal-width</th>\n",
       "      <th>Petal-length</th>\n",
       "      <th>Petal-width</th>\n",
       "    </tr>\n",
       "  </thead>\n",
       "  <tbody>\n",
       "    <tr>\n",
       "      <th>0</th>\n",
       "      <td>-0.743333</td>\n",
       "      <td>0.446</td>\n",
       "      <td>-2.358667</td>\n",
       "      <td>-0.998667</td>\n",
       "    </tr>\n",
       "    <tr>\n",
       "      <th>1</th>\n",
       "      <td>-0.943333</td>\n",
       "      <td>-0.054</td>\n",
       "      <td>-2.358667</td>\n",
       "      <td>-0.998667</td>\n",
       "    </tr>\n",
       "    <tr>\n",
       "      <th>2</th>\n",
       "      <td>-1.143333</td>\n",
       "      <td>0.146</td>\n",
       "      <td>-2.458667</td>\n",
       "      <td>-0.998667</td>\n",
       "    </tr>\n",
       "    <tr>\n",
       "      <th>3</th>\n",
       "      <td>-1.243333</td>\n",
       "      <td>0.046</td>\n",
       "      <td>-2.258667</td>\n",
       "      <td>-0.998667</td>\n",
       "    </tr>\n",
       "    <tr>\n",
       "      <th>4</th>\n",
       "      <td>-0.843333</td>\n",
       "      <td>0.546</td>\n",
       "      <td>-2.358667</td>\n",
       "      <td>-0.998667</td>\n",
       "    </tr>\n",
       "  </tbody>\n",
       "</table>\n",
       "</div>"
      ],
      "text/plain": [
       "   Sepal-length  Sepal-width  Petal-length  Petal-width\n",
       "0     -0.743333        0.446     -2.358667    -0.998667\n",
       "1     -0.943333       -0.054     -2.358667    -0.998667\n",
       "2     -1.143333        0.146     -2.458667    -0.998667\n",
       "3     -1.243333        0.046     -2.258667    -0.998667\n",
       "4     -0.843333        0.546     -2.358667    -0.998667"
      ]
     },
     "execution_count": 21,
     "metadata": {},
     "output_type": "execute_result"
    }
   ],
   "source": [
    "# center X by mean\n",
    "# STUDENT CODE HERE\n",
    "from sklearn.preprocessing import scale\n",
    "\n",
    "\n",
    "#X_centered = pd.DataFrame(scale(X, with_mean = True), columns=X.columns)\n",
    "X_centered = X - X.mean()\n",
    "X_centered.head()\n",
    "\n",
    "X_centered.head()\n",
    "#print(X_centered.mean())\n",
    "\n",
    "# STUDENT CODE until HERE"
   ]
  },
  {
   "cell_type": "markdown",
   "metadata": {},
   "source": [
    "Looking at the plot from above, you suspect that the sepal length and the petal width are correlated. To confirm this, calculate their Pearson correlation.\n",
    "\n",
    "**Question**: Do you get evidence for your statement if you look at the correlation value?\n",
    "\n",
    "**Answer:**  yes, the correlation between Sepal-length and Petal-width is 0.8179\n"
   ]
  },
  {
   "cell_type": "code",
   "execution_count": 22,
   "metadata": {},
   "outputs": [
    {
     "name": "stdout",
     "output_type": "stream",
     "text": [
      "              Sepal-length  Sepal-width  Petal-length  Petal-width\n",
      "Sepal-length      1.000000    -0.109369      0.871754     0.817954\n",
      "Sepal-width      -0.109369     1.000000     -0.420516    -0.356544\n",
      "Petal-length      0.871754    -0.420516      1.000000     0.962757\n",
      "Petal-width       0.817954    -0.356544      0.962757     1.000000\n"
     ]
    }
   ],
   "source": [
    "# STUDENT CODE HERE\n",
    "\n",
    "\n",
    "X_pearson_corr = X.corr(method='pearson')\n",
    "print(X_pearson_corr)\n",
    "\n",
    "\n",
    "# STUDENT CODE until HERE"
   ]
  },
  {
   "cell_type": "markdown",
   "metadata": {},
   "source": [
    "To get a better idea of the PCA, we first want to show the working principle, therefore we made an interactive widget. The widget shows a scatterplot of the sepal length and the petal width of our dataset. The data will be projected on to the selected axis shown as a black solid line. The axis of projection can be set with the slider above the image, which controls the angle of the line. The loss of the projection (reprojection error) is also calculated."
   ]
  },
  {
   "cell_type": "code",
   "execution_count": 23,
   "metadata": {},
   "outputs": [],
   "source": [
    "#### DO NOT EDIT\n",
    "def projectionError(pointsOrig,projectionMatrix):\n",
    "    pointsProjected = pointsOrig.dot(projectionMatrix).dot(projectionMatrix.T)\n",
    "    sumSquaredDistance = sum(sum((pointsProjected-pointsOrig)**2))\n",
    "    projErr = sumSquaredDistance/len(pointsOrig)\n",
    "    return projErr\n",
    "def varianceProjected(pointsOrig, projectionMatrix):\n",
    "    z = pointsOrig.dot(projectionMatrix)\n",
    "    return np.var(z[:,0])\n",
    "def printLossGain(pointsOrig,projectionMatrix):\n",
    "    print(\"Projection Error: {:0.4f}\".format(projectionError(pointsOrig,projectionMatrix)))\n",
    "    print(\"Projected Variance: {:0.4f}\".format(varianceProjected(pointsOrig,projectionMatrix)))"
   ]
  },
  {
   "cell_type": "code",
   "execution_count": 24,
   "metadata": {},
   "outputs": [],
   "source": [
    "#### DO NOT EDIT\n",
    "###PCA###drawing\n",
    "def update_pca_2D(X,alpha):\n",
    "    #plt.figure(2,figsize=(8,8))\n",
    "    plt.cla()\n",
    "    w = np.array([np.cos(np.deg2rad(alpha)), np.sin(np.deg2rad(alpha))]).reshape(2,1)\n",
    "    z = X.dot(w).dot(w.T)\n",
    "    for i in range(0,100):\n",
    "        plt.plot([X[i,0], z[i,0]], [X[i,1], z[i,1]], c='r',aa=False)\n",
    "    \n",
    "    plt.plot(w[0]*3.5*np.array([-1, 1]), w[1]*3.5*np.array([-1, 1]), c='k',aa=False)\n",
    "    plt.plot(-w[1]*2*np.array([-1, 1]), w[0]*2*np.array([-1, 1]), c=(.6 ,.6, .6),aa=False)\n",
    "    \n",
    "    plt.scatter(z[:,0], z[:,1], c='r')\n",
    "    plt.scatter(X[:,0], X[:,1], c='b')\n",
    "    sct = plt.scatter(0,0,65,c='k',linewidth= 2)\n",
    "    #plt.setp(sct,mfc = (1, 1 ,1), mec = (0, 0, 0))    \n",
    "    printLossGain(X,w)\n",
    "    minval = min(min(X[:,0]),min(X[:,1]))\n",
    "    maxval = max(max(X[:,0]),max(X[:,1]))\n",
    "    plt.xlim([minval, maxval])\n",
    "    plt.ylim([minval, maxval])\n",
    "    plt.xlabel('Sepal Length')\n",
    "    plt.ylabel('Petal width')\n",
    "    #plt.show()"
   ]
  },
  {
   "cell_type": "code",
   "execution_count": 25,
   "metadata": {},
   "outputs": [
    {
     "data": {
      "application/vnd.jupyter.widget-view+json": {
       "model_id": "c3aabe4c931944f5a0aaacbe0ed03fa6",
       "version_major": 2,
       "version_minor": 0
      },
      "text/plain": [
       "interactive(children=(FloatSlider(value=0.0, description='alpha', layout=Layout(width='90%'), max=90.0, min=-9…"
      ]
     },
     "metadata": {},
     "output_type": "display_data"
    },
    {
     "data": {
      "text/plain": [
       "<Figure size 864x648 with 0 Axes>"
      ]
     },
     "metadata": {},
     "output_type": "display_data"
    }
   ],
   "source": [
    "#### DO NOT EDIT\n",
    "###PCA###drawing\n",
    "\n",
    "plt.figure() \n",
    "X0 = X_centered[['Sepal-length','Petal-width']]\n",
    "interactive_plot = widgets.interactive(update_pca_2D,\n",
    "         alpha=widgets.FloatSlider(min=-90, max=90, step=0.2, layout=widgets.Layout(width='90%')),\n",
    "                               X=widgets.fixed(X0.values))\n",
    "output = interactive_plot.children[-1]\n",
    "output.layout.height = '600px'\n",
    "interactive_plot"
   ]
  },
  {
   "cell_type": "markdown",
   "metadata": {},
   "source": [
    "**Question:** Now set the value of alpha in a such a way that the variance is maximized. What do you notice concerning the projection error, and which angle do we get for the black line?\n",
    "\n",
    "**Answer:**\n"
   ]
  },
  {
   "cell_type": "markdown",
   "metadata": {},
   "source": [
    "**Question:** What does that mean for our first principal component? Name one possible first principal component. What is the grey line showing?\n",
    "\n",
    "**Answer:**\n"
   ]
  },
  {
   "cell_type": "markdown",
   "metadata": {},
   "source": [
    "\n",
    "**Question:** Explain the loss and how do we make a loss here. What is the connection between the first Principal Component and the variance?\n",
    "\n",
    "**Answer:** \n"
   ]
  },
  {
   "cell_type": "markdown",
   "metadata": {},
   "source": [
    "### Implementing the PCA function.\n",
    "Use the given pseudocode to perform a PCA. Therefore, fill the gaps in the code below."
   ]
  },
  {
   "cell_type": "code",
   "execution_count": 26,
   "metadata": {},
   "outputs": [
    {
     "name": "stdout",
     "output_type": "stream",
     "text": [
      "[[ 0.68569351 -0.03926846  1.27368233  0.5169038 ]\n",
      " [-0.03926846  0.18800403 -0.32171275 -0.11798121]\n",
      " [ 1.27368233 -0.32171275  3.11317942  1.29638747]\n",
      " [ 0.5169038  -0.11798121  1.29638747  0.58241432]]\n",
      "[[ 0.68569351 -0.03926846  1.27368233  0.5169038 ]\n",
      " [-0.03926846  0.18800403 -0.32171275 -0.11798121]\n",
      " [ 1.27368233 -0.32171275  3.11317942  1.29638747]\n",
      " [ 0.5169038  -0.11798121  1.29638747  0.58241432]]\n",
      "[4.22484077 0.24224357 0.07852391 0.02368303] [[ 0.36158968 -0.65653988 -0.58099728  0.31725455]\n",
      " [-0.08226889 -0.72971237  0.59641809 -0.32409435]\n",
      " [ 0.85657211  0.1757674   0.07252408 -0.47971899]\n",
      " [ 0.35884393  0.07470647  0.54906091  0.75112056]]\n",
      "[0 1 2 3]\n",
      "[3 2 1 0]\n",
      "[[ 0.36158968 -0.65653988 -0.58099728  0.31725455]\n",
      " [-0.08226889 -0.72971237  0.59641809 -0.32409435]\n",
      " [ 0.85657211  0.1757674   0.07252408 -0.47971899]\n",
      " [ 0.35884393  0.07470647  0.54906091  0.75112056]]\n",
      "[4.22484077 0.24224357 0.07852391 0.02368303]\n",
      "4.569291275167783\n"
     ]
    }
   ],
   "source": [
    "Cov = np.array(X_centered.cov())\n",
    "\n",
    "Cov_T = np.transpose(Cov)\n",
    "w,V = np.linalg.eig(Cov)\n",
    "print(Cov)\n",
    "print(Cov_T)\n",
    "print(w,V)\n",
    "index = np.argsort(w)\n",
    "index =index[::-1]\n",
    "print(index)\n",
    "print(index[::-1])\n",
    "index_g =index[::-1]\n",
    "V_sorted = V[:,index]\n",
    "print(V_sorted)\n",
    "w_sorted = w[index]\n",
    "print(w_sorted)\n",
    "loss = np.sum(w_sorted[:])\n",
    "print(loss)"
   ]
  },
  {
   "cell_type": "code",
   "execution_count": 27,
   "metadata": {},
   "outputs": [
    {
     "data": {
      "text/plain": [
       "numpy.ndarray"
      ]
     },
     "execution_count": 27,
     "metadata": {},
     "output_type": "execute_result"
    }
   ],
   "source": [
    "type(Cov)"
   ]
  },
  {
   "cell_type": "code",
   "execution_count": 28,
   "metadata": {},
   "outputs": [],
   "source": [
    "def pca_own(X,k): \n",
    "    \"\"\" Calculates the Principal Component Analysis of X\n",
    "        Args: \n",
    "            X : correctly scaled matrix of data, each row is an observation\n",
    "            k (int) : number of components selected for the output.\n",
    "        Returns: \n",
    "            w : k eigenvalues \n",
    "            V : the matrix of k principal components\n",
    "            loss: the error made by using only k components as feature space\n",
    "    \"\"\"\n",
    "    # Tip: use the argsort() function to get the indices for sorting of V\n",
    "    # STUDENT CODE HERE\n",
    "    Cov = np.array(X.cov())\n",
    "    w,V = np.linalg.eig(Cov)\n",
    "    index = np.argsort(w)\n",
    "    index =index[::-1]\n",
    "    V_sorted = V[:,index]\n",
    "    w_sorted = w[index]\n",
    "    \n",
    "    loss = np.sum(w_sorted[k:])\n",
    "    \n",
    "    \n",
    "        \n",
    "        \n",
    "        \n",
    "    # STUDENT CODE until HERE\n",
    "    return w_sorted[:k], V_sorted[:,:k], loss\n"
   ]
  },
  {
   "cell_type": "markdown",
   "metadata": {},
   "source": [
    "Now use your function to calculate the two PCs of the dataset $X0$. $X0$ consists of the two features sepal length and petal width. The function for plotting is already given below."
   ]
  },
  {
   "cell_type": "code",
   "execution_count": 29,
   "metadata": {},
   "outputs": [
    {
     "name": "stdout",
     "output_type": "stream",
     "text": [
      "[1.15353076 0.11457707] [[ 0.7414199  -0.67104138]\n",
      " [ 0.67104138  0.7414199 ]] 0.0\n"
     ]
    }
   ],
   "source": [
    "# select features for demonstration\n",
    "X0 = X_centered[['Sepal-length','Petal-width']]\n",
    "# Call your PCA function with given k\n",
    "# STUDENT CODE HERE\n",
    "w,V,loss = pca_own(X0,2)\n",
    "print(w,V,loss)\n",
    "\n",
    "\n",
    "# STUDENT CODE until HERE"
   ]
  },
  {
   "cell_type": "code",
   "execution_count": 30,
   "metadata": {},
   "outputs": [
    {
     "name": "stdout",
     "output_type": "stream",
     "text": [
      "Directions of principal components:\n",
      "1st component: [0.7414199  0.67104138] \n",
      "2nd component: [-0.67104138  0.7414199 ]\n",
      "Loss by PCA transformation:  0.0\n"
     ]
    },
    {
     "data": {
      "image/png": "[encoded data removed]",
      "text/plain": [
       "<Figure size 720x720 with 1 Axes>"
      ]
     },
     "metadata": {},
     "output_type": "display_data"
    }
   ],
   "source": [
    "# DO NOT CHANGE\n",
    "print('Directions of principal components:\\n' +\\\n",
    "      '1st component:',\n",
    "      V[:,0],\n",
    "      '\\n2nd component:', \n",
    "      V[:,1]\n",
    "     )\n",
    "print('Loss by PCA transformation: ',loss)\n",
    "\n",
    "\n",
    "# Plotting function\n",
    "plt.figure(figsize=(10,10))\n",
    "plt.scatter(X0['Sepal-length'], X0['Petal-width'], s=50, c='b')\n",
    "\n",
    "for l, v in  zip(w, V):\n",
    "    d = 5 * np.sqrt(l) * v\n",
    "    plt.plot([0, d[0]], [0, d[1]], '-k', lw=3)\n",
    "plt.axis('equal')\n",
    "\n",
    "plt.xlabel('Sepal Length')\n",
    "plt.ylabel('Petal width')\n",
    "plt.show()"
   ]
  },
  {
   "cell_type": "markdown",
   "metadata": {},
   "source": [
    "**Question:** Have a look at the loss calculated above. Do you have an explanation for the value?\n",
    "\n",
    "**Answer:**  the loss is 0, becanse the dimensions of the data is not reduced.\n"
   ]
  },
  {
   "cell_type": "markdown",
   "metadata": {},
   "source": [
    "### Reducing the Dimension\n",
    "Till now, we have seen the direction of the first two principal components of the dataset $X0$. Now we want to use the whole dataset ($X_{centered}$) to be reduced on two variables.\n",
    "\n",
    "Fill in the gaps to call your own function \"pca_own\" with the correct value for $k$. Afterwards transform the data to the new feature space using the principal components returned by your function. \n",
    "\n",
    "\n",
    "The function for visualizing the results is given below. The color of the dots is indicating the target value (=iris class)."
   ]
  },
  {
   "cell_type": "markdown",
   "metadata": {},
   "source": [
    "**Question:** What value do we have to set for k, and what is the benefit of the PCA in this case?\n",
    "\n",
    "**Answer:** K should be 2\n"
   ]
  },
  {
   "cell_type": "code",
   "execution_count": 31,
   "metadata": {},
   "outputs": [
    {
     "data": {
      "text/plain": [
       "(2, 2)"
      ]
     },
     "execution_count": 31,
     "metadata": {},
     "output_type": "execute_result"
    }
   ],
   "source": [
    "X_centered.shape\n",
    "V.shape"
   ]
  },
  {
   "cell_type": "code",
   "execution_count": 32,
   "metadata": {},
   "outputs": [
    {
     "name": "stdout",
     "output_type": "stream",
     "text": [
      "[4.22484077 0.24224357] [[ 0.36158968 -0.65653988]\n",
      " [-0.08226889 -0.72971237]\n",
      " [ 0.85657211  0.1757674 ]\n",
      " [ 0.35884393  0.07470647]] 0.10220693522015732\n"
     ]
    }
   ],
   "source": [
    "# STUDENT CODE HERE\n",
    "w,V,loss = pca_own(X_centered,2)\n",
    "print(w,V,loss)\n",
    "#V = pd.DataFrame(V)\n",
    "X_transf = X_centered.dot(V)\n",
    "# STUDENT CODE until HERE\n"
   ]
  },
  {
   "cell_type": "code",
   "execution_count": 33,
   "metadata": {},
   "outputs": [
    {
     "data": {
      "text/html": [
       "<div>\n",
       "<style scoped>\n",
       "    .dataframe tbody tr th:only-of-type {\n",
       "        vertical-align: middle;\n",
       "    }\n",
       "\n",
       "    .dataframe tbody tr th {\n",
       "        vertical-align: top;\n",
       "    }\n",
       "\n",
       "    .dataframe thead th {\n",
       "        text-align: right;\n",
       "    }\n",
       "</style>\n",
       "<table border=\"1\" class=\"dataframe\">\n",
       "  <thead>\n",
       "    <tr style=\"text-align: right;\">\n",
       "      <th></th>\n",
       "      <th>0</th>\n",
       "      <th>1</th>\n",
       "    </tr>\n",
       "  </thead>\n",
       "  <tbody>\n",
       "    <tr>\n",
       "      <th>0</th>\n",
       "      <td>-2.684207</td>\n",
       "      <td>-0.326607</td>\n",
       "    </tr>\n",
       "    <tr>\n",
       "      <th>1</th>\n",
       "      <td>-2.715391</td>\n",
       "      <td>0.169557</td>\n",
       "    </tr>\n",
       "    <tr>\n",
       "      <th>2</th>\n",
       "      <td>-2.889820</td>\n",
       "      <td>0.137346</td>\n",
       "    </tr>\n",
       "    <tr>\n",
       "      <th>3</th>\n",
       "      <td>-2.746437</td>\n",
       "      <td>0.311124</td>\n",
       "    </tr>\n",
       "    <tr>\n",
       "      <th>4</th>\n",
       "      <td>-2.728593</td>\n",
       "      <td>-0.333925</td>\n",
       "    </tr>\n",
       "  </tbody>\n",
       "</table>\n",
       "</div>"
      ],
      "text/plain": [
       "          0         1\n",
       "0 -2.684207 -0.326607\n",
       "1 -2.715391  0.169557\n",
       "2 -2.889820  0.137346\n",
       "3 -2.746437  0.311124\n",
       "4 -2.728593 -0.333925"
      ]
     },
     "execution_count": 33,
     "metadata": {},
     "output_type": "execute_result"
    }
   ],
   "source": [
    "X_transf.head()"
   ]
  },
  {
   "cell_type": "code",
   "execution_count": 34,
   "metadata": {},
   "outputs": [
    {
     "name": "stdout",
     "output_type": "stream",
     "text": [
      "0.10220693522015732\n",
      "Directions of principal components:\n",
      "1st component: [ 0.36158968 -0.08226889  0.85657211  0.35884393] \n",
      "2nd component: [-0.65653988 -0.72971237  0.1757674   0.07470647]\n",
      "Meaning of the 2 components:\n",
      "0.362 x Sepal-length + -0.082 x Sepal-width + 0.857 x Petal-length + 0.359 x Petal-width\n",
      "-0.657 x Sepal-length + -0.730 x Sepal-width + 0.176 x Petal-length + 0.075 x Petal-width\n"
     ]
    },
    {
     "data": {
      "image/png": "[encoded data removed]",
      "text/plain": [
       "<Figure size 720x504 with 1 Axes>"
      ]
     },
     "metadata": {},
     "output_type": "display_data"
    }
   ],
   "source": [
    "# DO not edit\n",
    "print(loss)\n",
    "print('Directions of principal components:\\n' +\\\n",
    "      '1st component:', \n",
    "      V[:,0],\n",
    "      '\\n2nd component:',\n",
    "      V[:,1]\n",
    "     )\n",
    "\n",
    "print(\"Meaning of the 2 components:\")\n",
    "for component in V.T:\n",
    "    print(\" + \".join(\"%.3f x %s\" % (value, name)\n",
    "                     for value, name in zip(component,\n",
    "                                            names)))\n",
    "plt.figure(figsize=(10,7))\n",
    "# encoding labels as numbers for plotting\n",
    "le = LabelEncoder()\n",
    "y_plt = le.fit_transform(y)\n",
    "plt.scatter(X_transf.loc[:, 0], X_transf.loc[:, 1], c=y_plt, s=70, cmap='viridis')\n",
    "plt.xlabel('PC 1')\n",
    "plt.ylabel('PC 2')\n",
    "plt.show()"
   ]
  },
  {
   "cell_type": "markdown",
   "metadata": {},
   "source": [
    "**Question:** What is the meaning of the two principal components as printed above? \n",
    "\n",
    "**Answer:** the original data is protected to the two principal components\n"
   ]
  },
  {
   "cell_type": "markdown",
   "metadata": {},
   "source": [
    "\n",
    "## PCA for Iris Dataset with scikit-learn \n",
    "Now that we implemented PCA from scratch and understood the most important characteristics, we can step ahead and use the built-in PCA of Scikit-learn. There will be slightly different results in comparison to our own PCA function, because the scikit-learn implementation uses another mathematical formulation of the problem. Details on that can be found in the appendix. On the other hand, the implementation of Scikit contains further helpful functions. For example, we can directly transform our data in the selected subspace with the function fit_transform. "
   ]
  },
  {
   "cell_type": "markdown",
   "metadata": {},
   "source": [
    "### Reducing Dimensions\n",
    "The library \"decomposition\" of sklearn contains the PCA implementation. Compute the PCA of the complete centered dataset $\\mathbf{X}_{centered}$ selecting two principal components. Afterwards, transform the dataset to the new feature space. Fill in the gaps below and get the PCs. "
   ]
  },
  {
   "cell_type": "code",
   "execution_count": 35,
   "metadata": {},
   "outputs": [],
   "source": [
    "# STUDENT CODE HERE \n",
    "pca = decomposition.PCA(n_components=2)\n",
    "pca.fit(X_centered)\n",
    "\n",
    "X_pca = pca.fit_transform(X_centered)\n",
    "\n",
    "# STUDENT CODE until HERE "
   ]
  },
  {
   "cell_type": "code",
   "execution_count": 36,
   "metadata": {},
   "outputs": [
    {
     "name": "stdout",
     "output_type": "stream",
     "text": [
      "Direction of first principal component:\n",
      " [ 0.36158968 -0.08226889  0.85657211  0.35884393]\n"
     ]
    }
   ],
   "source": [
    "print('Direction of first principal component:\\n' ,\n",
    "      # STUDENT CODE HERE \n",
    "      pca.components_[0]\n",
    "      # STUDENT CODE until HERE \n",
    "     )"
   ]
  },
  {
   "cell_type": "code",
   "execution_count": 37,
   "metadata": {},
   "outputs": [
    {
     "name": "stdout",
     "output_type": "stream",
     "text": [
      "Direction of second principal component:\n",
      " [ 0.65653988  0.72971237 -0.1757674  -0.07470647]\n"
     ]
    }
   ],
   "source": [
    "print('Direction of second principal component:\\n' ,\n",
    "      # STUDENT CODE HERE \n",
    "    pca.components_[1]\n",
    "      # STUDENT CODE until HERE \n",
    "     )"
   ]
  },
  {
   "cell_type": "code",
   "execution_count": 38,
   "metadata": {},
   "outputs": [
    {
     "data": {
      "text/plain": [
       "array([0.92461621, 0.05301557])"
      ]
     },
     "execution_count": 38,
     "metadata": {},
     "output_type": "execute_result"
    }
   ],
   "source": [
    "pca.explained_variance_ratio_"
   ]
  },
  {
   "cell_type": "code",
   "execution_count": 39,
   "metadata": {},
   "outputs": [
    {
     "data": {
      "image/png": "[encoded data removed]",
      "text/plain": [
       "<Figure size 720x504 with 1 Axes>"
      ]
     },
     "metadata": {},
     "output_type": "display_data"
    }
   ],
   "source": [
    "plt.figure(figsize=(10,7))\n",
    "plt.scatter(X_pca[:, 0], X_pca[:, 1], c=y_plt, s=70, cmap='viridis')\n",
    "plt.xlabel('PC 1')\n",
    "plt.ylabel('PC 2')\n",
    "plt.show()"
   ]
  },
  {
   "cell_type": "markdown",
   "metadata": {},
   "source": [
    "**Question:** \n",
    "As we have seen above every PC is modeling some part of the variance of our original data. How much of the original datas information is preserved if we reduce the dimensions? What portion of variance is lost if we would only use one PC? Therefore, display the corresponding parameters of the PCA model.\n",
    "\n",
    "**Answer:**\n"
   ]
  },
  {
   "cell_type": "code",
   "execution_count": 40,
   "metadata": {},
   "outputs": [
    {
     "name": "stdout",
     "output_type": "stream",
     "text": [
      "one PC [0.92461621]\n",
      "two PC [0.92461621 0.05301557]\n"
     ]
    }
   ],
   "source": [
    "# STUDENT CODE HERE\n",
    "pca_1 = decomposition.PCA(n_components=1)\n",
    "pca_1.fit(X_centered)\n",
    "print(\"one PC\",pca_1.explained_variance_ratio_)\n",
    "\n",
    "print(\"two PC\", pca.explained_variance_ratio_)\n",
    "# STUDENT CODE until HERE\n",
    "\n"
   ]
  },
  {
   "cell_type": "markdown",
   "metadata": {},
   "source": [
    "In general, the amount of information we re retained here should be enough to maintain a good representation of our dataset. In practice, we would choose the number of principal components such that we can explain at least __90% of the initial data dispersion__ (via the `explained_variance_ratio`). \n",
    "\n",
    "### Accumulated Variance \n",
    "Below a function for plotting the individual explained variance ratio of each PC is given. Add a plot for the accumulated variance of all PCs. The *\"step\"* function with option *where='mid'* is used to plot the cumulative variance. Fill in the appropriate gap."
   ]
  },
  {
   "cell_type": "code",
   "execution_count": 41,
   "metadata": {},
   "outputs": [],
   "source": [
    "def plotPCAVariance(var_exp, X):\n",
    "    #STUDENT CODE HERE\n",
    "    \n",
    "    cum_var_exp = [sum(var_exp[0:i+1]) for i in range(len(var_exp))]\n",
    "    #STUDENT CODE until HERE \n",
    "    \n",
    "    #plotting individual explained variance is given\n",
    "    fig = plt.figure(figsize=(10,7))\n",
    "    ax = fig.add_axes([0.1, 0.1, 0.9, 0.9])\n",
    "    ax.bar(range(1, X.shape[1]+1), var_exp, alpha=0.5, align='center',\n",
    "        label='individual explained variance')\n",
    "    ax.set_ylabel('Explained variance ratio')\n",
    "    ax.set_xlabel('Principal component index')    \n",
    "    ax.set_xlim(0.5, X.shape[1]+0.5)\n",
    "    ax.set_yticks(np.arange(0, 1.1, 0.1))\n",
    "    ax.set_xticks(np.arange(1,X.shape[1]+1,1))\n",
    "\n",
    "    # plotting\n",
    "    ax.step(range(1, X.shape[1]+1), cum_var_exp, where='mid',\n",
    "         label='cumulative explained variance')\n",
    "    ax.legend(loc='best')\n",
    "    return fig, ax"
   ]
  },
  {
   "cell_type": "markdown",
   "metadata": {},
   "source": [
    "We have to get the explained variances for all PCs so we don't specify k when we call the PCA().fit() function. Afterwards we can use the result as input for our function and plot the explained variances."
   ]
  },
  {
   "cell_type": "code",
   "execution_count": 42,
   "metadata": {},
   "outputs": [
    {
     "data": {
      "image/png": "[encoded data removed]",
      "text/plain": [
       "<Figure size 720x504 with 1 Axes>"
      ]
     },
     "metadata": {},
     "output_type": "display_data"
    }
   ],
   "source": [
    "#  fit to centered data with k=Number of Features\n",
    "pca = decomposition.PCA().fit(X_centered)\n",
    "# get explained variance\n",
    "var_exp = pca.explained_variance_ratio_\n",
    "#plot\n",
    "fig, ax = plotPCAVariance(var_exp, X_centered)\n",
    "\n"
   ]
  },
  {
   "cell_type": "markdown",
   "metadata": {},
   "source": [
    "**Question:** How many PCs do we have to choose? What does that mean to our feature space? What is the intrinsic dimension of the dataset?\n",
    "\n",
    "**Answer:**\n"
   ]
  },
  {
   "cell_type": "markdown",
   "metadata": {},
   "source": [
    "### Influence of Scaling\n",
    "\n",
    "Up to now, we always used the mean-centered dataset. But as we learned in earlier tasks, there exist various ways to scale our dataset before performing any action. One example is normalization aka Z-Standardization.\n",
    "\n",
    "**Question:** What do you think would happen, if we use PCA on Z-Standardized data instead of mean-centered data? Explain briefly, why.\n",
    "\n",
    "**Answer:**\n"
   ]
  },
  {
   "cell_type": "markdown",
   "metadata": {},
   "source": [
    "## Principal Component Analysis Summary\n",
    "\n",
    "In this section we have discussed the use of principal component analysis for dimensionality reduction, for visualization of high-dimensional data and for feature selection within high-dimensional data.\n",
    "Because of the versatility and interpretability of PCA, it has been shown to be effective in a wide variety of contexts and disciplines.\n",
    "Given any high-dimensional dataset, we tend to start with PCA in order to visualize the relationship between points, to understand the main variance in the data, and to understand the intrinsic dimensionality (by plotting the explained variance ratio).\n",
    "Certainly PCA is not useful for every high-dimensional dataset, but it offers a straightforward and efficient path to gaining insight into high-dimensional data.\n",
    "\n",
    "PCA's main weakness is that it tends to be highly affected by different scaling as well as outliers in the data.\n",
    "For this reason, many robust variants of PCA have been developed, many of which act to iteratively discard data points that are poorly described by the initial components.\n",
    "Scikit-Learn contains a couple interesting variants on PCA, including ``RandomizedPCA`` and ``SparsePCA``, both also in the ``sklearn.decomposition`` submodule.\n",
    "``RandomizedPCA`` uses a non-deterministic method to quickly approximate the first few principal components in very high-dimensional data. It has a computation time complexity of $\\mathcal{O} (m \\cdot d2) + \\mathcal{O} (d3)$ instead of $\\mathcal{O}(m \\cdot n2) + \\mathcal{O}(n3)$ and is therefore far superior to the previous algorithms, provided that d is significantly smaller than n. while ``SparsePCA`` introduces a regularization term that serves to enforce sparsity of the components.\n",
    "\n",
    "One difficulty with standard implementation of the PCA (via SVD; see below) is that the entire training data set must fit into the memory for the SVD algorithm to run. Fortunately, incremental PCA (IPCA) algorithms have been developed: you can split the training data set into smaller portions and feed one IPCA algorithm one portion at a time. This is useful for large training datasets and when using PCA in onlineenvironments (i.e. as soon as new data points arrive). Note that for each subrecord you must call the partial_fit() method instead of fit() with all the training data."
   ]
  },
  {
   "cell_type": "markdown",
   "metadata": {},
   "source": [
    "# Appendix A: Computation of PCA via SVD\n",
    "The computation of PCA via the covariance matrix is prone to errors and needs a lot of memory. Fortunately, there is a standard technique for matrix factorization, Singular Value Decomposition (SVD), which allows you to decompose the matrix $X$ with the training data into the scalar product of the three matrices $U \\cdot  S \\cdot V^T$, where $V$ contains all the principal components you are looking for, as shown in the following formula:\n",
    "\n",
    "$$\\Large V = \\begin{pmatrix}\n",
    "\\mid & \\mid & & \\mid \\\\\n",
    "{\\bf c}_{1} & {\\bf c}_{2} & \\cdots & {\\bf c}_{n}\\\\\n",
    "\\mid & \\mid & & \\mid \\\\\n",
    "\\end{pmatrix}$$\n",
    "Internally, scikit-learn uses the SVD technique to compute the PCA.\n",
    "$ \\mathbf{S}$ contains the singular values\n",
    "\n",
    "$$ \\Large \\mathbf{S} = \\small \\begin{pmatrix}\n",
    "\\sigma_1 &          &          &        & \\vdots &        \\\\\n",
    "         & \\ddots   &          & \\cdots & 0      & \\cdots \\\\\n",
    "         &          & \\sigma_r &        & \\vdots &        \\\\\n",
    "\\hline\n",
    "         &  \\vdots  &          &        & \\vdots &        \\\\\n",
    "\\cdots   &  0       & \\cdots   & \\cdots & 0      & \\cdots \\\\\n",
    "         &  \\vdots  &          &        & \\vdots &        \\\\\n",
    "\\end{pmatrix} $$\n",
    "\n",
    "Now we know that the vectors $c_1$ to $c_n$ are the principal components pointing in the direection of maximal variance. But what do the singular values in $\\mathbf{S}$ mean? In fact, the squared singular values equal the eigenvalues of $X^T\\cdot X$ (eigenvalue $\\neq$ singular value!). The eigenvalue is proportional to the explained variance in the direction of the associated eigenvector. Consequently, also the squared singular values are proportional to the variance in the direction of the principal components (new feature dimensions) The sum of all the squared singular values is equal to the sum of the squared distances of the points from their multidimensional mean. As the covariance matrix can also be written in terms of $X^T\\cdot X$, the proportionality of the squared singular values to the explained variance is the same as eigenvalues of the covariance matrix.\n",
    "$$\\Large \\frac{\\sigma_i^2}{\\Sigma_i \\sigma_i^2} = \\frac{\\lambda_i}{\\Sigma_i \\lambda_i}$$\n",
    "with $\\lambda$ as eigenvalue of $cov(X)$. So every squared singular value is explaining the same part of variance as the eigenvalues of the original covariance matrix.  "
   ]
  }
 ],
 "metadata": {
  "kernelspec": {
   "display_name": "Python 3",
   "language": "python",
   "name": "python3"
  },
  "language_info": {
   "codemirror_mode": {
    "name": "ipython",
    "version": 3
   },
   "file_extension": ".py",
   "mimetype": "text/x-python",
   "name": "python",
   "nbconvert_exporter": "python",
   "pygments_lexer": "ipython3",
   "version": "3.7.3"
  },
  "toc": {
   "base_numbering": 1,
   "nav_menu": {},
   "number_sections": true,
   "sideBar": true,
   "skip_h1_title": false,
   "title_cell": "Table of Contents",
   "title_sidebar": "Contents",
   "toc_cell": false,
   "toc_position": {},
   "toc_section_display": true,
   "toc_window_display": true
  }
 },
 "nbformat": 4,
 "nbformat_minor": 2
}
