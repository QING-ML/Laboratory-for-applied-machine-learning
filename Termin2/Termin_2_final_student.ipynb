{
 "cells": [
  {
   "cell_type": "markdown",
   "metadata": {},
   "source": [
    "# Excercise 2 / Termin 2 "
   ]
  },
  {
   "cell_type": "markdown",
   "metadata": {},
   "source": [
    "## Recap of Termin 1 for Exercise 2\n",
    "At this point we will explain a section of code that will be very useful throughout this document.\n",
    "This section of code is as follows:\n",
    "\n",
    "```python\n",
    "filename = 'Datasets/pima-indians-diabetes.data.csv'\n",
    "names = ['preg', 'plas', 'pres', 'skin', 'test', 'mass', 'pedi', 'age', 'class']\n",
    "dataframe = read_csv(filename, names=names)\n",
    "array = dataframe.values\n",
    "X = array[:,0:8]\n",
    "Y = array[:,8]\n",
    "```\n",
    "\n",
    "\n",
    "\n",
    "```python\n",
    "filename = 'Datasets/pima-indians-diabetes.data.csv'\n",
    "```\n",
    "In the first line we find the declaration of the variable __filename__, which will contain the string corresponding to the path of the .csv file which in turn contains the database (the file contains the database or the file IS the database?).\n",
    "\n",
    "\n",
    "```python\n",
    "names = ['preg', 'plas', 'pres', 'skin', 'test', 'mass', 'pedi', 'age', 'class']\n",
    "```\n",
    "Then __names__ is defined, which is a list of strings, these words are __attributes__ that the database has, we must know in advance the name and order of the attributes in the database.\n",
    "\n",
    "\n",
    "```python\n",
    "dataframe = read_csv(filename, names=names)\n",
    "```\n",
    "At this point we get to the *read_csv* function, this function is part of the *pandas* module.\n",
    "In this case, the function is passed two parameters:\n",
    "the string that contains the path of the database and\n",
    "the vector that contains the names and correct order of the attributes. This vector will be used as the name for the columns in the database.\n",
    "\n",
    "The read_csv function returns a dataframe, which is the main data structure in pandas; it will be saved in the 'dataframe' variable.\n",
    "\n",
    "\n",
    "\n",
    "```python\n",
    "array = dataframe.values\n",
    "```\n",
    "As we are more comfortable working with arrays, we convert the dataframe into an array and store it in a variable.\n",
    "\n",
    "\n",
    "```python\n",
    "X = array[:,0:8]\n",
    "Y = array[:,8]\n",
    "```\n",
    "\n",
    "Then, this array will be divided into 2 arrays:\n",
    "X, which will contain the rows from 0 to 7, and\n",
    "Y, that should contain the entire row of column 8.\n",
    "\n",
    "What the ':' character does is described in the following link  \n",
    "https://docs.scipy.org/doc/numpy-1.10.1/reference/arrays.indexing.html#basic-slicing-and-indexing\n"
   ]
  },
  {
   "cell_type": "markdown",
   "metadata": {},
   "source": [
    "# Performance Evaluation"
   ]
  },
  {
   "cell_type": "markdown",
   "metadata": {},
   "source": [
    "## 0. Machine Learning and its Applications"
   ]
  },
  {
   "cell_type": "markdown",
   "metadata": {},
   "source": [
    "### Introduction"
   ]
  },
  {
   "cell_type": "markdown",
   "metadata": {},
   "source": [
    "We begin this section by defining some key concepts that we will use throughout this exercise.\n",
    "\n",
    "__Dataset:__ A collection of data is called a dataset. In general it is organized in a table form. Every row represents an item that can have multiple features. Every coloum represents one feature.\n",
    "\n",
    "\n",
    "__Descriptive analytics:__ It is the precursor of _predictive analytics_ and is based on obtaining and summarizing information from past events. Basic descriptive analytics techniques include counts, sums, averages, percentages, min, max and simple arithmetic (+, −, ×, and ÷).  \n",
    "\n",
    "\n",
    "__Predictive analytics:__ Is the result of further development of the concept _descriptive analytics_. Its goal is, based on the analysis of historical data, to make predictions about the future or about unknown events. Specific models or algorithms are used to achieve this.\n",
    "\n",
    "![Imagen predictive analytics](Images/predictive_analytics_in_a_pic.png)\n",
    "\n",
    "__Machine learning:__ Is an approach for solving _predictive analytics_ problems. Instead of applying explicitly dictated rules to process data, machine learning tries to figure out the underlying general concepts of the relationships in the dataset. These methods are able to vastly outperform traditional rule-based programming in many tasks, but have their own complications and disadvantages that need to be considered carefully.\n",
    "\n",
    "\n",
    "In this exercise you will learn to apply machine learning approaches to do educated (learned from training data) guesses for prediction.\n",
    "\n",
    "In machine learning a _predictive model_ learns its parameters from training data. Using this, the system is able to create predictions from input data. A special feature of many machine learning algorithms is the ability to interpolate and extrapolate information from the training data. However, there are several limitations to the generalization and the model will probably work best with data similar to the training data. Therefore, we will generally split our data in training, test and validation. These three concepts are important for almost all tasks in machine learning and will be defined in the following:\n",
    "\n",
    "\n",
    "- Training data: The data and examples used for optimizing the model's parameters. \n",
    "- Test data: Usually we are interested in how well the machine learning algorithm performs on data that it has not seen before, since this determines how well it will work when deployed in the real world. We therefore evaluate these performance measures using a test set of data that is separate from the data used for training the machine learning system.\n",
    "- Validation data: The validation set is used to estimate the generalization error during or after training, allowing for the hyperparameters (e.g. learning rate, k, tree-depth, batch-size, ...) to be updated accordingly and independently of test and training data. Therefore, it is important to split the validation data from test and training data. Typically, one uses about 80% of the training data for training and 20% for validation.\n",
    "\n",
    "<!--- www.digitalistmag.com/digital-economy/2018/03/15/differences-between-machine-learning-predictive-analytics-05977121 -->\n",
    "\n",
    "The goal of _predictive modeling_ is to create models that are good in forecasting. This is achieved by training the model using the training data. Testing the performance using the test data. And optimizing the hyperparameters using validation data. __However, in this exercise there will be no hyperparameters optimized.__ Accordingly, there is no validation set used and all data is used for training and test. You will learn different methods to split the data in training and test sets and how to use the data to train your machine learning model.\n",
    "\n",
    "There are multiple algorithms/networks, which can be used as predictive models, prominent examples are:\n",
    "- k-nearest neighbor algorithm\n",
    "- Neural Networks (Multi Layer Perceptrons MLPs)\n",
    "- Convolutional Neural Networks (CNNs)\n",
    "- Recurrent Neural Networks (RNNs)\n",
    "- And many more\n",
    "\n",
    "\n",
    "![xkcd.png](Images/xkcd.png)\n"
   ]
  },
  {
   "cell_type": "markdown",
   "metadata": {},
   "source": [
    "### Applications\n",
    "\n",
    "\n",
    "### Regression Problems\n",
    "In the scope of regression problems, a machine learning model needs to predict a _quantity_ (continous value) for new data. In practice, this works by fitting a function to a known set of datapoints. The prediction of the model is nothing more than the output of the function to a new input.\n",
    "\n",
    "Commonly used regression methods are _linear regression_ and _logistic regression_.\n",
    "Linear funcitons are easy to fit and to understand. However, the accuracy might not be the best if the underlying relationship in the data is nonlinear. Logistic regression fits a logistic sigmoid curve to the given data. This is normally used to approximate a probability function, which can later be used as the basis for a classification decision.\n",
    "\n",
    "\n",
    "![linear_logistic_regression](Images/linear_logistic_regression.jpeg)\n",
    "\n",
    "\n",
    "### Classification Problems\n",
    "Classification problems consist of predicting a discrete classes or category for new data. \n",
    "To solve a classification problem, it is usually required to fist create a model using regression. However, for classification, different metrics and model functions (e.g. logistic) are chosen. Additionally, classification thresholds are applied to the model prediction for a discrete output.\n",
    "\n",
    "![regression_classification_weather_example](Images/regression_classification_weather_example.jpeg)\n",
    "<p style=\"text-align: center;\">\n",
    "    Fig. 1 - Regression and classification on the basis of weather forecast\n",
    "</p>\n",
    "\n",
    "\n",
    "\n",
    "Both Regression and Classification problems can be solved with _supervised learning_ methods.  In this approach, both the input and the corresponding solution have to be known beforehand. Inputs and solutions are then given to the algorithm, which learns the general conceptual relationship between inputs and solutions until it is able to give a sensible output to novel inputs.\n",
    "\n",
    "\n",
    "### Clustering Problems\n",
    "_Unsupervised learning_ methods like clustering do not need a solution set to work. We will not focus on their performance metrics here because it requires more in-depth knowledge. You will learn about them in Termin 4.\n",
    "\n",
    "\n",
    "\n",
    "\n"
   ]
  },
  {
   "cell_type": "markdown",
   "metadata": {},
   "source": [
    "## 1. Evaluation Concepts in Machine Learning"
   ]
  },
  {
   "cell_type": "markdown",
   "metadata": {},
   "source": [
    "Machine Learning today is a lot like the Wild West: there’s endless opportunity and excitement, but also a lot of chaos and confusion. If you’re new to applied machine learning, evaluating a machine-learning model can seem pretty overwhelming. Hopefully this notebook will help you. In this section we will explore oVerfitting and Underfitting, Splitting Datasets and Cross-Validation. "
   ]
  },
  {
   "cell_type": "markdown",
   "metadata": {},
   "source": [
    "## 1.1. Overfitting and underfitting\n",
    "\n",
    "\n",
    "__Underfitting and Overfitting in Machine Learning__\n",
    "\n",
    "We have to always consider that we are designing a machine learning model and not a 'classical' algorithm. In general we can say that a well designed model will be able to generalize even to all possible kinds of data inputs of the domain. Let us give you an example: An image classifier trained on dogs, which is generalizing well enough, will be able to classify a Husky as a dog despite no Huskies present in the training data. The same principle works for predictions. A well generalized model will be able to make predictions based on data it has never seen before.\n",
    "\n",
    "\n",
    "It is important for us to know whether our model is generalizing well, or not. You could say, that it is important to build a fit model for the problem domain. This, however, is highly dependent on many factors. In machine learning the terms ‘overfitting’ and ‘underfitting’ are describing two problems related to the ability of the model to generalize.\n",
    "\n",
    "Underfitting:\n",
    "A statistical model or a machine learning algorithm is said to underfit when it cannot capture the underlying trend of the data. Underfitting destroys the accuracy of our machine learning model. Its occurrence means that the model or algorithm does not fit the data well enough. If the model underfits, it is not complex enough to capture the properties of the data (e.g. using a linear model on non-linear data). If your model underfits consider the selection of your ML method or try to adjust the hyperparameters. Often it can be helpful to reduce the amount of data and try to overfit in order to figure out whether the model selected is even possible to represent the available data.\n",
    "\n",
    "\n",
    "Overfitting:\n",
    "A statistical model is said to be overfit if the model is representing the test data well, but is not able to generalize to new, never seen, data. A typically trait of overfitted models is for example, that they even learn artifacts of the data, like its specific noise pattern. Therefore, overfitted models are in general very complex and high in dimension. Usually they will have an outstanding performance when shown familiar data and almost no performance on new data. In regression, overfitting can be avoided by selecting the right model parameters. For example: Select a linear regression model (not a non-linear) if you expect a linear model.\n",
    "\n",
    "<!--- \n",
    "link: https://www.geeksforgeeks.org/underfitting-and-overfitting-in-machine-learning/\n",
    "-->\n",
    "\n",
    "A model that works well should suffer from neither underfitting nor overfitting, but its behavior should be located between these two. Sometimes referred to as the Goldilocks principle of machine learning.\n",
    "An easy example is the orbit of the earth. It is not too far from the sun and therefore the temperatures are not too cold for liquid water on the surface. If it would be too close to the sun, it would be too hot for any liquid water. Ultimately, we know that we are neither too close nor too far; therefore, the position of planet earth is in the Goldilocks zone."
   ]
  },
  {
   "cell_type": "code",
   "execution_count": 3,
   "metadata": {},
   "outputs": [
    {
     "data": {
      "image/png": "[encoded data removed]",
      "text/plain": [
       "<Figure size 1008x288 with 3 Axes>"
      ]
     },
     "metadata": {},
     "output_type": "display_data"
    }
   ],
   "source": [
    "import numpy as np\n",
    "import matplotlib.pyplot as plt\n",
    "from sklearn.pipeline import Pipeline\n",
    "from sklearn.preprocessing import PolynomialFeatures\n",
    "from sklearn.linear_model import LinearRegression\n",
    "\n",
    "\n",
    "np.random.seed(0)\n",
    "\n",
    "n_samples = 30\n",
    "\n",
    "### STUDENT CODE HERE\n",
    "degrees = [1,3,15]\n",
    "\n",
    "# STUDENT CODE until HERE\n",
    "\n",
    "true_fun = lambda X: np.cos(1.5 * np.pi * X)\n",
    "X = np.sort(np.random.rand(n_samples))\n",
    "y = true_fun(X) + np.random.randn(n_samples) * 0.1\n",
    "\n",
    "plt.figure(figsize=(14, 4))\n",
    "for i in range(len(degrees)):\n",
    "    ax = plt.subplot(1, len(degrees), i+1)\n",
    "    plt.setp(ax, xticks=(), yticks=())\n",
    "\n",
    "    polynomial_features = PolynomialFeatures(degree=degrees[i],\n",
    "                                             include_bias=False)\n",
    "    linear_regression = LinearRegression()\n",
    "    pipeline = Pipeline([(\"polynomial_features\", polynomial_features),   \n",
    "                         (\"linear_regression\", linear_regression)])\n",
    "    pipeline.fit(X[:, np.newaxis], y)  # np.newaxis 1D list to 1*1 narray\n",
    "\n",
    "    X_test = np.linspace(0, 1, 100) # capture 100 num in interval from 0 to 1 \n",
    "    plt.plot(X_test, pipeline.predict(X_test[:, np.newaxis]), label=\"Model\")\n",
    "    plt.plot(X_test, true_fun(X_test), label=\"True function\")\n",
    "    plt.scatter(X, y, label=\"Samples\")\n",
    "    plt.xlabel(\"x\")\n",
    "    plt.ylabel(\"y\")\n",
    "    plt.xlim((0, 1))\n",
    "    plt.ylim((-2, 2))\n",
    "    plt.legend(loc=\"best\")\n",
    "    plt.title(\"Degree %s\" % degrees[i])\n",
    "plt.show()"
   ]
  },
  {
   "cell_type": "markdown",
   "metadata": {},
   "source": [
    "<div class=\"alert alert-block alert-success\">\n",
    "<b>Question:</b> Which model degree is representing overfitting, which underfitting and which degree is fit? \n",
    "</div>\n",
    "\n",
    "<div class=\"alert alert-block alert-success\">\n",
    "<b>Your Answer:</b> Degree 1 is underfitting, Degree 3 is fit, Degree 15 is overfitting.\n",
    "</div>"
   ]
  },
  {
   "cell_type": "markdown",
   "metadata": {},
   "source": [
    "## 1.2. Splitting Datasets into Training and Test Sets"
   ]
  },
  {
   "cell_type": "markdown",
   "metadata": {},
   "source": [
    "When you’re working on a model and want to train it, you obviously have a dataset. But after training, we have to test the model on some test dataset. For this, you want to have a test set which is different from the training set you used earlier. But it might not always be possible to have a lot of data early in the development phase.\n",
    "\n",
    "In such situations, the most obvious solution is to divide the data set you have into two groups, one for training and one for testing; and you do that before you start training your model.One Part will be used to train the model. Once the machine is trained, we will compare the predictions to estimate the performance of the model.\n",
    "\n",
    "The size of the split can depend on the size and specifics of your dataset, although it is common to use 67% of the data for training and the remaining 33% for testing. A split ratio of 80/20 is also very common.  \n",
    "\n",
    "This algorithm evaluation technique is very fast. It is ideal for large datasets (millions of records) where there is strong evidence that both splits of the data are representative of the underlying problem. Because of the speed, it is useful to use this approach when the algorithm you are investigating is slow to train. \n",
    "A downside of this technique is that it can have a high variance. This means that differences in the training and test dataset can result in meaningful differences in the estimate of accuracy."
   ]
  },
  {
   "cell_type": "markdown",
   "metadata": {},
   "source": [
    "## Exercise 1.2.a:\n",
    "Run the following code block and experiment with the checkboxes. Use your gained knowledge to solve the following excercises.\n",
    "<div class=\"alert alert-block alert-success\">\n",
    "<b>Up to you:</b> Execute the code in the next code block. The code performs a linear regression for an exemplary diabetes dataset. More information about this dataset can be found at: https://www4.stat.ncsu.edu/~boos/var.select/diabetes.html or at the complete paper http://web.stanford.edu/~hastie/Papers/LARS/LeastAngle_2002.pdf (be warned 44 pages, not recommended to read everything). Also, the code creates an interactive diagram to help you solve the first task.\n",
    "</div>"
   ]
  },
  {
   "cell_type": "code",
   "execution_count": 46,
   "metadata": {
    "scrolled": false
   },
   "outputs": [
    {
     "name": "stdout",
     "output_type": "stream",
     "text": [
      "Coefficients: \n",
      " [938.23786125]\n"
     ]
    },
    {
     "data": {
      "application/vnd.jupyter.widget-view+json": {
       "model_id": "46f4b4bd64ae4c43853e5242996c09d8",
       "version_major": 2,
       "version_minor": 0
      },
      "text/plain": [
       "interactive(children=(Checkbox(value=True, description='p1'), Checkbox(value=True, description='p2'), Checkbox…"
      ]
     },
     "metadata": {},
     "output_type": "display_data"
    }
   ],
   "source": [
    "# Code source: Jaques Grobler\n",
    "# License: BSD 3 clause\n",
    "\n",
    "# https://scikit-learn.org/stable/auto_examples/linear_model/plot_ols.html\n",
    "\n",
    "import matplotlib.pyplot as plt\n",
    "import numpy as np\n",
    "from sklearn import datasets, linear_model\n",
    "from sklearn.metrics import mean_squared_error, r2_score\n",
    "\n",
    "from ipywidgets import interact, interactive, fixed, interact_manual\n",
    "\n",
    "# Load the diabetes dataset\n",
    "diabetes = datasets.load_diabetes()\n",
    "\n",
    "# Use only one feature\n",
    "diabetes_X = diabetes.data[:, np.newaxis, 2]\n",
    "\n",
    "# Split the data into training/testing sets\n",
    "diabetes_X_train = diabetes_X[:-20]\n",
    "diabetes_X_test = diabetes_X[-20:]\n",
    "\n",
    "# Split the targets into training/testing sets\n",
    "diabetes_y_train = diabetes.target[:-20]\n",
    "diabetes_y_test = diabetes.target[-20:]\n",
    "\n",
    "# Create linear regression object\n",
    "regr = linear_model.LinearRegression()\n",
    "\n",
    "# Train the model using the training sets\n",
    "regr.fit(diabetes_X_train, diabetes_y_train)\n",
    "\n",
    "# Make predictions using the testing set\n",
    "diabetes_y_pred = regr.predict(diabetes_X_test)\n",
    "\n",
    "# The coefficients\n",
    "print('Coefficients: \\n', regr.coef_)\n",
    "\n",
    "def f(p1, p2, p3, p4):\n",
    "    plt.figure(num=None, figsize=(8, 6), dpi=80, facecolor='w', edgecolor='k')\n",
    "\n",
    "    # Plot outputs\n",
    "    if p1 == True:\n",
    "        plt.scatter(diabetes_X_train, diabetes_y_train,  color='black')\n",
    "    #plt.scatter(diabetes_X_train, diabetes_y_pred, color='blue')\n",
    "    \n",
    "    if p2 == True:\n",
    "        plt.scatter(diabetes_X_test, diabetes_y_test,  color='green')\n",
    "\n",
    "    if p3 == True:\n",
    "        plt.scatter(diabetes_X_test, diabetes_y_pred, color='blue')\n",
    "\n",
    "    if p4 == True:\n",
    "        plt.plot(diabetes_X_test, diabetes_y_pred, color='blue', linewidth=1)\n",
    "    \n",
    "    plt.xlim(-0.10997004779892904, 0.19024997788107048)\n",
    "    plt.ylim(8.940894039735102, 362.05910596026484)\n",
    "    \n",
    "    # this hides the numbers on the axis\n",
    "    #plt.xticks(())\n",
    "    #plt.yticks(())\n",
    "\n",
    "    plt.show()\n",
    "    \n",
    "interactive_plot = interactive(f, p1=True, p2=True, p3=True, p4=True)\n",
    "output = interactive_plot.children[-1]\n",
    "output.layout.height = '400px'\n",
    "interactive_plot\n"
   ]
  },
  {
   "cell_type": "markdown",
   "metadata": {},
   "source": [
    "Complete the following text to be consistent with the help of the table below and the interactive graph above, then, complete the table.\n",
    "\n",
    "<div class=\"alert alert-block alert-info\">\n",
    "The following text describes the steps to create a predictive model for a linear regression: <br>\n",
    "<br>\n",
    "By examining p1 and p2, you can take a glimpse of the entire dataset.  In the diagram above, the separation of the data is represented by different colors. Typically the data set is divided into train, test and validation, but for simple models a basic test train split can also be used. As a general rule the test set (80%) is larger than the test set (20%).\n",
    "After the split, the trainings set is passed to the linear regression model.The linear regression model has a parameter that creates a linear function. You can show this function by clicking p4.<br>\n",
    "<br>\n",
    "Then, we will use this line to calculate the values of y for the values of x of the test subset, these points are represented by p3.  \n",
    "<br>\n",
    "Obviously all those points will be located on the line. In a next step, different metrics can be calculated, that would give us an idea of how well this model works with this data. With these metrics we would compare this model with others or with other parameters for this model.  \n",
    "<br>\n",
    "When we finish choosing the model and its parameters, we will retrain the model, this time using the complete database. \n",
    "</div>\n",
    "\n",
    "|         -          |        -                     |\n",
    "|--------------------|------------------------------|\n",
    "| Train dataset      | p1                     |\n",
    "|--------------------|------------------------------|\n",
    "| Test dataset       | p2                    |\n",
    "|--------------------|------------------------------|\n",
    "| Predicted dataset  | p3                    |\n",
    "|--------------------|------------------------------|\n",
    "| Regression function | p4                    |\n"
   ]
  },
  {
   "cell_type": "markdown",
   "metadata": {},
   "source": [
    "## Exercise 1.2.b.:\n",
    "Now it's time to write your own train split function. Use the following instructions and the given code template\n",
    " \n",
    "- The function will receive the original dataset and return the two partitions(named train and test).\n",
    "- Also this function will receive a number between 0 and 1, wich will represent the porcentual size relationship between \"train\" and \"test\". That is, if for example, split = 0.7, 70% of the data will be used for training and the remaining 30% will be reserved for testing.\n",
    "- We want the partition to be random, so you will probable need to import from the module _\"random.py\"_ (which is part of the _Python standard library_) the functions _seed_ and _randrange_. The _seed_ function will allow the result of _randrange_ each time the code is executed to be the same.\n",
    "- A good practice would be to create a copy of the original dataset inside the function. That way the original dataset wouldnt be modified, then take some of the rows of that dataset and put them on another list and then return both, wich is train and wich test is up to you to decide."
   ]
  },
  {
   "cell_type": "code",
   "execution_count": 1,
   "metadata": {},
   "outputs": [],
   "source": [
    "# Example of Splitting a Contrived Dataset into Train and Test\n",
    "from random import seed\n",
    "from random import randrange\n",
    "from random import shuffle\n",
    "\n",
    "# Split a dataset into a train and test set\n",
    "def my_train_test_split(dataset, split):\n",
    "    #STUDENT CODE HERE\n",
    "    \n",
    "    seed(1)\n",
    "    shuffle(dataset)\n",
    "    \n",
    "    train = []\n",
    "    test = []\n",
    "    for i in range(int(split*len(dataset))):\n",
    "        train.append(dataset[i])\n",
    "    for j in range(int(split*len(dataset)),len(dataset)):\n",
    "        test.append(dataset[j])        \n",
    "        \n",
    "    \n",
    "    \n",
    "    \n",
    "\n",
    "    #STUDENT CODE until HERE\n",
    "    return train, test"
   ]
  },
  {
   "cell_type": "markdown",
   "metadata": {},
   "source": [
    "<div class=\"alert alert-block alert-success\">\n",
    "<b>Task:</b> Test your train test_split_function with the following example: \n",
    "</div>"
   ]
  },
  {
   "cell_type": "code",
   "execution_count": 2,
   "metadata": {},
   "outputs": [
    {
     "name": "stdout",
     "output_type": "stream",
     "text": [
      "[[7], [9], [10], [8], [6], [4], [1]]\n",
      "[[5], [2], [3]]\n"
     ]
    }
   ],
   "source": [
    "# test train/test split\n",
    "dataset = [[1], [2], [3], [4], [5], [6], [7], [8], [9], [10]]\n",
    "train, test = my_train_test_split(dataset,0.7)\n",
    "print(train)\n",
    "print(test)"
   ]
  },
  {
   "cell_type": "markdown",
   "metadata": {},
   "source": [
    "There are many methods to perform the process of dividing the dataset(into train and test subsets) and evaluating the model of wich we just talked about.\n",
    "In this section we will learn the two main methods, which are:\n",
    "- split, train and test\n",
    "- k-fold cross validation\n",
    "\n",
    "There are also some other methods but these two are the foundations.  \n",
    "These two are some of the called __resampling methods__, wich are statistical methods that allow to __estimate__ the performance of the model, how well it will perform, how good are their predictions.\n",
    "The goal of resampling methods is to make the best use of your training data in order to accurately estimate the performance of a model on new unseen data.  \n",
    "\n",
    "They are called resampling methods because they resample the available training data as a mean to measure how good is the predictive method.  \n",
    "\n",
    "Once we reached an accurate estimation of the performance of the model, we can use that to help us choose which set of model parameters to use or which model to select.  \n",
    "Once we have chosen a model, we can train the final model on the entire training dataset and start using it to make predictions.  \n",
    "At the end of this section, we will learn when to use which resampling method.\n",
    "\n",
    "A common feature of all resampling methods is the need to randomly select the rows for the Training Test and Validation dataset\n",
    "This is an attempt to ensure that the training and evaluation of a model is objective and that the results are repeatable.  \n",
    "If multiple algorithms are compared or multiple __configurations__ of the same algorithm are compared, the exact same train and test split of the dataset should be used. This is to ensure that the comparison of performance is consistent and we compare apples-to-apples. We can achieve this by fixing the __random seed__ of the random number generator the same way before splitting the data, or by holding the same split of the dataset for use by multiple algorithms.  "
   ]
  },
  {
   "cell_type": "markdown",
   "metadata": {},
   "source": [
    "## Exercise 1.2.c.:\n",
    "After you have successfully written your first train/split function, you are now officially allowed to use train/split-function provided by the Scikit-Learn library. Scikit-Learn sklearn is a common used library, which will booooooost your productivity. \n",
    "It is a free software machine learning library for the Python programming language. It features various classification, regression and clustering algorithms including support vector machines, random forests, gradient boosting, k-means and DBSCAN, and is designed to interoperate with the Python numerical and scientific libraries NumPy and SciPy.\n",
    "\n",
    "You can find a selection of function in the Scikit-Learn cheatsheets on Ilias or online. After you've finished exploring the cheatsheet, answer the following question: "
   ]
  },
  {
   "cell_type": "markdown",
   "metadata": {},
   "source": [
    "<div class=\"alert alert-block alert-success\">\n",
    "<b>Question 1:</b> What function would you chose to split the dataset?\n",
    "</div>\n",
    "<div class=\"alert alert-block alert-success\">\n",
    "<b>Your Answer:</b> train_test_split\n",
    "</div>\n",
    "\n",
    "<div class=\"alert alert-block alert-success\">\n",
    "<b>Question 2:</b> What are the input parameters of the function and what is its return value?\n",
    "</div>\n",
    "<div class=\"alert alert-block alert-success\">\n",
    "<b>Your Answer:</b>input: dataset, test_size, output:trainset,testset\n",
    "</div>\n"
   ]
  },
  {
   "cell_type": "markdown",
   "metadata": {},
   "source": [
    "Now it's time for using the function. First we will use the function on a constructed dataset (just the numbers from 0 to 10).\n",
    "The size of the test set must be adjusted to 40%. Write and test your solution in the following code block."
   ]
  },
  {
   "cell_type": "code",
   "execution_count": 4,
   "metadata": {},
   "outputs": [
    {
     "name": "stdout",
     "output_type": "stream",
     "text": [
      "[[2], [7], [8], [4], [1], [6]]\n",
      "[[3], [9], [5], [10]]\n"
     ]
    }
   ],
   "source": [
    "# Example of Splitting a Contrived Dataset into Train and Test\n",
    "from random import seed\n",
    "from random import randrange\n",
    "from sklearn.model_selection import train_test_split\n",
    "\n",
    "# test train/test split\n",
    "dataset = [[1], [2], [3], [4], [5], [6], [7], [8], [9], [10]]\n",
    "\n",
    "#STUDENT CODE HERE\n",
    "train, test = train_test_split(dataset, test_size=0.4,random_state=0)\n",
    "#STUDENT CODE until HERE\n",
    "\n",
    "print(train)\n",
    "print(test)"
   ]
  },
  {
   "cell_type": "markdown",
   "metadata": {},
   "source": [
    "## Exercise 1.2.d.: Pima Indians Diabetes Data Set\n",
    "The Dataset is available on Ilias. The original paper using this dataset can be found here:  https://www.ncbi.nlm.nih.gov/pmc/articles/PMC2245318/ \n",
    "This paper from 1984 created a Neural Network model for the onset of diabetes mellitus in a high risk population of Pima Indians, with a sensitivity and specificity of 76%."
   ]
  },
  {
   "cell_type": "markdown",
   "metadata": {},
   "source": [
    "__Data Set Information:__\n",
    "\n",
    "Several constraints were placed on the selection of these instances from a larger database. In particular, all patients here are females at least 21 years old of Pima Indian heritage.\n",
    "\n",
    "Feature Information:\n",
    "\n",
    "1. Number of times pregnant\n",
    "2. Plasma glucose concentration a 2 hours in an oral glucose tolerance test\n",
    "3. Diastolic blood pressure (mm Hg)\n",
    "4. Triceps skin fold thickness (mm)\n",
    "5. 2-Hour serum insulin (mu U/ml)\n",
    "6. Body mass index (weight in kg/(height in m)^2)\n",
    "7. Diabetes pedigree function\n",
    "8. Age (years)\n",
    "9. Class variable (0 or 1)"
   ]
  },
  {
   "cell_type": "markdown",
   "metadata": {},
   "source": [
    "Now that you know the features of the dataset, we start coding. \n",
    "\n",
    "<div class=\"alert alert-block alert-warning\">\n",
    "<b>Solve the subtasks 1-3 in the corresponding code blocks below</b> \n",
    "<ul>\n",
    "  <li>Import the csv-file containing the Pima Indians dataset</li>\n",
    "  <li>How many Indians have no diabetes (class = 0) or have diabetes (class = 1)? What is the proportion/ratio of these two quantities?</li>\n",
    "  <li>Perform a dataset split using the train_test_split method from sklearn with the test size of 0.25 <br> (respectively a train size of 0.75) and a random_state = 0.</li>\n",
    "</ul>\n",
    "</div>\n"
   ]
  },
  {
   "cell_type": "code",
   "execution_count": 9,
   "metadata": {},
   "outputs": [],
   "source": [
    "# loading Libraries\n",
    "from pandas import read_csv\n",
    "import pandas as pd\n",
    "import numpy as np\n",
    "\n",
    "#Subtask 1: Load the pima-indians-diabetes dataset\n",
    "#STUDENT CODE HERE\n",
    "filename = 'Datasets/pima-indians-diabetes.data.csv'\n",
    "names = ['preg', 'plas', 'pres', 'skin', 'test', 'mass', 'pedi', 'age', 'class']\n",
    "data = read_csv(filename, names=names)\n",
    "\n",
    "#STUDENT CODE until HERE"
   ]
  },
  {
   "cell_type": "code",
   "execution_count": 10,
   "metadata": {},
   "outputs": [
    {
     "name": "stdout",
     "output_type": "stream",
     "text": [
      "Number of Indians without diabets: \n",
      "500\n",
      "Number of Indians with diabets: \n",
      "268\n",
      "Ratio of Indians with diabetes and no diabetes: \n",
      "Ratio of Indians with diabetes:  0.3489583333333333\n",
      "Ratio of Indians without diabetes:  0.6510416666666666\n"
     ]
    }
   ],
   "source": [
    "#Subtask2:\n",
    "#How many Indians have diabetes (class =1) or have no diabetes (class = 0)? \n",
    "#What is the proportion of these two quantities?\n",
    "#Hint: the easiest way is to use the groupby method in combination of the size method\n",
    "#https://pandas.pydata.org/pandas-docs/stable/reference/api/pandas.DataFrame.groupby.html\n",
    "\n",
    "#STUDENT CODE HERE\n",
    "column_class=data['class']\n",
    "class_count=column_class.value_counts()\n",
    "\n",
    "#STUDENT CODE until HERE\n",
    "\n",
    "print(\"Number of Indians without diabets: \")\n",
    "#STUDENT CODE HERE\n",
    "print(class_count[0])\n",
    "#STUDENT CODE until HERE\n",
    "\n",
    "print(\"Number of Indians with diabets: \")\n",
    "#STUDENT CODE HERE\n",
    "print(class_count[1])\n",
    "#STUDENT CODE until HERE\n",
    "\n",
    "print(\"Ratio of Indians with diabetes and no diabetes: \")\n",
    "\n",
    "#STUDENT CODE HERE\n",
    "all_sample=class_count[0]+class_count[1]\n",
    "print(\"Ratio of Indians with diabetes: \", class_count[1]/all_sample)\n",
    "print(\"Ratio of Indians without diabetes: \",class_count[0]/all_sample)\n",
    "#STUDENT CODE until HERE\n"
   ]
  },
  {
   "cell_type": "code",
   "execution_count": null,
   "metadata": {},
   "outputs": [],
   "source": []
  },
  {
   "cell_type": "code",
   "execution_count": 57,
   "metadata": {},
   "outputs": [
    {
     "name": "stdout",
     "output_type": "stream",
     "text": [
      "Number of elements in the testset: \n",
      "192\n",
      "Number of elements in the trainingset: \n",
      "576\n"
     ]
    }
   ],
   "source": [
    "#Subtask 3: \n",
    "#Divide the dataset into training and testing data using the train_test_split function\n",
    "\n",
    "#STUDENT CODE HERE\n",
    "train, test = train_test_split(data, test_size=0.25)\n",
    "#STUDENT CODE until HERE\n",
    "\n",
    "print(\"Number of elements in the testset: \")\n",
    "#STUDENT CODE HERE\n",
    "print(len(test))\n",
    "#STUDENT CODE until HERE\n",
    "\n",
    "print(\"Number of elements in the trainingset: \")\n",
    "#STUDENT CODE HERE\n",
    "print(len(train))\n",
    "#STUDENT CODE until HERE"
   ]
  },
  {
   "cell_type": "markdown",
   "metadata": {},
   "source": [
    "<div class=\"alert alert-block alert-success\">\n",
    "<b>Extra Cookie Question:</b> Which Indian woman (ID) had the thickest triceps? (Cookies for correct answer!)\n",
    "</div>"
   ]
  },
  {
   "cell_type": "code",
   "execution_count": 11,
   "metadata": {},
   "outputs": [
    {
     "name": "stdout",
     "output_type": "stream",
     "text": [
      "The ID of Indian woman that had the thickest triceps:  579\n"
     ]
    }
   ],
   "source": [
    "#STUDENT CODE HERE\n",
    "for i in range(len(data)):\n",
    "    if data.loc[i,'skin']==max(data['skin']):\n",
    "        print(\"The ID of Indian woman that had the thickest triceps: \",i)\n",
    "        \n",
    "#STUDENT CODE until HERE"
   ]
  },
  {
   "cell_type": "markdown",
   "metadata": {},
   "source": [
    "<div class=\"alert alert-block alert-success\">\n",
    "<b>Question:</b>What would be the disadvantage of an uneven distribution of the targets (in our dataset class 0/1) between training and test dataset. In other words: many instances of class 1 in training data and less instances of class 1 in the test data.\n",
    "</div>\n",
    "\n",
    "<div class=\"alert alert-block alert-success\">\n",
    "<b>Your Answer:</b> It results to overfitting "
   ]
  },
  {
   "cell_type": "markdown",
   "metadata": {},
   "source": [
    "## 1.3. Stratification Sampling\n",
    "\n",
    "Stratified sampling aims at splitting one data set so that each split are similar with respect to something.\n",
    "\n",
    "In a classification setting, it is often chosen to ensure that the train and test sets have approximately the same percentage of samples of each target class as the complete set.\n",
    "\n",
    "### Exercise 1.3.a.:\n",
    "<div class=\"alert alert-block alert-success\">\n",
    "<b>Question:</b> Add the stratify parameter to the train_test_split method. \n",
    "</div>"
   ]
  },
  {
   "cell_type": "code",
   "execution_count": 47,
   "metadata": {},
   "outputs": [
    {
     "name": "stdout",
     "output_type": "stream",
     "text": [
      "Proportion of 'targets' in test and train dataset\n",
      "Training: [0.65104167 0.34895833]\n",
      "Test: [0.65104167 0.34895833]\n"
     ]
    }
   ],
   "source": [
    "#Save features and targets in a separate data structure\n",
    "features = ['preg', 'plas', 'pres', 'skin', 'test', 'mass', 'pedi', 'age']\n",
    "target = ['class']\n",
    "features, targets = diabetes_dataset[features], diabetes_dataset[target]\n",
    "\n",
    "#Use the train_test_split function for splitting data.\n",
    "#Task: Add the correct stratify parameter to the function call\n",
    "\n",
    "train_features, test_features, train_targets, test_targets = train_test_split(\n",
    "        features, targets,\n",
    "        train_size=0.75,\n",
    "        test_size=0.25,\n",
    "        random_state=41, # important for later, do not change yet\n",
    "        #STUDENT CODE HERE\n",
    "        stratify=targets\n",
    "        #STUDENT CODE until HERE\n",
    "    )\n",
    "\n",
    "#np.bincount: count quantity of each element in narray, flatten(): list collapsed into 1D\n",
    "print(\"Proportion of 'targets' in test and train dataset\")\n",
    "print(\"Training:\", np.bincount(train_targets.values.flatten()) / float(len(train_targets)))\n",
    "print(\"Test:\", np.bincount(test_targets.values.flatten())/ float(len(test_targets)))"
   ]
  },
  {
   "cell_type": "markdown",
   "metadata": {},
   "source": [
    "<div class=\"alert alert-block alert-success\">\n",
    "<b>Question:</b> What have we achieved through the Data Stratification again? View the output of the previous code block and describe it with your own words. \n",
    "\n",
    "(Discuss this with your partner, before you start googling something like: \"stratification machine learning\")\n",
    "</div>\n",
    "\n",
    "\n",
    "<div class=\"alert alert-block alert-success\">\n",
    "<b>Your Answer:</b> the percentage of different 'target' in train dataset and test dataset is same.\n",
    "</div>\n"
   ]
  },
  {
   "cell_type": "markdown",
   "metadata": {},
   "source": [
    "## 1.4. Cross-Validation\n",
    "\n",
    "Cross validation methods can be classified in:\n",
    "- __exhaustive:__ Data is split in training and validation subsets. All possible ways of dividing the data are explored.  Belonging to this group we will learn:\n",
    "    - Leave One Out Cross-Validation (a special case of the \"Leave-p-out cross-validation\")\n",
    "\n",
    "- __non-exhaustive:__ The method will not compute all possible ways of splitting the data.  Famouse examples are: \n",
    "    - k-fold cross-validation\n",
    "    - Repeated Random Test-Train Splits\n",
    "    - Holdout method"
   ]
  },
  {
   "cell_type": "markdown",
   "metadata": {},
   "source": [
    "## 1.4.1. k-fold Cross-Validation"
   ]
  },
  {
   "cell_type": "markdown",
   "metadata": {},
   "source": [
    "\n",
    "The _k-fold cross-validation_(k-fold CV) method is a resampling method that provides a more accurate estimate of algorithm performance, that means, with less variance than a single train-test set split.  \n",
    "\n",
    "It does this by first splitting the dataset into k groups. Each group of data is called a fold, hence the name k-fold cross-validation.\n",
    "\n",
    "In the image below, you can see that each row represents a fold and each column represents a train and test iteration. For example, in the first iteration (Model 1) the fold 1 will be the test fold and the others the training folds.\n",
    "![Imagen K-fold](Images/K-fold_cross_validation_EN.jpg)\n",
    "\n",
    "The algorithm is then trained and evaluated k times and the performance summarized by taking the mean performance score of all those evaluations.. \n",
    "\n",
    "The algorithm is trained on k − 1 folds of the data and then tested on the kth held back fold. \n",
    "This is repeated so that each of the k folds of the dataset is given a chance to be held back and used as the test set. \n",
    "\n",
    "As such, the number of rows in your training dataset should be divisible by the value of k, to ensure each of the k groups has the same number of rows.  \n",
    "\n",
    "You should choose a value for k that splits the data into folds with enough rows so that each fold is still large enough to be a good representative of the original dataset. However, it should always provide enough folds so that the number of repetitions of the train-test evaluation of the algorithm is sufficient to provide a fair estimate of the performance of the algorithms.\n",
    "\n",
    "For modest sized datasets (hundreds, thousands or tens of thousands of rows), a good default to use is k=3 for a small dataset or k=10 for a larger dataset. A quick way to check if the fold sizes are representative is to calculate summary statistics such as mean and standard deviation and see how much the values differ from the same statistics on the whole dataset.\n",
    "\n",
    "We can calculate the size of each fold as the size of the dataset divided by the number of folds required:  \n",
    "\n",
    "$ \\textrm{fold size} = \\frac{\\textrm{Number of rows}}{\\textrm{k}} = \\frac{\\textrm{Number of rows}}{\\textrm{Number of folds}} = \\frac{count(rows)}{count(folds)} $\n",
    "\n",
    "If the dataset does not cleanly divide by the number of folds, there may be some remainder rows and they will not be used in the split.\n",
    "\n",
    "After running cross-validation, you end up with k different performance scores that you can summarize using a mean and a standard deviation.  \n",
    "\n",
    "The result is a more reliable estimate of the performance of the algorithm on new data. It is more accurate because the algorithm is trained and evaluated multiple times on different data."
   ]
  },
  {
   "cell_type": "markdown",
   "metadata": {},
   "source": [
    "### Exercise 1.4.1.a.:\n",
    "Your job is to implement the K-fold Cross-Validation function from scratch. The rest of the code will be given as a guide.\n",
    "\n",
    "<div class=\"alert alert-block alert-warning\">\n",
    "<b>A little help: </b>\n",
    "<ul>\n",
    "  <li>The function will receive the original dataset and the number of folds that we want to obtain and return a list that contains the k folds (in this case, it should return 4 folds).</li>\n",
    "  <li>We want the partition to be random, so you will probable need to import from the module \"random.py\" (which is part of the Python standard library) the functions seed and randrange. The seed function will allow the result of randrange each time the code is executed to be the same.</li>\n",
    "</ul>\n",
    "</div>"
   ]
  },
  {
   "cell_type": "code",
   "execution_count": 14,
   "metadata": {},
   "outputs": [
    {
     "name": "stdout",
     "output_type": "stream",
     "text": [
      "Quantity of elements that each fold will have:  2\n",
      "[[[7], [9]], [[10], [8]], [[6], [4]], [[1], [5]]]\n"
     ]
    }
   ],
   "source": [
    "# Example of Creating a Cross Validation Split\n",
    "from random import seed\n",
    "from random import randrange\n",
    "from random import shuffle\n",
    "\n",
    "# Split a dataset into k folds\n",
    "def cross_validation_split(dataset, folds):\n",
    "\n",
    "    dataset_split = list() # Creates an empty list in \"dataset_split\"\n",
    "    dataset_copy = list(dataset) # Creates an empty list and copies the dataset in it\n",
    "    fold_size = int(len(dataset) / folds) # Determine the number of elements for each fold\n",
    "    print(\"Quantity of elements that each fold will have: \", fold_size)\n",
    "    # HINT: use a for loop to iterate through the number of folds and use a while loop to populate the individual folds\n",
    "    \n",
    "    #STUDENT CODE HERE\n",
    "    seed(1)\n",
    "    shuffle(dataset_copy)\n",
    "    for i in range(folds):\n",
    "        size=fold_size\n",
    "        data_fold=[]\n",
    "        index=i*fold_size\n",
    "        \n",
    "        while(size):\n",
    "            data_fold.append(dataset_copy[index])\n",
    "            size-=1\n",
    "            index+=1\n",
    "        \n",
    "        dataset_split.append(data_fold)\n",
    "    #STUDENT CODE until HERE\n",
    "    \n",
    "    return dataset_split\n",
    "\n",
    "# test cross validation split\n",
    "seed(1)\n",
    "dataset = [[1], [2], [3], [4], [5], [6], [7], [8], [9], [10]]\n",
    "folds = cross_validation_split(dataset, 4)\n",
    "print(folds)"
   ]
  },
  {
   "cell_type": "markdown",
   "metadata": {},
   "source": [
    "### Exercise 1.4.1.b.:\n",
    "Okay, nice! Now we understood how to create the folds with our own function. But what if I tell you, that there are already enough functions like these out there in the wild? Yep. Usually the machine learning engineer is not coding his own splits but using those existing functions. Therefore let's give this a try and we'll use the pima-indians-diabetes database once again. To see weather our k was chosen well, or weather we should adjust it, calculate the mean and variance of the accuracy. In this excercise we will use linear regression as the model.\n",
    "\n",
    "<div class=\"alert alert-block alert-warning\">\n",
    "Hint1: The function cross_val_score might come in handy: <br> \n",
    "https://scikit-learn.org/stable/modules/generated/sklearn.model_selection.cross_val_score.html\n",
    "<br>\n",
    "<br>\n",
    "Hint2: Use this function for the regression LogisticRegression(solver = 'liblinear')\n",
    "</div>\n"
   ]
  },
  {
   "cell_type": "markdown",
   "metadata": {},
   "source": [
    "<div class=\"alert alert-block alert-success\">\n",
    "<b>Question:</b> What will happen to the accuracy and the variance if k increases?\n",
    "</div>\n",
    "\n",
    "<div class=\"alert alert-block alert-success\">\n",
    "<b>Your Answer: </b> the accuracy don't change much, but the variance increases. \n",
    "</div>\n"
   ]
  },
  {
   "cell_type": "code",
   "execution_count": 15,
   "metadata": {},
   "outputs": [
    {
     "name": "stdout",
     "output_type": "stream",
     "text": [
      "[0.7012987  0.81818182 0.74025974 0.71428571 0.77922078 0.75324675\n",
      " 0.85714286 0.80519481 0.72368421 0.80263158]\n",
      "Accuracy: 76.951% (4.841%)\n"
     ]
    }
   ],
   "source": [
    "# Evaluate using Cross Validation\n",
    "from pandas import read_csv\n",
    "from sklearn.model_selection import KFold\n",
    "from sklearn.model_selection import cross_val_score\n",
    "from sklearn.linear_model import LogisticRegression\n",
    "\n",
    "filename = 'Datasets/pima-indians-diabetes.data.csv'\n",
    "names = ['preg', 'plas', 'pres', 'skin', 'test', 'mass', 'pedi', 'age', 'class']\n",
    "dataframe = read_csv(filename, names=names)\n",
    "array = dataframe.values\n",
    "X = array[:,0:8]\n",
    "Y = array[:,8]\n",
    "\n",
    "#STUDENT CODE HERE\n",
    "seed=1\n",
    "kfold = KFold(n_splits=10, random_state=seed)\n",
    "results=cross_val_score(LogisticRegression(solver='liblinear'), X, Y, cv=kfold)\n",
    "#STUDENT CODE until HERE\n",
    "print(results)\n",
    "\n",
    "print(\"Accuracy: %.3f%% (%.3f%%)\" % (results.mean()*100.0, results.std()*100.0))"
   ]
  },
  {
   "cell_type": "markdown",
   "metadata": {},
   "source": [
    "## 1.5. Choosing a Resampling Method\n",
    "\n",
    "- Generally k-fold cross-validation is the gold standard for evaluating the performance of a machine learning algorithm with k set to 3, 5, or 10.  \n",
    "When well configured, k-fold cross-validation gives a robust estimate of performance compared to other methods such as the train and test split. The downside of cross-validation is that it can be time-consuming to run, requiring k different models to be trained and evaluated. This is a problem if you have a very large dataset or if you are evaluating a model that takes a long time to train.  \n",
    "\n",
    "\n",
    "- The train and test split resampling method is the most widely used. This is because it is easy to understand and implement, and it is good for speed when using a slow algorithm, because only a single model is constructed and evaluated. \n",
    "This method can give a noisy or unreliable estimate of the performance but this becomes less of a problem if you have a very large dataset, when this is the case, it produces lower biases.\n",
    "Large datasets are those in the hundreds of thousands or millions of records, large enough that splitting it in half results in two datasets that have nearly equivalent statistical properties.\n",
    "In such cases, there may be little need to use k-fold cross-validation as an evaluation of the algorithm and a train and test split may be just as reliable.\"\n",
    "\n",
    "\n",
    "- Techniques like leave-one-out cross-validation and repeated random splits can be useful intermediates when trying to balance variance in the estimated performance, model training speed and dataset size.\n",
    "\n",
    "The best advice is to experiment and find a technique for your problem that is fast and produces reasonable estimates of performance that you can use to make decisions. If in doubt, use 10-fold cross-validation."
   ]
  },
  {
   "cell_type": "markdown",
   "metadata": {},
   "source": [
    "# <a name=\"2nd_Part\"></a>2. Performance Metrics for Regression and Classification\n",
    "\n",
    "\n",
    "Metrics are important because during training, we continiously change the machine learning algorithm. We \"stir the pile until the results starts looking right\".\n",
    "\n",
    "\n",
    "A model is a simplified representation of reality. To accomplish this, some unnecessary details have to be removed, in order to focus on the more decisive aspects when interpreting the data. \n",
    "This simplification is based on assumptions about what's important in the data and what should be ignored. However, assumptions that work on one type of problem will not work on a different type of problem.\n",
    "The \"No Free Lunch Theorem\" states that there can't exist a single model that performs best for all types of problems. Therefore in machine learning it is common practice to try different models and the select the one with the best results. Picking the model with the \"best performance\" sounds straightforward, but it turns out that there are many different interpretations of a \"good performance\".\n",
    "If someone says to you: \"Öttinger is the best beer\", the first question should be: On what basis is this statement made? Is it the taste, the styling of the bottle or the foam consistency relevant? Similarly, the metrics used for machine learning models have to be chosen specifically for the given problem, the dataset and the strategy. Hence, it is important to understand the context before choosing a metric. In this chapter we will focus on the metrics used for classification and regression problems. \n",
    "\n"
   ]
  },
  {
   "cell_type": "markdown",
   "metadata": {},
   "source": [
    "## 2.1. Regression Metrics\n",
    "For regression metrics, the Boston House Price dataset is used as demonstration. this is a regression problem where all of the input variables are also numeric. The most import metrics in regressions are __loss functions__.\n",
    "When fitting a function to datapoints, the difference between the actual datapoints and the prediction function's output for these points is taken and processed further.\n",
    "\n",
    "For example, in a 2-D plane, the vertical distance between each actual datapoint $(x_n|y_n)$ and the model function's output to these points $m(x_n)$ is calculated by subtraction of the y-values of the datapoints with the predicted y-values of the model function (3).\n",
    "\n",
    "\\begin{align}\n",
    "d_n & = m(x_n)-y_n \\;\\;\\;\\;\\;\\;\\;\\;\\;\\;\\;        (3)\n",
    "\\end{align}\n",
    "![loss_explanation.png](Images/loss_explanation.png)\n",
    "\n",
    "\n",
    "The more the model function deviates from the given datapoints, the higher the loss. The idea is that a high loss corresponds to a bad model function and a low loss corresponds to a good model function. A training algorithm generally tries to alter the model function such that the loss is minimized.\n",
    "In most cases this is a useful approach, however as one can see in __Overfitting__, the model with the lowest loss might not be the best model for predicting new data."
   ]
  },
  {
   "cell_type": "markdown",
   "metadata": {},
   "source": [
    "### 2.1.1 Mean Absolute Error (MAE)"
   ]
  },
  {
   "cell_type": "markdown",
   "metadata": {},
   "source": [
    "The Mean Absolute Error or MAE is a very simple loss function. It represents the error in the predicted values as compared to the expected values and it gives an idea of how wrong the predictions were. It is calculated as the average of the absolute error values, where absolute means made positive so that they can be added together.\n",
    "\n",
    "Not to be confused with Average absolute deviation\n",
    "\n",
    "\n",
    "It can be calculated as:  \n",
    "$ \\large MAE = \\frac{\\sum_{i=1}^{n}\\left | e_{i}\\right |}{n} = \\frac{\\sum_{i=1}^{n}\\left | y_{i} - x_{i}\\right |}{n} = \\frac{\\sum_{i=1}^{n}\\left | predicted_{i} - actual_{i}\\right |}{total predictions} $\n",
    "\n",
    "\n",
    "\n",
    "![mean_absolute_error.png](Images/mean_absolute_error.png)\n",
    "\n",
    "\n",
    "Or expressed with words, it is the sum of the distances between the predicted value and the true value divided by the number of values.\n",
    "\n",
    "The mean absolute error uses the same scale as the data being measured. This is known as a scale-dependent accuracy measure and therefore cannot be used to make comparisons between series using different scales.\n",
    "A value of 0 indicates no error or perfect predictions.\n",
    "<!---\n",
    "    link: https://en.wikipedia.org/wiki/Mean_absolute_error\n",
    "-->"
   ]
  },
  {
   "cell_type": "code",
   "execution_count": 16,
   "metadata": {},
   "outputs": [
    {
     "name": "stdout",
     "output_type": "stream",
     "text": [
      "MAE =  0.007999999999999993\n"
     ]
    },
    {
     "data": {
      "application/vnd.jupyter.widget-view+json": {
       "model_id": "16bbef66197d404f83ab289e7bfee0aa",
       "version_major": 2,
       "version_minor": 0
      },
      "text/plain": [
       "interactive(children=(FloatSlider(value=0.11, description='pre0', max=0.6, step=0.01), FloatSlider(value=0.19,…"
      ]
     },
     "metadata": {},
     "output_type": "display_data"
    }
   ],
   "source": [
    "import matplotlib.pyplot as plt\n",
    "\n",
    "%matplotlib inline\n",
    "from ipywidgets import interactive #GUI\n",
    "\n",
    "# Example of Calculating Mean Absolute Error\n",
    "\n",
    "# Calculate mean absolute error\n",
    "def mae_metric(actual, predicted):\n",
    "\tsum_error = 0.0\n",
    "\tfor i in range(len(actual)):\n",
    "\t\tsum_error += abs(predicted[i] - actual[i])\n",
    "\treturn sum_error / float(len(actual))\n",
    "\n",
    "# Test RMSE\n",
    "actual = [0.1, 0.2, 0.3, 0.4, 0.5]\n",
    "predicted = [0.11, 0.19, 0.29, 0.41, 0.5]\n",
    "\n",
    "print(\"MAE = \", mae_metric(actual, predicted))\n",
    "\n",
    "#Now we make a plot of the values\n",
    "Eje_X = [0, 1, 2, 3, 4]\n",
    "\n",
    "def f2(pre0=0.11, pre1=0.19, pre2=0.29, pre3=0.41, pre4=0.5):\n",
    "    predicted = [pre0, pre1, pre2, pre3, pre4]\n",
    "    plt.figure(num=None, figsize=(7, 7), dpi=100, facecolor='w', edgecolor='k')\n",
    "    actual_plt = plt.scatter(Eje_X, actual)\n",
    "    predicted_plt = plt.scatter(Eje_X, predicted)\n",
    "   \n",
    "    #The following section draws the line between actual and predicted values.\n",
    "    for x in range(len(actual)):\n",
    "        plt.plot([x, x], [actual[x], predicted[x]], color = 'g')\n",
    "    \n",
    "    plt.ylim(0, 0.6)\n",
    "    \n",
    "    plt.legend((actual_plt, predicted_plt), ('Actual', 'Predicted'), loc='lower right')\n",
    "    plt.show()\n",
    "   \n",
    "    \n",
    "interactive_plot = interactive(f2, \n",
    "                                pre0=(0.0, 0.6, 0.01), \n",
    "                                pre1=(0.0, 0.6, 0.01), \n",
    "                                pre2=(0.0, 0.6, 0.01), \n",
    "                                pre3=(0.0, 0.6, 0.01), \n",
    "                                pre4=(0.0, 0.6, 0.01))\n",
    "output = interactive_plot.children[-1]\n",
    "interactive_plot"
   ]
  },
  {
   "cell_type": "markdown",
   "metadata": {},
   "source": [
    "The green lines represent the distance between the predicted and real value, the lenght of wich should be summed up and divided by n to obtain the MAE."
   ]
  },
  {
   "cell_type": "markdown",
   "metadata": {},
   "source": [
    "### Exercise 2.1.1.a :\n",
    "\n",
    "In this exercise we will use the Boston Housing dataset. Information about the features can be found at the following link (https://www.kaggle.com/c/boston-housing). You need to build a linear regression model to estimate the value of the houses. Then compute the MAE of the model and the standard deviation of the MAE.\n",
    "\n",
    "\n",
    "<div class=\"alert alert-block alert-warning\">\n",
    "<b>Use the following instructions:</b> \n",
    "<ul>\n",
    "  <li>__Dataset:__ housings.csv in the dataset-folder https://www.kaggle.com/c/boston-housing</li>\n",
    "  <li>__Target:__ housings.csv in the dataset-folder</li>\n",
    "  <li>__Resampling method:__ k-fold, 10 folds. (https://scikit-learn.org/stable/modules/generated/sklearn.model_selection.KFold.html)</li>\n",
    "  <li>__Model:__ Linear Regression</li>\n",
    "  <li>__Metric:__ MAE Hint: Use the method: cross_val_score (https://scikit-learn.org/stable/modules/generated/sklearn.model_selection.cross_val_score.html) and the scoring parameter. A list of all possible scoring parameter can be found here: https://scikit-learn.org/stable/modules/model_evaluation.html\n",
    "</li>\n",
    "</ul>\n",
    "</div>\n",
    "\n",
    "## Solution of Exercise 2.1.1.a.:"
   ]
  },
  {
   "cell_type": "code",
   "execution_count": 26,
   "metadata": {},
   "outputs": [
    {
     "name": "stdout",
     "output_type": "stream",
     "text": [
      "[ -2.01386343  -3.23468885  -3.17661815  -4.62367317  -4.08110553\n",
      "  -3.68156495  -2.61803984 -10.41274761  -7.33513742  -2.90633922]\n",
      "-4.408377817644422\n",
      "2.437006388479549\n",
      "-0.1936151164963852\n"
     ]
    }
   ],
   "source": [
    "# Cross Validation Regression MAE\n",
    "from pandas import read_csv\n",
    "from sklearn.model_selection import KFold\n",
    "from sklearn.model_selection import cross_val_score\n",
    "from sklearn.linear_model import LinearRegression\n",
    "\n",
    "#STUDENT CODE HERE\n",
    "from sklearn.metrics import mean_absolute_error\n",
    "filename = 'Datasets/train_housing.csv'\n",
    "dataframe = read_csv(filename)\n",
    "Dataset_index=['crim', 'zn', 'indus', 'chas', 'nox', 'rm', 'age', 'dis', 'rad', 'tax', 'ptratio', 'black', 'lstat']\n",
    "Dataset=dataframe[Dataset_index]\n",
    "array=dataframe.values\n",
    "#Dataset=array[:,0:13]\n",
    "Target=dataframe['medv']\n",
    "#print(Target)\n",
    "#print(array[:,13])\n",
    "#print(Dataset)\n",
    "seed=1\n",
    "kfold = KFold(n_splits=10, random_state=seed)\n",
    "results=cross_val_score(LinearRegression(), Dataset, Target, cv=kfold, scoring='neg_mean_absolute_error')\n",
    "print(results)\n",
    "print(results.mean())\n",
    "print(results.std())\n",
    "print(results.mean()/Target.mean())\n",
    "#STUDENT CODE until HERE"
   ]
  },
  {
   "cell_type": "markdown",
   "metadata": {},
   "source": [
    "<div class=\"alert alert-block alert-success\">\n",
    "<b>Question:</b> How big is the MAE and standard deviation of the MAE.\n",
    "\n",
    "<b><p>Your Answer:</b></p> the MAE is [ -2.01386343  -3.23468885  -3.17661815  -4.62367317  -4.08110553\n",
    "  -3.68156495  -2.61803984 -10.41274761  -7.33513742  -2.90633922] <br>\n",
    "  the standard deviation of the MAE is 2.437006388479549 \n",
    "</div>"
   ]
  },
  {
   "cell_type": "markdown",
   "metadata": {},
   "source": [
    "<div class=\"alert alert-block alert-success\">\n",
    "<b>Question:</b> According to this MAE metric: Are the predictions good or bad? How can you tell?\n",
    "\n",
    "<b><p>Your Answer:</b></p> the mean of deviation between prediction and actual value is only 20 percentage.\n",
    "</div>"
   ]
  },
  {
   "cell_type": "markdown",
   "metadata": {},
   "source": [
    "### 2.1.2. Mean Squared Error (MSE)\n",
    "\n",
    "Mean Squared Error and Root Mean Squared Error are two metrics strongly related to another.\n",
    "\n",
    "The expression for MSE is:\n",
    "\n",
    "$ \\large MSE = \\frac{\\sum_{i=1}^{n} \\left (  predicted_{i} - actual_{i}  \\right )^{2} }{allpredictions} $\n",
    "\n",
    "![mean_squared_error.png](Images/mean_squared_error.png)\n",
    "\n",
    "The mean square error (or MSE) is similar to the mean absolute error because it gives a rough idea of the size of the error.  \n",
    "\n",
    "When calculating MSE, squaring each error forces the values to be positive.\n",
    "\n",
    "### 2.1.3. MAE vs. MSE\n",
    "\n",
    "Both MAE and RMSE express average model prediction error in units of the variable of interest. Both metrics can range from 0 to ∞ and are indifferent to the direction of errors. They are negatively-oriented scores, which means lower values are better.\n",
    "\n",
    "The RMSE gives a relatively high weight to large errors. This means the RMSE should be more useful when large errors are particularly undesirable.\n",
    "\n",
    "Let’s understand the above statement with the two examples:\n",
    "\n",
    "<font color='green'>__Case 1:__</font> Actual Values = [2,4,6,8] , Predicted Values = [3,5,7,9]\n",
    "\n",
    "<font color='red'>__Case 2:__</font>Actual Values = [2,4,6,8] , Predicted Values = [3,5,7,11]\n",
    "\n",
    "Regarding <font color='green'>__Case 1:__</font> __MAE__  = 1.0, __MSE__ = 1.0\n",
    "\n",
    "Regarding <font color='red'>__Case 2:__</font> __MAE__  = 1.5, __MSE__ = 3.0\n",
    "\n",
    "<div class=\"alert alert-block alert-info\">\n",
    "<b>Note:</b> However, even after being more complex and biased towards higher deviation, MSE is still the default metric of many models. This is especially true for neural networks, which you will consider later.  Due to the fact that MSE can be easily differentiated, it becomes easier to perform mathematical operations.\n",
    "</div>\n"
   ]
  },
  {
   "cell_type": "markdown",
   "metadata": {},
   "source": [
    "# 2.2. Classification Metrics\n",
    "To get an understanding of how we can measure how well a classifier performs, we will first take a look at a simple two-category problem and analyze in what ways it can be classified correctly or incorrectly. Based on this information, we will be able to derive further, more specific metrics.\n",
    "\n",
    "\n",
    "In this section we will learn for each of these two types of problems, some metrics used to summarize how good the predictions generated by the models are.\n",
    "\n",
    "The metrics that you choose to evaluate your machine learning algorithms are very important.  \n",
    "Choice of metrics influences how the performance of machine learning algorithms is measured and compared. They influence how you weigh the importance of different characteristics in the results and your ultimate choice of which algorithm to choose. In this section you will discover how to select and use different machine learning performance metrics in Python with scikit-learn.\n",
    "\n",
    "This is important as it allows you to tell the difference and select among:\n",
    "- Different transforms of the data used to train the same machine learning model.\n",
    "- Different machine learning models trained on the same data.\n",
    "- Different configurations for a machine learning model trained on the same data.  \n",
    "\n",
    "The most likely scenario you will encounter when employing different algorithm evaluation metrics is one that consists of Logistic Regression for classification and Linear Regression for the regression problems. A 10-fold cross-validation test harness is used as a general rule.\n",
    "\n",
    "https://medium.com/greyatom/performance-metrics-for-classification-problems-in-machine-learning-part-i-b085d432082b\n"
   ]
  },
  {
   "cell_type": "markdown",
   "metadata": {},
   "source": [
    "## 2.2.1. Confusion Matrix"
   ]
  },
  {
   "cell_type": "markdown",
   "metadata": {},
   "source": [
    "![FalsePositive-300x225.png](Images/FalsePositive-300x225.png)\n",
    "\n",
    "\n",
    "A real world condition can be either \"the case\"(positive) or \"not the case\"(negative). Independent of the real conditions, a classifier can also either classify this condition as \"the case\" or \"not the case\", based on the data. This results in four different classification possibilities that can be displayed using the confusion matrix.\n",
    "\n",
    "\n",
    "We will use medical diagnoses of heart disease as an example for illustration. Imagine that we have pre-existing medical data as well as clinical measurements and we want to apply a machine learning method to them to predict whether or not someone will develop heart disease. How do we decide which model one works best with our data?\n",
    "\n",
    "The two coloumns in this confusion matrix correspond to what the machine learning algorithm predicted and the rows correspond to the known truth.\n",
    "This particular case is a binary classification problem, since there are only two categories to choose from _heart disease_ or _does not have heart disease._ Confusion matrices can also be used for more than two categories.\n",
    "\n",
    "Every time a new patient is classified, the confusion matrix is updated and another classification result is added to one of the four fields. We will use these fields to count the occurences of each classification result.\n",
    "\n",
    "![confusion_matrix.png](Images/confusion_matrix.png)\n",
    "\n",
    "\n",
    "\n",
    "The top-left corner contains <font color=darkgreen>__true positives__</font> , these are patients that had heart disease that were correctly identified by the algorithm.  \n",
    "The bottom-right corner contains  <font color=darkgreen>__true negatives__</font> , these are patients that did not have heart disease that were correctly identified by the algorithm.  \n",
    "The bottom-left corner contains <font color=darkred>__false negatives__</font> , these are when a patient has heart disease but the algorithm said they didn't.  \n",
    "lastly the top right hand corner contains <font color=darkred>__false positives__</font> , these are patients that do not have heart disease but the algorithm says they do.\n",
    "\n",
    "We want to have as many true positives as many true negatives as possible, while simultaniously having as little false negatives and false positives as possible. This is a balancing act, since making the classifier more sensitive to heart disease will inevitably result in more false positives, in which the classifier \"sees\" heart disease where there isn't actually any.\n",
    "\n",
    "\n",
    "\n",
    "- False positive rate/ Fall-Out =\n",
    "\n",
    "$ \\frac{\\sum \\textrm{False positive}}{\\sum \\textrm{Actual condition negative}} = 1 - \\frac{\\sum \\textrm{True negative}}{\\sum \\textrm{Actual condition negative}} $\n",
    "\n",
    "The second option, which is based on the specificity, is easier to calculate for more than two classes or dimensions of the matrix.\n",
    "\n",
    "\n",
    "_True positive rate_ and _false positive rate_ are concepts that are closely related to the ROC, which is the topic that we will see below."
   ]
  },
  {
   "cell_type": "markdown",
   "metadata": {},
   "source": [
    "### Exercise 2.2.1.a.:\n",
    "\n",
    "After a model has learned to classify heart-disease, we test it with a dataset we gathered from real patients. The diagnoses of the dataset are described as a list of 0's (no heart disease) and 1's (heart disease). This means that the first 4 patients in this dataset actually had no heart disease, while the last 4 patients did.\n",
    "\n",
    "$$actual = [0,0,0,0,0,1,1,1,1,1]$$\n",
    "\n",
    "\n",
    "Upon feeding the dataset into the model, it gives us this diagnosis predictions:\n",
    "\n",
    "$$predicted = [0,1,1,0,0,1,0,1,1,1]$$\n",
    "\n",
    "Fill the following confusion matrix, replace a, b, c and d by the correspondent counting values, you have to edit the code of the markdown cell. "
   ]
  },
  {
   "cell_type": "markdown",
   "metadata": {},
   "source": [
    "<table class=\"tg table-condensed table-bordered\">\n",
    "  <tr>\n",
    "    <th class=\"tg-c3ow\" colspan=\"2\" rowspan=\"2\"></th>\n",
    "    <th class=\"tg-7btt\" colspan=\"2\">Actual condition (reality)</th>\n",
    "  </tr>\n",
    "  <tr>\n",
    "    <td class=\"tg-c3ow\">Heart Disease</td>\n",
    "    <td class=\"tg-c3ow\">No Heart Disease</td>\n",
    "  </tr>\n",
    "  <tr>\n",
    "      <td class=\"tg-7btt\" rowspan=\"2\"><b>Predicted condition</b></td>\n",
    "    <td class=\"tg-c3ow\">Heart Disease</td>\n",
    "    <td class=\"tg-c3ow\">4</td>\n",
    "    <td class=\"tg-c3ow\">2</td>\n",
    "  </tr>\n",
    "  <tr>\n",
    "    <td class=\"tg-c3ow\">No Heart Disease</td>\n",
    "    <td class=\"tg-c3ow\">1</td>\n",
    "    <td class=\"tg-c3ow\">3</td>\n",
    "  </tr>\n",
    "</table>"
   ]
  },
  {
   "cell_type": "markdown",
   "metadata": {},
   "source": [
    "### Exercise 2.2.1.b.:\n",
    "Now we want to do the same as before, but we do not have a binary classification problem, but a problem with 3 different labels: Cat, Dog and Monkey(Mon).\n",
    "\n",
    "$$actual =    \n",
    "[Dog, Mon, Mon, Mon, Cat]$$\n",
    "$$predicted =  \n",
    "[Cat, Dog, Mon, Mon, Mon]$$ \n",
    "\n",
    "<style type=\"text/css\">\n",
    ".tg  {border-collapse:collapse;border-spacing:0;}\n",
    ".tg td{font-family:Arial, sans-serif;font-size:14px;padding:10px 5px;border-style:solid;border-width:1px;overflow:hidden;word-break:normal;border-color:black;}\n",
    ".tg th{font-family:Arial, sans-serif;font-size:14px;font-weight:normal;padding:10px 5px;border-style:solid;border-width:1px;overflow:hidden;word-break:normal;border-color:black;}\n",
    ".tg .tg-baqh{text-align:center;vertical-align:top}\n",
    ".tg .tg-c3ow{border-color:inherit;text-align:center;vertical-align:top}\n",
    ".tg .tg-7btt{font-weight:bold;border-color:inherit;text-align:center;vertical-align:top}\n",
    "</style>\n",
    "<table class=\"tg table-condensed table-bordered\">\n",
    "  <tr>\n",
    "    <th class=\"tg-c3ow\" colspan=\"2\" rowspan=\"2\"></th>\n",
    "    <th class=\"tg-7btt\" colspan=\"3\">Actual condition (reality)</th>\n",
    "  </tr>\n",
    "  <tr>\n",
    "    <td class=\"tg-c3ow\">Actual Cat</td>\n",
    "    <td class=\"tg-c3ow\">Actual Dog</td>\n",
    "    <td class=\"tg-baqh\">Actual Monkey</td>\n",
    "  </tr>\n",
    "  <tr>\n",
    "    <td class=\"tg-7btt\" rowspan=\"3\">Predicted condition</td>\n",
    "    <td class=\"tg-c3ow\">Predicted Cat</td>\n",
    "    <td class=\"tg-c3ow\">0</td>\n",
    "    <td class=\"tg-c3ow\">1</td>\n",
    "    <td class=\"tg-baqh\">0</td>\n",
    "  </tr>\n",
    "  <tr>\n",
    "    <td class=\"tg-c3ow\">Predicted Dog</td>\n",
    "    <td class=\"tg-c3ow\">0</td>\n",
    "    <td class=\"tg-c3ow\">0</td>\n",
    "    <td class=\"tg-baqh\">1</td>\n",
    "  </tr>\n",
    "  <tr>\n",
    "    <td class=\"tg-baqh\">predicted Monkey</td>\n",
    "    <td class=\"tg-baqh\">1</td>\n",
    "    <td class=\"tg-baqh\">0</td>\n",
    "    <td class=\"tg-baqh\">2</td>\n",
    "  </tr>\n",
    "</table>"
   ]
  },
  {
   "cell_type": "markdown",
   "metadata": {},
   "source": [
    "### Exercise 2.2.1.c.:\n",
    "\n",
    "Confirm your result using the confusion matrix function of scikitlearn. Take a look at the [documentation](https://scikit-learn.org/stable/modules/generated/sklearn.metrics.confusion_matrix.html) and apply this method to the data of Exercise 2.2.3.a. The code should print a matrix in the same form as in the table above. For that, one small additional step is necessary at the end that you have to figure out yourself.\n"
   ]
  },
  {
   "cell_type": "code",
   "execution_count": 62,
   "metadata": {},
   "outputs": [
    {
     "name": "stdout",
     "output_type": "stream",
     "text": [
      "[[4 2]\n",
      " [1 3]]\n"
     ]
    }
   ],
   "source": [
    "from sklearn.metrics import confusion_matrix\n",
    "#STUDENT CODE \n",
    "y_true=[0,0,0,0,0,1,1,1,1,1]\n",
    "y_pred=[0,1,1,0,0,1,0,1,1,1]\n",
    "\n",
    "def exchange_zero_and_one(data_list):\n",
    "    exchange_list=[1 if data_list[i]==0 else 0  for i in range(len(data_list))]\n",
    "    \n",
    "    return exchange_list\n",
    "\n",
    "y_true_e=exchange_zero_and_one(y_true)\n",
    "y_pred_e=exchange_zero_and_one(y_pred)\n",
    "cm = confusion_matrix(y_pred_e, y_true_e)\n",
    "\n",
    "print(cm)\n",
    "\n",
    "\n",
    "\n",
    "\n",
    "#STUDENT CODE until HERE"
   ]
  },
  {
   "cell_type": "markdown",
   "metadata": {},
   "source": [
    "<div class=\"alert alert-block alert-success\">\n",
    "<b>Question:</b> Do the same as in 2.2.1.c but for Exercise 2.2.1.b. (second table cat,dog,monkey)\n",
    "</div>\n",
    "\n"
   ]
  },
  {
   "cell_type": "code",
   "execution_count": 63,
   "metadata": {},
   "outputs": [
    {
     "name": "stdout",
     "output_type": "stream",
     "text": [
      "[[0 1 0]\n",
      " [0 0 1]\n",
      " [1 0 2]]\n"
     ]
    }
   ],
   "source": [
    "#STUDENT CODE HERE\n",
    "\n",
    "y_true=['Dog','Mon','Mon','Mon','Cat']\n",
    "y_pred=['Cat','Dog','Mon','Mon','Mon']\n",
    "\n",
    "cm = confusion_matrix(y_pred, y_true, labels=[\"Cat\", \"Dog\", \"Mon\"])\n",
    "\n",
    "print(cm)\n",
    "\n",
    "#STUDENT CODE until HERE"
   ]
  },
  {
   "cell_type": "markdown",
   "metadata": {},
   "source": [
    "### Exercise 2.2.1.d.:\n",
    "\n",
    "Calculate the confusion matrix for the pima-indians-diabetes dataset sunig train_test_split, test size 0,33, seed 7 and logistic regression.\n",
    "Keep in mind that the last columns of the dataset indicates wether of not the person has diabetes.  \n",
    "1: tested positive for diabetes,  \n",
    "0: tested negative for diabetes"
   ]
  },
  {
   "cell_type": "markdown",
   "metadata": {},
   "source": [
    "### Solution exercise 2.2.1.d.:"
   ]
  },
  {
   "cell_type": "code",
   "execution_count": 3,
   "metadata": {},
   "outputs": [
    {
     "name": "stdout",
     "output_type": "stream",
     "text": [
      "[[141  21]\n",
      " [ 41  51]]\n",
      "Number of people with diabetes:  92\n",
      "Number of people without diabetes:  162\n",
      "True positives:  51\n",
      "True negatives:  141\n",
      "False positives:  21\n",
      "False negatives:  41\n"
     ]
    }
   ],
   "source": [
    "# Cross Validation Classification Confusion Matrix\n",
    "from pandas import read_csv\n",
    "from sklearn.model_selection import train_test_split\n",
    "from sklearn.linear_model import LogisticRegression\n",
    "from sklearn.metrics import confusion_matrix\n",
    "\n",
    "filename = 'Datasets/pima-indians-diabetes.data.csv'\n",
    "names = ['preg', 'plas', 'pres', 'skin', 'test', 'mass', 'pedi', 'age', 'class']\n",
    "dataframe = read_csv(filename, names=names)\n",
    "array = dataframe.values\n",
    "X = array[:,0:8]\n",
    "Y = array[:,8]\n",
    "\n",
    "test_size = 0.33\n",
    "seed = 7\n",
    "\n",
    "#STUDENT CODE HERE\n",
    "#print(X)\n",
    "from numpy.random import seed\n",
    "seed(7)\n",
    "\n",
    "\n",
    "#train model\n",
    "X_train, X_test, Y_train, Y_test = train_test_split(X, Y, test_size=test_size)\n",
    "model = LogisticRegression(solver = 'liblinear')\n",
    "#model= LogisticRegression(solver = 'newton-cg')\n",
    "model.fit(X_train, Y_train)\n",
    "#predict model\n",
    "Y_predicitons=model.predict(X_test)\n",
    "cm = confusion_matrix( Y_test, Y_predicitons)\n",
    "\n",
    "##another method:\n",
    "#train model\n",
    "#train, test = train_test_split(array, test_size=0.33)\n",
    "#train_prepared, train_labels=train[:,0:8], train[:,8]\n",
    "#test_prepared, test_labels=test[:,0:8], test[:,8]\n",
    "#Log_R=LogisticRegression(solver = 'liblinear')\n",
    "#Log_R.fit(train_prepared, train_labels)\n",
    "\n",
    "##predict testset\n",
    "#test_predicitons=Log_R.predict(test_prepared)\n",
    "#cm = confusion_matrix(test_labels, test_predicitons)\n",
    "\n",
    "print(cm) \n",
    "#STUDENT CODE until HERE\n",
    "\n",
    "print(\"Number of people with diabetes: \", cm[1][0]+cm[1][1])\n",
    "print(\"Number of people without diabetes: \", cm[0][0]+cm[0][1])\n",
    "\n",
    "\n",
    "print(\"True positives: \",cm[1][1])\n",
    "print(\"True negatives: \", cm[0][0]) \n",
    "print(\"False positives: \",cm[0][1])\n",
    "print(\"False negatives: \",cm[1][0])\n"
   ]
  },
  {
   "cell_type": "markdown",
   "metadata": {},
   "source": [
    "## 2.2.2.  Accuracy\n",
    "A quick way to evaluate a set of predictions on a classification problem is by using accuracy.\n",
    "Classification accuracy is a ratio of the number of correct predictions out of all predictions that were made. It is usually presented as a percentage between 0% for the worst possible accuracy and 100% for the best possible accuracy.\n",
    "\n",
    "\n",
    "$$ \\textrm{Accuracy} = \\frac{\\textrm{correct predictions}}{\\textrm{total predictions}} = \\frac{ \\color{darkgreen}{\\textrm{TP} + \\textrm{TN}}}{\\color{darkgreen}{\\textrm{TP} + \\textrm{TN}} +\\color{darkred}{\\textrm{FP} + \\textrm{FN}}}$$"
   ]
  },
  {
   "cell_type": "markdown",
   "metadata": {},
   "source": [
    "### Exercise 2.2.2.a.:\n",
    "Suppose we have a dataset of heart disease occurences in middle-aged adults. 10% of the subjects in this dataset have heart disease, while 90% do not. We train a very simple classifier on this dataset. It turns out that the classifier came up with an ingeniously simple, but still accurate strategy: It completely disregards the data you give it and just always predicts \"no heart disease\". What accuracy does this classifier have on this dataset? "
   ]
  },
  {
   "cell_type": "markdown",
   "metadata": {},
   "source": [
    "<div class=\"alert alert-block alert-success\">\n",
    " <b>Your Answer:</b> 90%\n",
    "</div>"
   ]
  },
  {
   "cell_type": "markdown",
   "metadata": {},
   "source": [
    "### Exercise 2.2.2.b.:\n",
    "Describe what the dataset must be like for accuracy to be a potentially useful metric? (A vague description is enough)"
   ]
  },
  {
   "cell_type": "markdown",
   "metadata": {},
   "source": [
    "<div class=\"alert alert-block alert-success\">\n",
    " <b>Your Answer:</b> The ratio of positive element and negative element should be close\n",
    "</div>"
   ]
  },
  {
   "cell_type": "markdown",
   "metadata": {},
   "source": [
    "### Exercise 2.2.2.c.:\n",
    "Write the implementation of the function that calculates the accuracy. By now this should be easy."
   ]
  },
  {
   "cell_type": "code",
   "execution_count": 99,
   "metadata": {},
   "outputs": [
    {
     "name": "stdout",
     "output_type": "stream",
     "text": [
      "[[4 1]\n",
      " [1 4]]\n",
      "0.8\n"
     ]
    }
   ],
   "source": [
    "# Example of calculating classification accuracy\n",
    "# Calculate accuracy percentage between two lists\n",
    "#STUDENT CODE HERE\n",
    "def accuracy_metric(actual, predicted):\n",
    "    cm = confusion_matrix(actual, predicted)\n",
    "    print(cm)\n",
    "    accuracy =(cm[0][0]+cm[1][1])/sum(sum(cm[i]) for i in range(len(cm)))\n",
    "    return accuracy\n",
    "    \n",
    "#STUDENT CODE until HERE\n",
    "\n",
    "\n",
    "# Test accuracy\n",
    "actual = [0,0,0,0,0,1,1,1,1,1]\n",
    "predicted = [0,1,0,0,0,1,0,1,1,1]\n",
    "accuracy = accuracy_metric(actual, predicted)\n",
    "print(accuracy)"
   ]
  },
  {
   "cell_type": "markdown",
   "metadata": {},
   "source": [
    "### Exercise 2.2.2.d.:\n",
    "Now we want to calculate the accuracy but using functions of the library sklearn and working over a dataset.\n",
    "\n",
    "Parameters of the problem:\n",
    "- Dataset: pima-indians-diabetes\n",
    "- Resampling method: k-fold, 10 folds.\n",
    "- Model: Logistic regression, solver: liblinear.\n",
    "\n",
    "\n",
    "The two following links could be useful:  \n",
    "https://scikit-learn.org/stable/modules/generated/sklearn.model_selection.cross_val_score.html  \n",
    "https://scikit-learn.org/stable/modules/model_evaluation.html#common-cases-predefined-values\n",
    "\n",
    "Note: all scores are reported so that they can be sorted in ascending order (largest score is best).  \n",
    "Some evaluation metrics (like mean squared error or log loss) are naturally descending scores (the smallest score is best) and as such are reported as negative by the cross validation.cross val score() function.  \n",
    "This is important to note, because some scores will be reported as negative that by definition can never be negative."
   ]
  },
  {
   "cell_type": "code",
   "execution_count": 25,
   "metadata": {},
   "outputs": [
    {
     "name": "stdout",
     "output_type": "stream",
     "text": [
      "[0.7012987  0.81818182 0.74025974 0.71428571 0.77922078 0.75324675\n",
      " 0.85714286 0.80519481 0.72368421 0.80263158]\n",
      "Accuracy: 76.951% (4.841%)\n"
     ]
    }
   ],
   "source": [
    "from pandas import read_csv\n",
    "from sklearn.model_selection import KFold\n",
    "from sklearn.model_selection import cross_val_score\n",
    "from sklearn.linear_model import LogisticRegression\n",
    "\n",
    "#STUDENT CODE HERE\n",
    "filename = 'Datasets/pima-indians-diabetes.data.csv'\n",
    "names = ['preg', 'plas', 'pres', 'skin', 'test', 'mass', 'pedi', 'age', 'class']\n",
    "dataframe = read_csv(filename, names=names)\n",
    "array = dataframe.values\n",
    "X = array[:,0:8]\n",
    "Y = array[:,8]\n",
    "\n",
    "#STUDENT CODE HERE\n",
    "seed=1\n",
    "kfold = KFold(n_splits=10, random_state=seed)\n",
    "results=cross_val_score(LogisticRegression(solver='liblinear'), X, Y, cv=kfold, scoring='accuracy')\n",
    "#STUDENT CODE until HERE\n",
    "print(results)\n",
    "\n",
    "print(\"Accuracy: %.3f%% (%.3f%%)\" % (results.mean()*100.0, results.std()*100.0))\n",
    "#STUDENT CODE until HERE"
   ]
  },
  {
   "cell_type": "markdown",
   "metadata": {},
   "source": [
    "## 2.2.3 Precision and Recall\n",
    "\n",
    "__Precision__ can be thought of as a measure of how much you can trust the classifier when it outputs \"positive\". If the classifier needs a bold indication before it classifies heart disease, there is a low number of false positives relative to the true positives, resulting in a high percision.\n",
    "\n",
    "If a very precise classifier says that a patient has heart disease, then this will probably be the case. However, since the precise classifier needs a strong indication, there's a lot of patients with heart disease that are left undetected.\n",
    "\n",
    "$$ \\textrm{Precision} = \\frac{\\textrm{true positives}}{\\textrm{predicted positives}} = \\frac{ \\color{darkgreen}{\\textrm{TP} }}{\\color{darkgreen}{\\textrm{TP}} +\\color{darkred}{\\textrm{FP}}}$$\n",
    "\n",
    "\n",
    "__Recall__ or sensitivity describes how good the classifier is in discovering positives. If the classifier is very thin-skinned and already reacts to tiny differences, it will discover most actual positives in the data, leaving only very few false negatives. If a very sensitive classifier says that a patient has heart disease, this may very well not be the case. However, a sensitive classifier will detect heart disease in almost all patients that actually have it. \n",
    "\n",
    "$$ \\textrm{Recall} = \\frac{\\textrm{true positives}}{\\textrm{actual positives}} = \\frac{ \\color{darkgreen}{\\textrm{TP} }}{\\color{darkgreen}{\\textrm{TP}} +\\color{darkred}{\\textrm{FN}}}$$\n",
    "\n",
    "We can conclude that classification is always a balancing act. \n",
    "\n",
    "\n"
   ]
  },
  {
   "cell_type": "markdown",
   "metadata": {},
   "source": [
    "### Exercise 2.2.3.a.:\n",
    "- Would a hospital in a screening process prefer a heart disease classifier with a high precision a or a high recall rate?\n",
    "- What Precision and recall rates does a classifier have on the dataset that always outputs \"no heart disease\"?\n",
    "- What Precision and recall rates would result from a classifier that always outputs \"heart disease\"?\n"
   ]
  },
  {
   "cell_type": "markdown",
   "metadata": {},
   "source": [
    "<div class=\"alert alert-block alert-success\">\n",
    " <b>Your Answer:</b>1.a hospital should prefer a high recall rate. because high recall present low FN, the actual patient is not ignored.<br>           2.with heart disease：precison:0%, recall:0%   without：precison：90%，recall：100%  <br>  3.with heart disease: precision:10%, recall:100%    without: precison：0%， recall：0%\n",
    "                    \n",
    "</div>\n",
    "\n"
   ]
  },
  {
   "cell_type": "markdown",
   "metadata": {},
   "source": [
    "![metrics.jpg](Images/metrics.jpg)"
   ]
  },
  {
   "cell_type": "markdown",
   "metadata": {},
   "source": [
    "## 2.2.4. Classification Report\n",
    "\n",
    "The scikit-learn library provides a convenience report when working on classification problems to give you a quick idea of the accuracy of a model using a number of measures.  \n",
    "The classification report() function displays for each class: \n",
    "- precision: $ \\frac{\\sum \\textrm{True positive}}{\\sum \\textrm{Predicted condition positive}} $ <br><br>\n",
    "- recall: $ \\frac{\\sum \\textrm{True positive}}{\\sum \\textrm{Actual condition positive}} $ <br><br>\n",
    "- F1-score: is another measure of a test's performance. It considers both the precision and the recall of the test. The F1 score reaches its best value at 1 (perfect precision and recall) and worst at 0. <br><br>  \n",
    "- support: The support is the number of samples of the true response that lie in that class. For example, for the next example, 162 would be True positives(141) + False negatives(21) and 92 would be True negatives(51) + False positives(41).\n",
    "\n",
    "The example below demonstrates the report on a binary classification problem."
   ]
  },
  {
   "cell_type": "code",
   "execution_count": 4,
   "metadata": {},
   "outputs": [
    {
     "name": "stdout",
     "output_type": "stream",
     "text": [
      "              precision    recall  f1-score   support\n",
      "\n",
      "         0.0       0.77      0.87      0.82       162\n",
      "         1.0       0.71      0.55      0.62        92\n",
      "\n",
      "   micro avg       0.76      0.76      0.76       254\n",
      "   macro avg       0.74      0.71      0.72       254\n",
      "weighted avg       0.75      0.76      0.75       254\n",
      "\n"
     ]
    }
   ],
   "source": [
    "# Cross Validation Classification Report\n",
    "from pandas import read_csv\n",
    "from sklearn.model_selection import train_test_split\n",
    "from sklearn.linear_model import LogisticRegression\n",
    "from sklearn.metrics import classification_report\n",
    "\n",
    "filename = 'Datasets/pima-indians-diabetes.data.csv'\n",
    "names = ['preg', 'plas', 'pres', 'skin', 'test', 'mass', 'pedi', 'age', 'class']\n",
    "dataframe = read_csv(filename, names=names)\n",
    "array = dataframe.values\n",
    "X = array[:,0:8]\n",
    "Y = array[:,8]\n",
    "\n",
    "test_size = 0.33\n",
    "seed = 7\n",
    "X_train, X_test, Y_train, Y_test = train_test_split(X, Y, test_size=test_size, random_state=seed)\n",
    "model = LogisticRegression(solver = 'liblinear')\n",
    "model.fit(X_train, Y_train)\n",
    "predicted = model.predict(X_test)\n",
    "report = classification_report(Y_test, predicted)\n",
    "\n",
    "print(report)"
   ]
  },
  {
   "cell_type": "markdown",
   "metadata": {},
   "source": [
    "### Exercise 2.2.4.a.:\n",
    "\n",
    "What can you say about the model? Is it a good model? What makes you reach that conclusion?"
   ]
  },
  {
   "cell_type": "markdown",
   "metadata": {},
   "source": [
    "<div class=\"alert alert-block alert-success\">\n",
    " <b>Your Answer:</b> the model is not good, because the different between the recall for 0 and for 1 is large. \n",
    "</div>"
   ]
  },
  {
   "cell_type": "markdown",
   "metadata": {},
   "source": [
    "## 2.2.5. Logarithmic Loss\n",
    "\n",
    "Loss functions for classification just as important as for regression. Although the confusion matrix and the metrics derived from it can provide useful information about the performance of machine learning methods, they are based on discrete events and thus not continous. Backpropagation algorithms however need a differentiable (and thus continous) function to work with. Also, we can use the same algorithms for classification problems as for regression problems, if we give them a loss to minimize. In classification, the most common loss function is Logarithmic loss (or logloss). It evaluates the predictions of probabilities of membership to a given class.  \n",
    "The scalar probability between 0 and 1 can be seen as a measure of confidence for a prediction by an algorithm. \n",
    "Smaller logloss is better with 0 representing a perfect logloss.\n",
    "\n",
    "Additionally, predictions that are incorrect are punished dependent of the confidence of the prediction. If the model predicts that some condition being true is very unlikely (predicted probability < 0.1) the loss gets gets very high if the condition was actually true. (See Fig. )\n",
    "\n",
    "\n",
    "![Imagen K-fold](Images/Log_loss_graph.png)\n"
   ]
  },
  {
   "cell_type": "markdown",
   "metadata": {},
   "source": [
    "# 3. Final exercise:\n",
    "\n",
    "In this exercise you have classification problem for which you want to decide which model to use. Fortunately, someone has already written code that analyzes the famous iris dataset (https://en.wikipedia.org/wiki/Iris_flower_data_set). The analysis includes data visualization and creates the following six models (there is no free lunch!)\n",
    "\n",
    "- Logistic Regression\n",
    "- Linear Discriminant Analysis\n",
    "- k-nearest neighbors\n",
    "- Decision tree classifier\n",
    "- Gaussian Naive Bayes\n",
    "- C-Support Vector Classification\n",
    "\n",
    "<div class=\"alert alert-block alert-warning\">\n",
    "Execute the code and study the output. \n",
    "</div>\n"
   ]
  },
  {
   "cell_type": "code",
   "execution_count": 31,
   "metadata": {},
   "outputs": [
    {
     "name": "stdout",
     "output_type": "stream",
     "text": [
      "(150, 5)\n",
      "    sepal-length  sepal-width  petal-length  petal-width        class\n",
      "0            5.1          3.5           1.4          0.2  Iris-setosa\n",
      "1            4.9          3.0           1.4          0.2  Iris-setosa\n",
      "2            4.7          3.2           1.3          0.2  Iris-setosa\n",
      "3            4.6          3.1           1.5          0.2  Iris-setosa\n",
      "4            5.0          3.6           1.4          0.2  Iris-setosa\n",
      "5            5.4          3.9           1.7          0.4  Iris-setosa\n",
      "6            4.6          3.4           1.4          0.3  Iris-setosa\n",
      "7            5.0          3.4           1.5          0.2  Iris-setosa\n",
      "8            4.4          2.9           1.4          0.2  Iris-setosa\n",
      "9            4.9          3.1           1.5          0.1  Iris-setosa\n",
      "10           5.4          3.7           1.5          0.2  Iris-setosa\n",
      "11           4.8          3.4           1.6          0.2  Iris-setosa\n",
      "12           4.8          3.0           1.4          0.1  Iris-setosa\n",
      "13           4.3          3.0           1.1          0.1  Iris-setosa\n",
      "14           5.8          4.0           1.2          0.2  Iris-setosa\n",
      "15           5.7          4.4           1.5          0.4  Iris-setosa\n",
      "16           5.4          3.9           1.3          0.4  Iris-setosa\n",
      "17           5.1          3.5           1.4          0.3  Iris-setosa\n",
      "18           5.7          3.8           1.7          0.3  Iris-setosa\n",
      "19           5.1          3.8           1.5          0.3  Iris-setosa\n",
      "       sepal-length  sepal-width  petal-length  petal-width\n",
      "count    150.000000   150.000000    150.000000   150.000000\n",
      "mean       5.843333     3.054000      3.758667     1.198667\n",
      "std        0.828066     0.433594      1.764420     0.763161\n",
      "min        4.300000     2.000000      1.000000     0.100000\n",
      "25%        5.100000     2.800000      1.600000     0.300000\n",
      "50%        5.800000     3.000000      4.350000     1.300000\n",
      "75%        6.400000     3.300000      5.100000     1.800000\n",
      "max        7.900000     4.400000      6.900000     2.500000\n",
      "class\n",
      "Iris-setosa        50\n",
      "Iris-versicolor    50\n",
      "Iris-virginica     50\n",
      "dtype: int64\n"
     ]
    },
    {
     "data": {
      "image/png": "[encoded data removed]",
      "text/plain": [
       "<Figure size 432x288 with 4 Axes>"
      ]
     },
     "metadata": {
      "needs_background": "light"
     },
     "output_type": "display_data"
    },
    {
     "data": {
      "image/png": "[encoded data removed]",
      "text/plain": [
       "<Figure size 432x288 with 4 Axes>"
      ]
     },
     "metadata": {
      "needs_background": "light"
     },
     "output_type": "display_data"
    },
    {
     "data": {
      "image/png": "[encoded data removed]",
      "text/plain": [
       "<Figure size 432x288 with 16 Axes>"
      ]
     },
     "metadata": {
      "needs_background": "light"
     },
     "output_type": "display_data"
    },
    {
     "name": "stderr",
     "output_type": "stream",
     "text": [
      "c:\\users\\62490\\anaconda3\\envs\\hands on machine learnen\\lib\\site-packages\\sklearn\\linear_model\\logistic.py:758: ConvergenceWarning: lbfgs failed to converge. Increase the number of iterations.\n",
      "  \"of iterations.\", ConvergenceWarning)\n",
      "c:\\users\\62490\\anaconda3\\envs\\hands on machine learnen\\lib\\site-packages\\sklearn\\linear_model\\logistic.py:758: ConvergenceWarning: lbfgs failed to converge. Increase the number of iterations.\n",
      "  \"of iterations.\", ConvergenceWarning)\n",
      "c:\\users\\62490\\anaconda3\\envs\\hands on machine learnen\\lib\\site-packages\\sklearn\\linear_model\\logistic.py:758: ConvergenceWarning: lbfgs failed to converge. Increase the number of iterations.\n",
      "  \"of iterations.\", ConvergenceWarning)\n"
     ]
    },
    {
     "name": "stdout",
     "output_type": "stream",
     "text": [
      "LR: 0.983333 (0.033333)\n",
      "LDA: 0.975000 (0.038188)\n",
      "KNN: 0.983333 (0.033333)\n",
      "CART: 0.975000 (0.038188)\n",
      "NB: 0.975000 (0.053359)\n",
      "SVM: 0.991667 (0.025000)\n"
     ]
    },
    {
     "data": {
      "image/png": "[encoded data removed]",
      "text/plain": [
       "<Figure size 432x288 with 1 Axes>"
      ]
     },
     "metadata": {
      "needs_background": "light"
     },
     "output_type": "display_data"
    },
    {
     "name": "stdout",
     "output_type": "stream",
     "text": [
      "Model LR: Accuracy: 0.866667 \n",
      "Model: LR\n",
      "[[ 7  0  0]\n",
      " [ 0 10  2]\n",
      " [ 0  2  9]]\n",
      "Classification Report: LR\n",
      "                 precision    recall  f1-score   support\n",
      "\n",
      "    Iris-setosa       1.00      1.00      1.00         7\n",
      "Iris-versicolor       0.83      0.83      0.83        12\n",
      " Iris-virginica       0.82      0.82      0.82        11\n",
      "\n",
      "      micro avg       0.87      0.87      0.87        30\n",
      "      macro avg       0.88      0.88      0.88        30\n",
      "   weighted avg       0.87      0.87      0.87        30\n",
      "\n",
      "Model LDA: Accuracy: 0.966667 \n",
      "Model: LDA\n",
      "[[ 7  0  0]\n",
      " [ 0 11  1]\n",
      " [ 0  0 11]]\n",
      "Classification Report: LDA\n",
      "                 precision    recall  f1-score   support\n",
      "\n",
      "    Iris-setosa       1.00      1.00      1.00         7\n",
      "Iris-versicolor       1.00      0.92      0.96        12\n",
      " Iris-virginica       0.92      1.00      0.96        11\n",
      "\n",
      "      micro avg       0.97      0.97      0.97        30\n",
      "      macro avg       0.97      0.97      0.97        30\n",
      "   weighted avg       0.97      0.97      0.97        30\n",
      "\n",
      "Model KNN: Accuracy: 0.900000 \n",
      "Model: KNN\n",
      "[[ 7  0  0]\n",
      " [ 0 11  1]\n",
      " [ 0  2  9]]\n",
      "Classification Report: KNN\n",
      "                 precision    recall  f1-score   support\n",
      "\n",
      "    Iris-setosa       1.00      1.00      1.00         7\n",
      "Iris-versicolor       0.85      0.92      0.88        12\n",
      " Iris-virginica       0.90      0.82      0.86        11\n",
      "\n",
      "      micro avg       0.90      0.90      0.90        30\n",
      "      macro avg       0.92      0.91      0.91        30\n",
      "   weighted avg       0.90      0.90      0.90        30\n",
      "\n",
      "Model CART: Accuracy: 0.866667 \n",
      "Model: CART\n",
      "[[ 7  0  0]\n",
      " [ 0 10  2]\n",
      " [ 0  2  9]]\n",
      "Classification Report: CART\n",
      "                 precision    recall  f1-score   support\n",
      "\n",
      "    Iris-setosa       1.00      1.00      1.00         7\n",
      "Iris-versicolor       0.83      0.83      0.83        12\n",
      " Iris-virginica       0.82      0.82      0.82        11\n",
      "\n",
      "      micro avg       0.87      0.87      0.87        30\n",
      "      macro avg       0.88      0.88      0.88        30\n",
      "   weighted avg       0.87      0.87      0.87        30\n",
      "\n",
      "Model NB: Accuracy: 0.833333 \n",
      "Model: NB\n",
      "[[7 0 0]\n",
      " [0 9 3]\n",
      " [0 2 9]]\n",
      "Classification Report: NB\n",
      "                 precision    recall  f1-score   support\n",
      "\n",
      "    Iris-setosa       1.00      1.00      1.00         7\n",
      "Iris-versicolor       0.82      0.75      0.78        12\n",
      " Iris-virginica       0.75      0.82      0.78        11\n",
      "\n",
      "      micro avg       0.83      0.83      0.83        30\n",
      "      macro avg       0.86      0.86      0.86        30\n",
      "   weighted avg       0.84      0.83      0.83        30\n",
      "\n",
      "Model SVM: Accuracy: 0.933333 \n",
      "Model: SVM\n",
      "[[ 7  0  0]\n",
      " [ 0 10  2]\n",
      " [ 0  0 11]]\n",
      "Classification Report: SVM\n",
      "                 precision    recall  f1-score   support\n",
      "\n",
      "    Iris-setosa       1.00      1.00      1.00         7\n",
      "Iris-versicolor       1.00      0.83      0.91        12\n",
      " Iris-virginica       0.85      1.00      0.92        11\n",
      "\n",
      "      micro avg       0.93      0.93      0.93        30\n",
      "      macro avg       0.95      0.94      0.94        30\n",
      "   weighted avg       0.94      0.93      0.93        30\n",
      "\n"
     ]
    },
    {
     "name": "stderr",
     "output_type": "stream",
     "text": [
      "c:\\users\\62490\\anaconda3\\envs\\hands on machine learnen\\lib\\site-packages\\sklearn\\linear_model\\logistic.py:758: ConvergenceWarning: lbfgs failed to converge. Increase the number of iterations.\n",
      "  \"of iterations.\", ConvergenceWarning)\n"
     ]
    }
   ],
   "source": [
    "# Load libraries\n",
    "from pandas import read_csv\n",
    "from pandas.plotting import scatter_matrix\n",
    "from matplotlib import pyplot\n",
    "from sklearn.model_selection import train_test_split\n",
    "from sklearn.model_selection import KFold\n",
    "from sklearn.model_selection import cross_val_score\n",
    "from sklearn.metrics import classification_report\n",
    "from sklearn.metrics import confusion_matrix\n",
    "from sklearn.metrics import accuracy_score\n",
    "from sklearn.linear_model import LogisticRegression\n",
    "from sklearn.tree import DecisionTreeClassifier\n",
    "from sklearn.neighbors import KNeighborsClassifier\n",
    "from sklearn.discriminant_analysis import LinearDiscriminantAnalysis\n",
    "from sklearn.naive_bayes import GaussianNB\n",
    "from sklearn.svm import SVC\n",
    "\n",
    "# Load dataset\n",
    "filename = 'Datasets/iris.data.csv'\n",
    "names = ['sepal-length', 'sepal-width', 'petal-length', 'petal-width', 'class']\n",
    "dataset = read_csv(filename, names=names)\n",
    "\n",
    "# Summarize Data\n",
    "\n",
    "# Descriptive statistics\n",
    "# shape\n",
    "print(dataset.shape)\n",
    "# head\n",
    "print(dataset.head(20))\n",
    "# descriptions\n",
    "print(dataset.describe())\n",
    "# class distribution\n",
    "print(dataset.groupby('class').size())\n",
    "\n",
    "# Data visualizations\n",
    "\n",
    "# box and whisker plots\n",
    "dataset.plot(kind='box', subplots=True, layout=(2,2), sharex=False, sharey=False)\n",
    "pyplot.show()\n",
    "# histograms\n",
    "dataset.hist()\n",
    "pyplot.show()\n",
    "# scatter plot matrix\n",
    "scatter_matrix(dataset)\n",
    "pyplot.show()\n",
    "\n",
    "# Prepare Data\n",
    "\n",
    "# Split-out validation dataset\n",
    "array = dataset.values\n",
    "X = array[:,0:4]\n",
    "Y = array[:,4]\n",
    "validation_size = 0.20\n",
    "seed = 7\n",
    "X_train, X_validation, Y_train, Y_validation = train_test_split(X, Y, test_size=validation_size, random_state=seed)\n",
    "\n",
    "# Spot-Check Algorithms\n",
    "models = []\n",
    "models.append(('LR', LogisticRegression(solver = 'lbfgs', multi_class = 'multinomial'))) #These parameters are set to prevent warnings.\n",
    "models.append(('LDA', LinearDiscriminantAnalysis()))\n",
    "models.append(('KNN', KNeighborsClassifier()))\n",
    "models.append(('CART', DecisionTreeClassifier()))\n",
    "models.append(('NB', GaussianNB()))\n",
    "models.append(('SVM', SVC(gamma = 'auto'))) #Parameter set to prevent warnings.\n",
    "\n",
    "# evaluate each model in turn and prints Accuracy\n",
    "results = []\n",
    "names = []\n",
    "for name, model in models:\n",
    "\tkfold = KFold(n_splits=10, random_state=seed)\n",
    "\tcv_results = cross_val_score(model, X_train, Y_train, cv=kfold, scoring='accuracy')\n",
    "\tresults.append(cv_results)\n",
    "\tnames.append(name)\n",
    "\tmsg = \"%s: %f (%f)\" % (name, cv_results.mean(), cv_results.std())\n",
    "\tprint(msg) # Prints accuracy\n",
    "\n",
    "# Compare Algorithms\n",
    "fig = pyplot.figure()\n",
    "fig.suptitle('Algorithm Comparison')\n",
    "ax = fig.add_subplot(111)\n",
    "pyplot.boxplot(results)\n",
    "ax.set_xticklabels(names)\n",
    "pyplot.show()\n",
    "\n",
    "for name, model in models:\n",
    "    model.fit(X_train, Y_train)\n",
    "    predictions= model.predict(X_validation)\n",
    "    print(\"Model %s: Accuracy: %f \" % (name, accuracy_score(Y_validation, predictions)))\n",
    "    print(\"Model: \" + name)\n",
    "    print(confusion_matrix(Y_validation, predictions))\n",
    "    print(\"Classification Report: \" + name)\n",
    "    print(classification_report(Y_validation, predictions))"
   ]
  },
  {
   "cell_type": "markdown",
   "metadata": {},
   "source": [
    "<div class=\"alert alert-block alert-success\">\n",
    "<b>Question:</b> Which algorithm would they choose. Explain your answer! \n",
    "\n",
    "<b><p>Your Answer:</b></p> LDA is the best choose, all evaluation parameter is very high\n",
    "</div>"
   ]
  },
  {
   "cell_type": "markdown",
   "metadata": {},
   "source": [
    "<div class=\"alert alert-block alert-success\">\n",
    "<b>Feedback Box:</b> What was good/bad about the task. Was the exercise too time consuming? How long did it take you to complete the task? Tell us.\n",
    "\n",
    "<b><p>Your Answer:</b></p> 15h\n",
    "</div>"
   ]
  },
  {
   "cell_type": "code",
   "execution_count": null,
   "metadata": {},
   "outputs": [],
   "source": []
  }
 ],
 "metadata": {
  "kernelspec": {
   "display_name": "Python 3",
   "language": "python",
   "name": "python3"
  },
  "language_info": {
   "codemirror_mode": {
    "name": "ipython",
    "version": 3
   },
   "file_extension": ".py",
   "mimetype": "text/x-python",
   "name": "python",
   "nbconvert_exporter": "python",
   "pygments_lexer": "ipython3",
   "version": "3.7.3"
  },
  "toc": {
   "base_numbering": 1,
   "nav_menu": {
    "height": "886.997px",
    "width": "304.983px"
   },
   "number_sections": true,
   "sideBar": true,
   "skip_h1_title": false,
   "title_cell": "Table of Contents",
   "title_sidebar": "Contents",
   "toc_cell": false,
   "toc_position": {
    "height": "calc(100% - 180px)",
    "left": "10px",
    "top": "150px",
    "width": "165px"
   },
   "toc_section_display": true,
   "toc_window_display": true
  }
 },
 "nbformat": 4,
 "nbformat_minor": 2
}
